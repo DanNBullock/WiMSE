{
 "cells": [
  {
   "cell_type": "markdown",
   "metadata": {},
   "source": [
    "To begin to explore our tractography model, we first have to load the fibergroup.  There are several different file standards for storing tractography including .tck, .trk and .fg.  Despite their differences, they are alike in that they are composed of some finite number of streamlines.   "
   ]
  },
  {
   "cell_type": "code",
   "execution_count": 2,
   "metadata": {},
   "outputs": [
    {
     "name": "stdout",
     "output_type": "stream",
     "text": [
      "[600000]\n"
     ]
    }
   ],
   "source": [
    "import nibabel as nib\n",
    "import numpy as np\n",
    "\n",
    "# load the tractography file into the streamsObjIN variable\n",
    "streamsObjIN=nib.streamlines.load('/Users/plab/Downloads/5c5d35e2f5d2a10052842847/track.tck')\n",
    "\n",
    "# determine the number of streamlines\n",
    "print(list(np.shape(streamsObjIN.tractogram.streamlines)))\n"
   ]
  },
  {
   "cell_type": "markdown",
   "metadata": {},
   "source": [
    "Above we see the total number of streamlines contained within this tractogram.  Typically we would want a million or more in order to adequately cover the entire white matter of the brain.  Here though, we are working with a smaller number as it is easier to use in a notebook.\n",
    "\n",
    "Lets plot two of these streamlines so we can get a sense of what streamlines look like when visualized"
   ]
  },
  {
   "cell_type": "code",
   "execution_count": 4,
   "metadata": {},
   "outputs": [
    {
     "ename": "ImportError",
     "evalue": "cannot import name 'window' from 'dipy.viz' (/Users/plab/anaconda/envs/currpy/lib/python3.7/site-packages/dipy/viz/__init__.py)",
     "output_type": "error",
     "traceback": [
      "\u001b[0;31m---------------------------------------------------------------------------\u001b[0m",
      "\u001b[0;31mImportError\u001b[0m                               Traceback (most recent call last)",
      "\u001b[0;32m<ipython-input-4-dbcae4ae97f4>\u001b[0m in \u001b[0;36m<module>\u001b[0;34m\u001b[0m\n\u001b[0;32m----> 1\u001b[0;31m \u001b[0;32mfrom\u001b[0m \u001b[0mdipy\u001b[0m\u001b[0;34m.\u001b[0m\u001b[0mviz\u001b[0m \u001b[0;32mimport\u001b[0m \u001b[0mwindow\u001b[0m\u001b[0;34m,\u001b[0m \u001b[0mactor\u001b[0m\u001b[0;34m,\u001b[0m \u001b[0mcolormap\u001b[0m \u001b[0;32mas\u001b[0m \u001b[0mcmap\u001b[0m\u001b[0;34m\u001b[0m\u001b[0;34m\u001b[0m\u001b[0m\n\u001b[0m\u001b[1;32m      2\u001b[0m \u001b[0;34m\u001b[0m\u001b[0m\n\u001b[1;32m      3\u001b[0m \u001b[0;31m# Enables/disables interactive visualization\u001b[0m\u001b[0;34m\u001b[0m\u001b[0;34m\u001b[0m\u001b[0;34m\u001b[0m\u001b[0m\n\u001b[1;32m      4\u001b[0m \u001b[0minteractive\u001b[0m \u001b[0;34m=\u001b[0m \u001b[0;32mTrue\u001b[0m\u001b[0;34m\u001b[0m\u001b[0;34m\u001b[0m\u001b[0m\n\u001b[1;32m      5\u001b[0m \u001b[0;34m\u001b[0m\u001b[0m\n",
      "\u001b[0;31mImportError\u001b[0m: cannot import name 'window' from 'dipy.viz' (/Users/plab/anaconda/envs/currpy/lib/python3.7/site-packages/dipy/viz/__init__.py)"
     ]
    }
   ],
   "source": [
    "from dipy.viz import window, actor, colormap as cmap\n",
    "\n",
    "# Enables/disables interactive visualization\n",
    "interactive = True\n",
    "\n",
    "firstTwoStreamline=streamsObjIN.tractogram.streamlines[1:2]\n",
    "\n",
    "\n",
    "\n",
    "\n",
    "# Make display objects\n",
    "color = cmap.line_colors(firstTwoStreamline)\n",
    "cc_streamlines_actor = actor.line(firstTwoStreamline,\n",
    "                                  cmap.line_colors(firstTwoStreamline))\n",
    "\n",
    "\n",
    "vol_actor = actor.slicer(t1_data)\n",
    "\n",
    "vol_actor.display(x=40)\n",
    "vol_actor2 = vol_actor.copy()\n",
    "vol_actor2.display(z=35)\n",
    "\n",
    "# Add display objects to canvas\n",
    "r = window.Renderer()\n",
    "r.add(vol_actor)\n",
    "r.add(vol_actor2)\n",
    "r.add(cc_streamlines_actor)\n",
    "r.add(cc_ROI_actor)"
   ]
  },
  {
   "cell_type": "markdown",
   "metadata": {},
   "source": [
    "Now that we have seen two of these, lets get a more comprehensive feel by plotting all of them ast the same time."
   ]
  },
  {
   "cell_type": "code",
   "execution_count": null,
   "metadata": {},
   "outputs": [],
   "source": [
    "from dipy.viz import window, actor, colormap as cmap\n",
    "\n",
    "# Enables/disables interactive visualization\n",
    "interactive = True\n",
    "\n",
    "firstTwoStreamline=streamsObjIN.tractogram.streamlines[1:2]\n",
    "\n",
    "\n",
    "\n",
    "\n",
    "# Make display objects\n",
    "color = cmap.line_colors(firstTwoStreamline)\n",
    "cc_streamlines_actor = actor.line(firstTwoStreamline,\n",
    "                                  cmap.line_colors(firstTwoStreamline))\n",
    "\n",
    "\n",
    "vol_actor = actor.slicer(t1_data)\n",
    "\n",
    "vol_actor.display(x=40)\n",
    "vol_actor2 = vol_actor.copy()\n",
    "vol_actor2.display(z=35)\n",
    "\n",
    "# Add display objects to canvas\n",
    "r = window.Renderer()\n",
    "r.add(vol_actor)\n",
    "r.add(vol_actor2)\n",
    "r.add(cc_streamlines_actor)\n",
    "r.add(cc_ROI_actor)"
   ]
  },
  {
   "cell_type": "markdown",
   "metadata": {},
   "source": [
    "Thats quite a mess!  As it turns out there are really only a limited number of quantative assesments that can be applied directly to a tractography object.  One of these is a consideration of the collective lengths of streamlines contained within the tractogram"
   ]
  },
  {
   "cell_type": "code",
   "execution_count": null,
   "metadata": {
    "scrolled": true
   },
   "outputs": [],
   "source": [
    "import matplotlib.pyplot as plt\n",
    "%matplotlib inline\n",
    "plt.hist(lengths, bins=200)\n",
    "\n",
    "plt.xlabel('Streamline Length')\n",
    "plt.ylabel('Number of Streamlines')\n",
    "plt.title('Distribution of Streamline Lengths')"
   ]
  },
  {
   "cell_type": "markdown",
   "metadata": {},
   "source": [
    "DISCUSS RELEVANCE OF STREAMLNIE DISTRIBUTION\n",
    "\n",
    "However, if we "
   ]
  }
 ],
 "metadata": {
  "anaconda-cloud": {},
  "kernelspec": {
   "display_name": "Python 3",
   "language": "python",
   "name": "python3"
  },
  "language_info": {
   "codemirror_mode": {
    "name": "ipython",
    "version": 3
   },
   "file_extension": ".py",
   "mimetype": "text/x-python",
   "name": "python",
   "nbconvert_exporter": "python",
   "pygments_lexer": "ipython3",
   "version": "3.7.5"
  }
 },
 "nbformat": 4,
 "nbformat_minor": 1
}
