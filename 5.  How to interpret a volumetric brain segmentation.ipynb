{
 "cells": [
  {
   "cell_type": "markdown",
   "metadata": {},
   "source": [
    "Now for parcellations.  How do they work.  Begin with 2d map metaphor"
   ]
  },
  {
   "cell_type": "code",
   "execution_count": 48,
   "metadata": {},
   "outputs": [],
   "source": [
    "#Path to the repo for this project\n",
    "repoPath='/Users/plab/Documents/ipynb/'\n",
    "\n",
    "import nibabel as nib\n",
    "atlasPath='/Users/plab/Documents/JupyerData/proj-5941a225f876b000210c11e5/sub-100206/dt-neuro-freesurfer.tag-v5.id-5967bffa9b45c212bbec8958/output/label/aparc.a2009s+aseg.nii.gz'\n",
    "atlasImg = nib.load(atlasPath)\n",
    "\n",
    "import nibabel as nib\n",
    "img = nib.load('/Users/plab/Documents/JupyerData/proj-5c50b6f12daf2e0032f880eb/sub-100206/dt-neuro-anat-t1w.tag-acpc_aligned.tag-brain_extracted.id-5c57072befbc2800526291bb/t1.nii.gz')"
   ]
  },
  {
   "cell_type": "code",
   "execution_count": 25,
   "metadata": {
    "scrolled": true
   },
   "outputs": [
    {
     "name": "stdout",
     "output_type": "stream",
     "text": [
      "<class 'nibabel.nifti1.Nifti1Header'> object, endian='<'\n",
      "sizeof_hdr      : 348\n",
      "data_type       : b''\n",
      "db_name         : b''\n",
      "extents         : 0\n",
      "session_error   : 0\n",
      "regular         : b''\n",
      "dim_info        : 0\n",
      "dim             : [  3 256 256 256   1   1   1   1]\n",
      "intent_p1       : 0.0\n",
      "intent_p2       : 0.0\n",
      "intent_p3       : 0.0\n",
      "intent_code     : none\n",
      "datatype        : int32\n",
      "bitpix          : 32\n",
      "slice_start     : 0\n",
      "pixdim          : [-1.   1.   1.   1.   2.4  1.   1.   1. ]\n",
      "vox_offset      : 0.0\n",
      "scl_slope       : nan\n",
      "scl_inter       : nan\n",
      "slice_end       : 0\n",
      "slice_code      : unknown\n",
      "xyzt_units      : 10\n",
      "cal_max         : 0.0\n",
      "cal_min         : 0.0\n",
      "slice_duration  : 0.0\n",
      "toffset         : 0.0\n",
      "glmax           : 0\n",
      "glmin           : 0\n",
      "descrip         : b'FreeSurfer Jan 18 2017'\n",
      "aux_file        : b''\n",
      "qform_code      : scanner\n",
      "sform_code      : scanner\n",
      "quatern_b       : 0.0\n",
      "quatern_c       : 0.70710677\n",
      "quatern_d       : -0.70710677\n",
      "qoffset_x       : 127.0\n",
      "qoffset_y       : -145.5\n",
      "qoffset_z       : 147.0\n",
      "srow_x          : [ -1.   0.   0. 127.]\n",
      "srow_y          : [   0.     0.     1.  -145.5]\n",
      "srow_z          : [  0.  -1.   0. 147.]\n",
      "intent_name     : b''\n",
      "magic           : b'n+1'\n"
     ]
    }
   ],
   "source": [
    "atlasHeader = atlasImg.header\n",
    "print(atlasHeader)  "
   ]
  },
  {
   "cell_type": "code",
   "execution_count": 26,
   "metadata": {},
   "outputs": [
    {
     "name": "stdout",
     "output_type": "stream",
     "text": [
      "Data dimensions\n",
      "(How many data entries in each dimension)\n",
      "(256, 256, 256)\n"
     ]
    }
   ],
   "source": [
    "atlasDataDimensions=atlasImg.shape\n",
    "print('Data dimensions')\n",
    "print('(How many data entries in each dimension)')\n",
    "print(atlasDataDimensions)"
   ]
  },
  {
   "cell_type": "code",
   "execution_count": 27,
   "metadata": {},
   "outputs": [
    {
     "name": "stdout",
     "output_type": "stream",
     "text": [
      "Voxel dimensions (in mm)\n",
      "(1.0, 1.0, 1.0)\n"
     ]
    }
   ],
   "source": [
    "print('Voxel dimensions (in mm)' )\n",
    "print(atlasImg.header.get_zooms())\n",
    "voxelDims=atlasImg.header.get_zooms()\n"
   ]
  },
  {
   "cell_type": "code",
   "execution_count": 28,
   "metadata": {},
   "outputs": [
    {
     "name": "stdout",
     "output_type": "stream",
     "text": [
      "How much space does this representation correspond to?\n",
      "\n",
      "256.0 mm by 256.0 mm by 256.0 mm\n"
     ]
    }
   ],
   "source": [
    "print('How much space does this representation correspond to?')\n",
    "print('')\n",
    "print(f'{atlasDataDimensions[0]*voxelDims[0]} mm by {atlasDataDimensions[1]*voxelDims[1]} mm by {atlasDataDimensions[2]*voxelDims[2]} mm' )"
   ]
  },
  {
   "cell_type": "code",
   "execution_count": 46,
   "metadata": {},
   "outputs": [
    {
     "name": "stdout",
     "output_type": "stream",
     "text": [
      "Number of unique labels in this atlas\n",
      "\n",
      "[    0     2     4     5     7     8    10    11    12    13    14    15\n",
      "    16    17    18    24    26    28    30    31    41    43    44    46\n",
      "    47    49    50    51    52    53    54    58    60    62    63    77\n",
      "    80    85   251   252   253   254   255  1000  2000 11101 11102 11103\n",
      " 11104 11105 11106 11107 11108 11109 11110 11111 11112 11113 11114 11115\n",
      " 11116 11117 11118 11119 11120 11121 11122 11123 11124 11125 11126 11127\n",
      " 11128 11129 11130 11131 11132 11133 11134 11135 11136 11137 11138 11139\n",
      " 11140 11141 11143 11144 11145 11146 11147 11148 11149 11150 11151 11152\n",
      " 11153 11154 11155 11156 11157 11158 11159 11160 11161 11162 11163 11164\n",
      " 11165 11166 11167 11168 11169 11170 11171 11172 11173 11174 11175 12101\n",
      " 12102 12103 12104 12105 12106 12107 12108 12109 12110 12111 12112 12113\n",
      " 12114 12115 12116 12117 12118 12119 12120 12121 12122 12123 12124 12125\n",
      " 12126 12127 12128 12129 12130 12131 12132 12133 12134 12135 12136 12137\n",
      " 12138 12139 12140 12141 12143 12144 12145 12146 12147 12148 12149 12150\n",
      " 12151 12152 12153 12154 12155 12156 12157 12158 12159 12160 12161 12162\n",
      " 12163 12164 12165 12166 12167 12168 12169 12170 12171 12172 12173 12174\n",
      " 12175]\n"
     ]
    }
   ],
   "source": [
    "import numpy as np\n",
    "atlasData = atlasImg.get_fdata()\n",
    "print('Number of unique labels in this atlas')\n",
    "print('')\n",
    "#set the print option so it isn't printing in scientific notation\n",
    "np.set_printoptions(suppress=True)\n",
    "\n",
    "uniqueAtlasEntries=np.unique(atlasData).astype(int)\n",
    "\n",
    "print(uniqueAtlasEntries)\n"
   ]
  },
  {
   "cell_type": "markdown",
   "metadata": {},
   "source": [
    "What do these values mean?  Previously, when considering multi object maps/parcellations we noted that a parcellation is only really useful if we know the categories/framework the parcellations are mapping.  The parcellation we have loaded here is from the popular software program **Freesurfer** [citation].  This a complex peice of software which takes a T1 image as an input, and outputs a parcellation of the brain into known and labeled areas.  Freesurfer's website has a page which lists all of the possible mapping outputs that this program could produce [https://surfer.nmr.mgh.harvard.edu/fswiki/FsTutorial/AnatomicalROI/FreeSurferColorLUT].  Lets load the data contained in that website (from a csv) and consider the names of the regions that we have labeled here."
   ]
  },
  {
   "cell_type": "code",
   "execution_count": 70,
   "metadata": {},
   "outputs": [
    {
     "name": "stdout",
     "output_type": "stream",
     "text": [
      "       #No.                   LabelName:    R    G    B  A\n",
      "0         0                      Unknown    0    0    0  0\n",
      "1         1       Left-Cerebral-Exterior   70  130  180  0\n",
      "2         2   Left-Cerebral-White-Matter  245  245  245  0\n",
      "3         3         Left-Cerebral-Cortex  205   62   78  0\n",
      "4         4       Left-Lateral-Ventricle  120   18  134  0\n",
      "...     ...                          ...  ...  ...  ... ..\n",
      "1287  14171           wm_rh_S_suborbital   21   20   60  0\n",
      "1288  14172          wm_rh_S_subparietal  101   60   60  0\n",
      "1289  14173         wm_rh_S_temporal_inf   21  180  180  0\n",
      "1290  14174         wm_rh_S_temporal_sup  223  220   60  0\n",
      "1291  14175  wm_rh_S_temporal_transverse  221   60   60  0\n",
      "\n",
      "[1292 rows x 6 columns]\n",
      "0           0\n",
      "1           1\n",
      "2           2\n",
      "3           3\n",
      "4           4\n",
      "        ...  \n",
      "1287    14171\n",
      "1288    14172\n",
      "1289    14173\n",
      "1290    14174\n",
      "1291    14175\n",
      "Name: #No., Length: 1292, dtype: int64\n",
      "[0]\n"
     ]
    },
    {
     "ename": "TypeError",
     "evalue": "only integer scalar arrays can be converted to a scalar index",
     "output_type": "error",
     "traceback": [
      "\u001b[0;31m---------------------------------------------------------------------------\u001b[0m",
      "\u001b[0;31mTypeError\u001b[0m                                 Traceback (most recent call last)",
      "\u001b[0;32m<ipython-input-70-71a2ab628bad>\u001b[0m in \u001b[0;36m<module>\u001b[0;34m\u001b[0m\n\u001b[1;32m     19\u001b[0m     \u001b[0mcurrentIndex\u001b[0m\u001b[0;34m=\u001b[0m\u001b[0mnp\u001b[0m\u001b[0;34m.\u001b[0m\u001b[0margwhere\u001b[0m\u001b[0;34m(\u001b[0m\u001b[0mFSTable\u001b[0m\u001b[0;34m.\u001b[0m\u001b[0miloc\u001b[0m\u001b[0;34m[\u001b[0m\u001b[0;34m:\u001b[0m\u001b[0;34m,\u001b[0m\u001b[0;36m0\u001b[0m\u001b[0;34m]\u001b[0m\u001b[0;34m==\u001b[0m\u001b[0miUniqueVals\u001b[0m\u001b[0;34m)\u001b[0m\u001b[0;34m\u001b[0m\u001b[0;34m\u001b[0m\u001b[0m\n\u001b[1;32m     20\u001b[0m     \u001b[0mprint\u001b[0m\u001b[0;34m(\u001b[0m\u001b[0mcurrentIndex\u001b[0m\u001b[0;34m[\u001b[0m\u001b[0;36m0\u001b[0m\u001b[0;34m]\u001b[0m\u001b[0;34m.\u001b[0m\u001b[0mastype\u001b[0m\u001b[0;34m(\u001b[0m\u001b[0mint\u001b[0m\u001b[0;34m)\u001b[0m\u001b[0;34m)\u001b[0m\u001b[0;34m\u001b[0m\u001b[0;34m\u001b[0m\u001b[0m\n\u001b[0;32m---> 21\u001b[0;31m     \u001b[0mnameList\u001b[0m\u001b[0;34m.\u001b[0m\u001b[0mappend\u001b[0m\u001b[0;34m(\u001b[0m\u001b[0malllNamesList\u001b[0m\u001b[0;34m[\u001b[0m\u001b[0mcurrentIndex\u001b[0m\u001b[0;34m[\u001b[0m\u001b[0;36m0\u001b[0m\u001b[0;34m]\u001b[0m\u001b[0;34m.\u001b[0m\u001b[0mastype\u001b[0m\u001b[0;34m(\u001b[0m\u001b[0mint\u001b[0m\u001b[0;34m)\u001b[0m\u001b[0;34m]\u001b[0m\u001b[0;34m)\u001b[0m\u001b[0;34m\u001b[0m\u001b[0;34m\u001b[0m\u001b[0m\n\u001b[0m\u001b[1;32m     22\u001b[0m \u001b[0;34m\u001b[0m\u001b[0m\n\u001b[1;32m     23\u001b[0m \u001b[0mprint\u001b[0m\u001b[0;34m(\u001b[0m\u001b[0mnameList\u001b[0m\u001b[0;34m)\u001b[0m\u001b[0;34m\u001b[0m\u001b[0;34m\u001b[0m\u001b[0m\n",
      "\u001b[0;31mTypeError\u001b[0m: only integer scalar arrays can be converted to a scalar index"
     ]
    }
   ],
   "source": [
    "import pandas as pd\n",
    "import os\n",
    "\n",
    "FSTablePath=os.path.join(repoPath,'FreesurferLookup.csv')\n",
    "\n",
    "FSTable=pd.read_csv(FSTablePath)\n",
    "\n",
    "print(FSTable)\n",
    "\n",
    "print(FSTable.iloc[:,0])\n",
    "\n",
    "\n",
    "nameList=[]\n",
    "\n",
    "alllNamesList=FSTable['LabelName:'].tolist()\n",
    "\n",
    "\n",
    "for iUniqueVals in uniqueAtlasEntries:\n",
    "    currentIndex=np.argwhere(FSTable.iloc[:,0]==iUniqueVals)\n",
    "    print(currentIndex[0].astype(int))\n",
    "    nameList.append(alllNamesList[currentIndex[0].astype(int)])\n",
    "\n",
    "print(nameList)\n",
    "    "
   ]
  },
  {
   "cell_type": "code",
   "execution_count": 45,
   "metadata": {},
   "outputs": [
    {
     "name": "stdout",
     "output_type": "stream",
     "text": [
      "Total number of voxels\n",
      "16777216\n",
      "\n",
      "Minimum voxel value\n",
      "0.0\n",
      "\n",
      "Maximum voxel value\n",
      "12175.0\n",
      "\n",
      "Number of voxel values less than or equal to zero\n",
      "15345662\n",
      "\n",
      "Number of voxel values greater than zero\n",
      "1431554\n",
      "\n"
     ]
    },
    {
     "data": {
      "text/plain": [
       "Text(0.5, 1.0, 'Frequency of voxel values (labels) greater than zero')"
      ]
     },
     "execution_count": 45,
     "metadata": {},
     "output_type": "execute_result"
    },
    {
     "data": {
      "image/png": "[encoded data removed]",
      "text/plain": [
       "<Figure size 1332x756 with 2 Axes>"
      ]
     },
     "metadata": {
      "needs_background": "light"
     },
     "output_type": "display_data"
    }
   ],
   "source": [
    "import matplotlib.pyplot as plt\n",
    "import numpy as np\n",
    "%matplotlib inline\n",
    "unwrappedData=np.ndarray.flatten(atlasData)\n",
    "\n",
    "\n",
    "print('Total number of voxels')\n",
    "voxTotal=atlasDataDimensions[0]*atlasDataDimensions[1]*atlasDataDimensions[2]\n",
    "print(voxTotal)\n",
    "print('')\n",
    "\n",
    "print('Minimum voxel value')\n",
    "minVal=np.min(unwrappedData)\n",
    "print(minVal)\n",
    "print('')\n",
    "\n",
    "print('Maximum voxel value')\n",
    "maxVal=np.max(unwrappedData)\n",
    "print(maxVal)\n",
    "print('')\n",
    "\n",
    "splitPoint=0\n",
    "\n",
    "def smallVal(n): \n",
    "    return n<=splitPoint\n",
    "def largeVal(n):\n",
    "    return n>splitPoint\n",
    "\n",
    "result=map(smallVal,unwrappedData)\n",
    "smallBool=list(result)\n",
    "\n",
    "result=map(largeVal,unwrappedData)\n",
    "largeBool=list(result)\n",
    "\n",
    "print('Number of voxel values less than or equal to zero')\n",
    "print(sum(smallBool))\n",
    "print('')\n",
    "\n",
    "print('Number of voxel values greater than zero')\n",
    "print(sum(largeBool))\n",
    "print('')\n",
    "\n",
    "maxPlus=np.max(uniqueAtlasEntries)+1\n",
    "#assumes a bit about bin behavior in matplotlib\n",
    "histBins=np.append(uniqueAtlasEntries,maxPlus)\n",
    "\n",
    "#unnecessary and uninformative to plot unlabeled voxels in histogram\n",
    "#plt.subplot(1, 2, 1)\n",
    "#plt.hist(unwrappedData[smallBool], bins=5)\n",
    "#plt.xlabel('Voxel Data')\n",
    "#plt.ylabel('Number of Voxels')\n",
    "#plt.title('Frequency of voxel values (labels) less than or equal to zero')\n",
    "#fig = plt.gcf()\n",
    "#fig.set_size_inches(18.5, 10.5)\n",
    "\n",
    "plt.subplot(1, 2, 2)\n",
    "plt.hist(unwrappedData[largeBool], histBins)\n",
    "plt.xlabel('Voxel Data')\n",
    "plt.ylabel('Number of Voxels')\n",
    "plt.title('Frequency of voxel values (labels) greater than zero')"
   ]
  },
  {
   "cell_type": "code",
   "execution_count": 38,
   "metadata": {},
   "outputs": [
    {
     "data": {
      "text/plain": [
       "<Figure size 432x288 with 0 Axes>"
      ]
     },
     "metadata": {},
     "output_type": "display_data"
    },
    {
     "data": {
      "application/vnd.jupyter.widget-view+json": {
       "model_id": "49d51e8bec9d43ec88129af6b211eb95",
       "version_major": 2,
       "version_minor": 0
      },
      "text/plain": [
       "interactive(children=(IntSlider(value=90, continuous_update=False, description='x', max=181), IntSlider(value=…"
      ]
     },
     "metadata": {},
     "output_type": "display_data"
    }
   ],
   "source": [
    "from niwidgets import NiftiWidget\n",
    "from niwidgets import examplet1\n",
    "\n",
    "#pointing to a different nitfti, that doesn't have huge spaces between values, so that the colormap is discernable\n",
    "atlasResortPath='/Users/plab/Documents/JupyerData/proj-5c50b6f12daf2e0032f880eb/sub-100206/dt-neuro-parcellation-volume.id-5c50c3f7ecd2f200ccfe9fae/parc.nii.gz'\n",
    "\n",
    "atlas_widget = NiftiWidget(atlasResortPath)\n",
    "atlas_widget.nifti_plotter()"
   ]
  },
  {
   "cell_type": "markdown",
   "metadata": {},
   "source": [
    "Recommend nipy_spectral\n",
    "\n",
    "As you explore the parcellation there are a number of things to take note of.  First and foremost we can note the means by which the parcellation actually parcellates the brain.  Note that the parcellation is, in essence, a volumetric mask which contains integer values corresponding to labels stored in a lookup table.  Each voxel is identified as corresponding to some component of an anatomical entity.  The anatomical entities that manifest in a parcellation vary depending on what standard is used, but typically they correspond to For example [PROVIDE EXAMPLE HERE].  \n",
    "\n",
    "\n"
   ]
  },
  {
   "cell_type": "code",
   "execution_count": null,
   "metadata": {},
   "outputs": [],
   "source": [
    "print('T1 voxel resolution (in mm)')\n",
    "print(atlasImg.header.get_zooms())\n",
    "print('')\n",
    "\n",
    "\n",
    "print('T1 voxel affine')\n",
    "atlasImgAff=atlasImg.affine\n",
    "print(atlasImg.affine)\n",
    "print('')\n",
    "\n",
    "print('Coordinates of posterior commisure')\n",
    "imgSpatialTrans=np.abs([atlasImgAff[0,3]/atlasImgAff[0,0],imgAff[1,3]/atlasImgAff[1,1],atlasImgAff[2,3]/atlasImgAff[2,2]])\n",
    "print(imgSpatialTrans)\n",
    "print('')\n",
    "\n"
   ]
  },
  {
   "cell_type": "markdown",
   "metadata": {},
   "source": [
    "[Introduct Anatomical T1 ]"
   ]
  },
  {
   "cell_type": "code",
   "execution_count": null,
   "metadata": {},
   "outputs": [],
   "source": [
    "voxelDims"
   ]
  },
  {
   "cell_type": "markdown",
   "metadata": {},
   "source": []
  },
  {
   "cell_type": "markdown",
   "metadata": {},
   "source": [
    "    Furthermore, because parcellations are performed on a specific subject's anatomy, the overlaying of one subject's parcellation on another subjects brain will result in an uninformative and innacruate characterization of the subject's brain.\n",
    "    \n",
    "DISPLAY MISMATCH HERE"
   ]
  },
  {
   "cell_type": "markdown",
   "metadata": {},
   "source": [
    "    Next, we look at the tractogram in order to get a better sense of white matter's relation to tractography using the preceeding discussion as a basis for comparison."
   ]
  },
  {
   "cell_type": "code",
   "execution_count": null,
   "metadata": {
    "collapsed": true
   },
   "outputs": [],
   "source": []
  }
 ],
 "metadata": {
  "anaconda-cloud": {},
  "kernelspec": {
   "display_name": "Python 3",
   "language": "python",
   "name": "python3"
  },
  "language_info": {
   "codemirror_mode": {
    "name": "ipython",
    "version": 3
   },
   "file_extension": ".py",
   "mimetype": "text/x-python",
   "name": "python",
   "nbconvert_exporter": "python",
   "pygments_lexer": "ipython3",
   "version": "3.7.5"
  }
 },
 "nbformat": 4,
 "nbformat_minor": 1
}
