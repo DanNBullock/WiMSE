{
 "cells": [
  {
   "cell_type": "markdown",
   "metadata": {},
   "source": [
    "To begin to explore our tractography model, we first have to load the fibergroup.  There are several different file standards for storing tractography including .tck, .trk and .fg.  Despite their differences, they are alike in that they are composed of some finite number of streamlines.   "
   ]
  },
  {
   "cell_type": "code",
   "execution_count": 1,
   "metadata": {},
   "outputs": [
    {
     "name": "stdout",
     "output_type": "stream",
     "text": [
      "[600000]\n"
     ]
    }
   ],
   "source": [
    "import nibabel as nib\n",
    "import numpy as np\n",
    "\n",
    "# load the tractography file into the streamsObjIN variable\n",
    "streamsObjIN=nib.streamlines.load('/Users/plab/Downloads/5c5d35e2f5d2a10052842847/track.tck')\n",
    "\n",
    "# determine the number of streamlines\n",
    "print(list(np.shape(streamsObjIN.tractogram.streamlines)))\n"
   ]
  },
  {
   "cell_type": "markdown",
   "metadata": {},
   "source": [
    "DISCUSS NUMBER OF STREAMLINES AND RELEVANCE TO REPRESENTING THE WHITE MATTER.  NOTE DIFFERENCE BETWEEN THIS APPROACH AND "
   ]
  },
  {
   "cell_type": "code",
   "execution_count": 2,
   "metadata": {},
   "outputs": [
    {
     "name": "stdout",
     "output_type": "stream",
     "text": [
      "Streamline 1 dimensions\n",
      "(142, 3)\n",
      "Streamline 1 length\n",
      "17.625004\n"
     ]
    }
   ],
   "source": [
    "#index into the tractography object and extract the first streamline\n",
    "firstStreamline=streamsObjIN.tractogram.streamlines[1]\n",
    "\n",
    "#obtain the dimensions of the streamline\n",
    "print('Streamline 1 dimensions')\n",
    "print(firstStreamline.shape)\n",
    "\n",
    "#import length from dipy\n",
    "from dipy.tracking.utils import length\n",
    "\n",
    "#compute lengths of all streamlines.  May be overkill at this point, but we'll use the data later\n",
    "lengths = list(length(streamsObjIN.tractogram.streamlines))\n",
    "\n",
    "#print the length of the first streamline\n",
    "print('Streamline 1 length')\n",
    "print(lengths[1])"
   ]
  },
  {
   "cell_type": "markdown",
   "metadata": {
    "collapsed": true
   },
   "source": [
    "DISCUSS VOXEL ANALOGY OF THE STREAMLINE"
   ]
  },
  {
   "cell_type": "code",
   "execution_count": 4,
   "metadata": {},
   "outputs": [
    {
     "ename": "ImportError",
     "evalue": "cannot import name 'window' from 'dipy.viz' (/Users/plab/anaconda/envs/currpy/lib/python3.7/site-packages/dipy/viz/__init__.py)",
     "output_type": "error",
     "traceback": [
      "\u001b[0;31m---------------------------------------------------------------------------\u001b[0m",
      "\u001b[0;31mImportError\u001b[0m                               Traceback (most recent call last)",
      "\u001b[0;32m<ipython-input-4-dbcae4ae97f4>\u001b[0m in \u001b[0;36m<module>\u001b[0;34m\u001b[0m\n\u001b[0;32m----> 1\u001b[0;31m \u001b[0;32mfrom\u001b[0m \u001b[0mdipy\u001b[0m\u001b[0;34m.\u001b[0m\u001b[0mviz\u001b[0m \u001b[0;32mimport\u001b[0m \u001b[0mwindow\u001b[0m\u001b[0;34m,\u001b[0m \u001b[0mactor\u001b[0m\u001b[0;34m,\u001b[0m \u001b[0mcolormap\u001b[0m \u001b[0;32mas\u001b[0m \u001b[0mcmap\u001b[0m\u001b[0;34m\u001b[0m\u001b[0;34m\u001b[0m\u001b[0m\n\u001b[0m\u001b[1;32m      2\u001b[0m \u001b[0;34m\u001b[0m\u001b[0m\n\u001b[1;32m      3\u001b[0m \u001b[0;31m# Enables/disables interactive visualization\u001b[0m\u001b[0;34m\u001b[0m\u001b[0;34m\u001b[0m\u001b[0;34m\u001b[0m\u001b[0m\n\u001b[1;32m      4\u001b[0m \u001b[0minteractive\u001b[0m \u001b[0;34m=\u001b[0m \u001b[0;32mTrue\u001b[0m\u001b[0;34m\u001b[0m\u001b[0;34m\u001b[0m\u001b[0m\n\u001b[1;32m      5\u001b[0m \u001b[0;34m\u001b[0m\u001b[0m\n",
      "\u001b[0;31mImportError\u001b[0m: cannot import name 'window' from 'dipy.viz' (/Users/plab/anaconda/envs/currpy/lib/python3.7/site-packages/dipy/viz/__init__.py)"
     ]
    }
   ],
   "source": [
    "from dipy.viz import window, actor, colormap as cmap\n",
    "\n",
    "# Enables/disables interactive visualization\n",
    "interactive = True\n",
    "\n",
    "firstTwoStreamline=streamsObjIN.tractogram.streamlines[1:2]\n",
    "\n",
    "\n",
    "\n",
    "\n",
    "# Make display objects\n",
    "color = cmap.line_colors(firstTwoStreamline)\n",
    "cc_streamlines_actor = actor.line(firstTwoStreamline,\n",
    "                                  cmap.line_colors(firstTwoStreamline))\n",
    "\n",
    "\n",
    "vol_actor = actor.slicer(t1_data)\n",
    "\n",
    "vol_actor.display(x=40)\n",
    "vol_actor2 = vol_actor.copy()\n",
    "vol_actor2.display(z=35)\n",
    "\n",
    "# Add display objects to canvas\n",
    "r = window.Renderer()\n",
    "r.add(vol_actor)\n",
    "r.add(vol_actor2)\n",
    "r.add(cc_streamlines_actor)\n",
    "r.add(cc_ROI_actor)"
   ]
  },
  {
   "cell_type": "code",
   "execution_count": 6,
   "metadata": {
    "scrolled": true
   },
   "outputs": [
    {
     "data": {
      "text/plain": [
       "Text(0.5, 1.0, 'Distribution of Streamline Lengths')"
      ]
     },
     "execution_count": 6,
     "metadata": {},
     "output_type": "execute_result"
    },
    {
     "data": {
      "image/png": "[encoded data removed]",
      "text/plain": [
       "<Figure size 432x288 with 1 Axes>"
      ]
     },
     "metadata": {
      "needs_background": "light"
     },
     "output_type": "display_data"
    }
   ],
   "source": [
    "import matplotlib.pyplot as plt\n",
    "%matplotlib inline\n",
    "plt.hist(lengths, bins=200)\n",
    "\n",
    "plt.xlabel('Streamline Length')\n",
    "plt.ylabel('Number of Streamlines')\n",
    "plt.title('Distribution of Streamline Lengths')"
   ]
  },
  {
   "cell_type": "markdown",
   "metadata": {},
   "source": [
    "DISCUSS RELEVANCE OF STREAMLNIE DISTRIBUTION"
   ]
  },
  {
   "cell_type": "code",
   "execution_count": 45,
   "metadata": {},
   "outputs": [
    {
     "name": "stdout",
     "output_type": "stream",
     "text": [
      "now running\n"
     ]
    },
    {
     "data": {
      "application/vnd.jupyter.widget-view+json": {
       "model_id": "d82dba6abdc149f8a397acd335e15356",
       "version_major": 2,
       "version_minor": 0
      },
      "text/plain": [
       "interactive(children=(FloatSlider(value=9.502349853515625, continuous_update=False, description='minimum', max…"
      ]
     },
     "metadata": {},
     "output_type": "display_data"
    },
    {
     "data": {
      "text/plain": [
       "<function __main__.update_bound(minimum, maximum)>"
      ]
     },
     "execution_count": 45,
     "metadata": {},
     "output_type": "execute_result"
    }
   ],
   "source": [
    "ref_nifti=nib.load('/Users/plab/Documents/JupyerData/proj-5c50b6f12daf2e0032f880eb/sub-100206/dt-neuro-parcellation-volume.id-5c50c3f7ecd2f200ccfe9fae/parc.nii.gz')\n",
    "\n",
    "from ipywidgets import interact, interactive, fixed, interact_manual\n",
    "from ipywidgets import FloatSlider\n",
    "\n",
    "niftiData=ref_nifti.get_data()\n",
    "niftiDataInt=niftiData.astype(np.uint16)\n",
    "\n",
    "lengthsArray=np.array(lengths)\n",
    "\n",
    "from dipy.tracking import utils\n",
    "\n",
    "\n",
    "M, grouping = utils.connectivity_matrix(streamlines=streamsObjIN.tractogram.streamlines, \n",
    "                                        affine=ref_nifti.affine, \n",
    "                                        label_volume=niftiDataInt.astype(np.int16),\n",
    "                                        return_mapping=True,\n",
    "                                        mapping_as_streamlines=False)\n",
    "\n",
    "uniqueKeys=np.unique(np.ndarray.flatten(niftiDataInt))\n",
    "\n",
    "\n",
    "import itertools\n",
    "keyList=list(itertools.combinations(range(roiTotal), 2))\n",
    "\n",
    "roiTotal=np.max(uniqueKeys)+1\n",
    "\n",
    "countMatrix=np.zeros([roiTotal,roiTotal])\n",
    "\n",
    "import itertools\n",
    "keyList=list(itertools.combinations(range(roiTotal), 2))\n",
    "\n",
    "countList=[0]*len(keyList)\n",
    "\n",
    "for iKeys in range(len(keyList)):\n",
    "    curIndexes=np.asarray(grouping[keyList[iKeys]])\n",
    "    countList[iKeys]=np.sort(lengthsArray[curIndexes.astype(int)])\n",
    "    \n",
    "lowerBound = 0\n",
    "upperBound = 100\n",
    "    \n",
    "def draw_adaptiveMatrix():    \n",
    "    global keyList\n",
    "    global countList\n",
    "    global lowerBound\n",
    "    global upperBound\n",
    "    for iKeys in range(len(keyList)): \n",
    "        curIndex=keyList[iKeys]\n",
    "        countMatrix[curIndex] =((lowerBound < countList[iKeys]) & (countList[iKeys] < upperBound)).sum()    \n",
    "        countMatrix[curIndex[::-1]] =((lowerBound < countList[iKeys]) & (countList[iKeys] < upperBound)).sum()    \n",
    "    \n",
    "    import matplotlib.pyplot as plt\n",
    "    plt.subplot(1, 2, 1)\n",
    "    plt.imshow(np.log1p(countMatrix), interpolation='nearest')\n",
    "    plt.xlabel('Atlas ROI number')\n",
    "    plt.ylabel('Atlas ROI number')\n",
    "    \n",
    "    fig = plt.gcf()\n",
    "    #fig.colorbar(np.log1p(countMatrix))\n",
    "    fig.set_size_inches(18.5, 10.5)\n",
    "    \n",
    "    plt.subplot(1, 2, 2)\n",
    "    plt.hist(lengths, bins=200)\n",
    "    xposition = [lowerBound,upperBound]\n",
    "    for xc in xposition:\n",
    "        plt.axvline(x=xc, color='r', linestyle='--', linewidth=3)\n",
    "    plt.xlabel('Streamline Length')\n",
    "    plt.ylabel('Number of Streamlines')\n",
    "    plt.title('Distribution of Streamline Lengths')\n",
    "    \n",
    "    return\n",
    "\n",
    "\n",
    "def update_bound(minimum, maximum):\n",
    "    global upperBound\n",
    "    global lowerBound\n",
    "    lowerBound = minimum\n",
    "    upperBound = maximum\n",
    "    draw_adaptiveMatrix()\n",
    "\n",
    "print(\"now running\")    \n",
    "minslide=FloatSlider(min=np.min(lengthsArray), max=np.max(lengthsArray), step=1,continuous_update=False)\n",
    "maxslide=FloatSlider(min=np.min(lengthsArray), max=np.max(lengthsArray), step=1,continuous_update=False)\n",
    "interact(update_bound, minimum=minslide, maximum=maxslide)\n",
    "#interact(update_upperbound, maximum=maxslide)\n",
    "#draw_adaptiveMatrix()\n",
    "\n",
    "#interact(adaptiveMatrix,{'lowerBound':FloatSlider(min=np.min(lengthsArray), max=np.max(lengthsArray), step=1, continuous_update=False),'upperBound':FloatSlider(min=np.min(lengthsArray), max=np.max(lengthsArray), step=1, continuous_update=False)})"
   ]
  },
  {
   "cell_type": "markdown",
   "metadata": {
    "collapsed": true
   },
   "source": [
    "DISCUSS HOW VARYING LENGTHS AND PROPERTIES OF THE STREAMLINES CORRESPOND TO SEPARATE ANATOMICAL FEATURES OF THE BRAIN"
   ]
  },
  {
   "cell_type": "code",
   "execution_count": null,
   "metadata": {},
   "outputs": [],
   "source": []
  },
  {
   "cell_type": "code",
   "execution_count": null,
   "metadata": {},
   "outputs": [],
   "source": []
  },
  {
   "cell_type": "code",
   "execution_count": null,
   "metadata": {},
   "outputs": [],
   "source": []
  },
  {
   "cell_type": "code",
   "execution_count": null,
   "metadata": {},
   "outputs": [],
   "source": []
  }
 ],
 "metadata": {
  "anaconda-cloud": {},
  "kernelspec": {
   "display_name": "Python 3",
   "language": "python",
   "name": "python3"
  }
 },
 "nbformat": 4,
 "nbformat_minor": 1
}
