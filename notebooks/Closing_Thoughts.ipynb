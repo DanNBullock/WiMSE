{
 "cells": [
  {
   "cell_type": "markdown",
   "metadata": {},
   "source": [
    "# Closing Thoughts\n",
    "\n",
    "Over the course of this lesson set, we have discussed a number of topics, from image data structures, to masking, all the way to ROIs and white matter tracts.  First we began by building some very basic intuitions, and have moved all the way to code implementations of white matter segmentations.  That’s a pretty big span.  Although this discussion has encompassed a great deal, it is by no means exhaustive of the relevant topics for white matter segmentation.  Just as any particular segmentation implementation may never be done (as discussed in the Uncinate segmentation), so too may it be that this lesson resource may never really be “done”.  A number of additional chapters are already under development (see the “working” directory within the notebook directory of this repository), and new topics and considerations are likely to crop up with some frequency in the future.  As such, you, the reader/user/observer are invited and even implored to participate in the development of this resource to help turn WiMSE into a communal tool.  \n",
    "\n",
    "Your effort in having worked through these lessons is greatly appreciated, and it is hoped that you leave this lesson set with both the technical and conceptual tools needed to begin to develop your own white matter segmentations."
   ]
  }
 ],
 "metadata": {
  "kernelspec": {
   "display_name": "Python 3",
   "language": "python",
   "name": "python3"
  },
  "language_info": {
   "codemirror_mode": {
    "name": "ipython",
    "version": 3
   },
   "file_extension": ".py",
   "mimetype": "text/x-python",
   "name": "python",
   "nbconvert_exporter": "python",
   "pygments_lexer": "ipython3",
   "version": "3.7.5"
  }
 },
 "nbformat": 4,
 "nbformat_minor": 2
}
