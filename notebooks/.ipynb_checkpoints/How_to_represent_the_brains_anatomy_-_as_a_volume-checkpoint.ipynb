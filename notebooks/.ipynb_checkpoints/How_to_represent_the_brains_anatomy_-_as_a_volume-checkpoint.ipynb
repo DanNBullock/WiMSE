{
 "cells": [
  {
   "cell_type": "markdown",
   "metadata": {},
   "source": [
    "# How to represent the brain's anatomy - as a volume\n",
    "\n",
    "Not unlike the way that the satellite images of the previous chapters were a \"picture\" of the world, a [T1 image](https://en.wikipedia.org/wiki/Magnetic_resonance_imaging#T1_and_T2) can be thought of as a \"picture\" of a brain in a similar fashion.  The specifics of [the physics underlying this process](https://en.wikipedia.org/wiki/Physics_of_magnetic_resonance_imaging) are beyond the scope of this lesson book.  For now let us keep the analogy of the 2-D digital image in mind as we move into a consideration of the NIfTI itself.\n",
    "\n",
    "Let's begin by loading it into memory and considering its data size.  Whereas previously we were working with .jpg and .png files, we will now be working with .nifti files, which are typically stored as .nii.gz, which corresponds to a compressed state."
   ]
  },
  {
   "cell_type": "code",
   "execution_count": 1,
   "metadata": {},
   "outputs": [
    {
     "name": "stdout",
     "output_type": "stream",
     "text": [
      "T1 size (in bytes)\n",
      "5688165\n"
     ]
    }
   ],
   "source": [
    "#this code ensures that we can navigate the WiMSE repo across multiple systems\n",
    "import subprocess\n",
    "import os\n",
    "#get top directory path of the current git repository, under the presumption that \n",
    "#the notebook was launched from within the repo directory\n",
    "gitRepoPath=subprocess.check_output(['git', 'rev-parse', '--show-toplevel']).decode('ascii').strip()\n",
    "\n",
    "#move to the top of the directory\n",
    "os.chdir(gitRepoPath)\n",
    "\n",
    "#set path to T1\n",
    "t1Path=os.path.join(gitRepoPath,'exampleData','t1.nii.gz')\n",
    "#obtain file information about the t1 file\n",
    "T1fileinfo = os.stat(t1Path)\n",
    "\n",
    "#print out some of the ifo\n",
    "print('T1 size (in bytes)')\n",
    "print(T1fileinfo.st_size)"
   ]
  },
  {
   "cell_type": "markdown",
   "metadata": {},
   "source": [
    "The T1 NIfTI image we just loaded is about 3.6 MB in size, which is roughly close to a high resolution digital image file.  Given what we know about digital image (every pixel has 3 to 4 *integer* values which correspond to its color characteristics), we can get a rough sense about the number data entries contained within a NIfTI, and--by extension--the general amount of \"information\" (a complex topic we won't go into here) that a NIfTI image contains about volume of space it is represents.\n",
    "\n",
    "Quite helpfully, the NIfTI data type features a \"header\" (described in detail [here](https://brainder.org/2012/09/23/the-nifti-file-format/) and [here](https://nifti.nimh.nih.gov/pub/dist/src/niftilib/nifti1.h)) which contains a great deal of [metadata](https://en.wikipedia.org/wiki/Metadata) about the associated image data.  Think of it as being analogous to the [Exif](https://en.wikipedia.org/wiki/Exif) data of a typical digital image."
   ]
  },
  {
   "cell_type": "code",
   "execution_count": 2,
   "metadata": {},
   "outputs": [
    {
     "name": "stdout",
     "output_type": "stream",
     "text": [
      "<class 'nibabel.nifti1.Nifti1Header'> object, endian='<'\n",
      "sizeof_hdr      : 348\n",
      "data_type       : b''\n",
      "db_name         : b''\n",
      "extents         : 0\n",
      "session_error   : 0\n",
      "regular         : b'r'\n",
      "dim_info        : 0\n",
      "dim             : [  3 182 218 182   1   1   1   1]\n",
      "intent_p1       : 0.0\n",
      "intent_p2       : 0.0\n",
      "intent_p3       : 0.0\n",
      "intent_code     : none\n",
      "datatype        : int16\n",
      "bitpix          : 16\n",
      "slice_start     : 0\n",
      "pixdim          : [-1.   1.   1.   1.   1.8  0.   0.   0. ]\n",
      "vox_offset      : 0.0\n",
      "scl_slope       : nan\n",
      "scl_inter       : nan\n",
      "slice_end       : 0\n",
      "slice_code      : unknown\n",
      "xyzt_units      : 10\n",
      "cal_max         : 0.0\n",
      "cal_min         : 0.0\n",
      "slice_duration  : 0.0\n",
      "toffset         : 0.0\n",
      "glmax           : 0\n",
      "glmin           : 0\n",
      "descrip         : b'FSL5.0'\n",
      "aux_file        : b''\n",
      "qform_code      : mni\n",
      "sform_code      : mni\n",
      "quatern_b       : 0.0\n",
      "quatern_c       : 1.0\n",
      "quatern_d       : 0.0\n",
      "qoffset_x       : 90.0\n",
      "qoffset_y       : -126.0\n",
      "qoffset_z       : -72.0\n",
      "srow_x          : [-1.  0.  0. 90.]\n",
      "srow_y          : [   0.    1.    0. -126.]\n",
      "srow_z          : [  0.   0.   1. -72.]\n",
      "intent_name     : b''\n",
      "magic           : b'n+1'\n"
     ]
    }
   ],
   "source": [
    "#begin process of loading file as a T1 nifti using nibabel\n",
    "import nibabel as nib\n",
    "#import the data\n",
    "img = nib.load(t1Path)\n",
    "\n",
    "#extract the header info\n",
    "T1header = img.header\n",
    "#print the output\n",
    "print(T1header)  "
   ]
  },
  {
   "cell_type": "markdown",
   "metadata": {},
   "source": [
    "That's a lot of information!\n",
    "\n",
    "For now, we'll only briefly consider a few of these features, but we'll get to each of these as necessary as we proceed through the next set of lessons.\n",
    "\n",
    "[**dim**](https://nifti.nimh.nih.gov/nifti-1/documentation/nifti1fields/nifti1fields_pages/dim.html/document_view):  This field displays the dimensions of the NIfTI image data object.  The first number (3, in this case) indicates the total number of dimensions occupied by the data.  The next several values (as many as indicated by the first number in this vector) correspond to the span of each of those dimensions.  Thus, in this case the first dimension spans 145 entries, the second spans 174 entries, and the third spans 145 entries.  \n",
    "\n",
    "[**datatype**](https://nifti.nimh.nih.gov/nifti-1/documentation/nifti1fields/nifti1fields_pages/datatype.html):  This field corresponds to the [*type* of numerical data](https://en.wikipedia.org/wiki/Computer_number_format)  contained within each of the nifti image data object's entries.  Here we see that it is \"float32\".  This gives us two primary pieces of information: (1) we now know that the numerical entries are *not* integers or whole numbers (and thus they can adopt values *between* 1,2,3, etc.)  and (2) we now know that each of these entries [takes up about 4 bytes](https://en.wikipedia.org/wiki/Single-precision_floating-point_format).  \n",
    "\n",
    "[**pixdim**](https://nifti.nimh.nih.gov/nifti-1/documentation/nifti1fields/nifti1fields_pages/pixdim.html/document_view):  Ignoring the initial (-1) and last four values in this field (1.8 0. 0. 0.), we see the numbers 1. 1. 1..   These indicate the size of the dimensions of real world space represented by the NIfTI image data object's entries.  In the case of the map from the previous chapter, this would have corresponded roughly to hundreds of square miles (though the exact quantity would be a complex issue, due to [projection issues](https://en.wikipedia.org/wiki/Map_projection)).  In this case, we see that each of these values is 1 millimeter, which means that the data in any entry of the NIfTI represents a 1 by 1 by 1 for a total of 1 cubic millimeter volume of space.  The fifth value (1) isn't particularly relevant to this particular nifti, as our nifti data object is only 3 dimensional.  If we were examining fMRI data, this value would indicate the time-step used for the data. \n",
    "\n",
    "Also, it's important to note that all three of the spatial dimension measures examined above are the same.  This need not be the case, and it could be that our voxels are actually representing units of space whose sides are not all equal.  In this case though, we can say that the voxels are \"isometric\", meaning that all faces are the same size.\n",
    "\n",
    "[**qform_code**](https://nifti.nimh.nih.gov/nifti-1/documentation/nifti1fields/nifti1fields_pages/qsform.html):  This field specifies the orientation schema that will be detailed in subsequent fields.  In the previous lesson we considered the intersection of the [prime meridian](https://en.wikipedia.org/wiki/IERS_Reference_Meridian) and [equator](https://en.wikipedia.org/wiki/Equator), also known [\"Null Island\"](https://en.wikipedia.org/wiki/Null_Island), as the \"origin\" of the major orientation schema we used, and endeavored to overlay these locations when we aligned global satellite images.  But imagine that we instead used some other coordinate system to establish a different origin point.  Alternatively, what if we stopped using degrees as our unit of measure or that we flipped our labeling convention for east and west? In any of these cases, we would need to find a way to indicate what our reference frame was.  This need for specification of orientation system is reflected in the **qform_code** of the NIfTI header.  Here, we have some indicators (\"mni\" or \"talarach\", for example) that establish a common reference frame for orienting the image data.  \"mni\" and \"talarach\" respectively correspond to the standard Montreal Neurological Institute ([Collins et al., 1995](https://doi.org/10.1002/hbm.460030304)) and Talairach [Talairach and Tournoux, 1988](https://www.semanticscholar.org/paper/Co-Planar-Stereotaxic-Atlas-of-the-Human-Brain%3A-An-Talairach-Tournoux/f2c1ddf5c34a5899c5cbee5b5dc469f39ff9c21e) atlases.  These and other neuroimaging reference frames are well described elsewhere (e.g. [here](https://www.lead-dbs.org/about-the-mni-spaces/) and [here](http://www.fieldtriptoolbox.org/faq/how_are_the_different_head_and_mri_coordinate_systems_defined/)).\n",
    "\n",
    "[**qoffset_x, qoffset_y , qoffset_z**](https://nifti.nimh.nih.gov/nifti-1/documentation/nifti1fields/nifti1fields_pages/qsform.html) (see \"METHOD 2\"):  These numbers are the transforms necessary to align this image to the reference specified in \"qform_code\".  Referring back to our previous lessons, you can think of these numbers as the shift needed to align the political map with the geographic map. Now though, we have three dimensions (as opposed to two) and need to align each of them.  Typically our goals when aligning MRI images  are threefold:  (1) that the images share matching scales, (2) that the images exhibit the same orientation (e.g. top -> top, left -> left, etc.), and (3) that the images points share the same \"origin\".         \n",
    "\n",
    "We have now looked at some important features of the [NIfTI header](https://nifti.nimh.nih.gov/pub/dist/src/niftilib/nifti1.h).  However, we haven't yet taken a look at the actual data component of a NIfTI, as we did with digital images in previous lessons.  Let's move forward and take a look at this now."
   ]
  },
  {
   "cell_type": "code",
   "execution_count": 3,
   "metadata": {
    "scrolled": true
   },
   "outputs": [
    {
     "name": "stdout",
     "output_type": "stream",
     "text": [
      "Data dimensions\n",
      "(How many data entries are spanned across each dimension)\n",
      "(182, 218, 182)\n"
     ]
    }
   ],
   "source": [
    "print('Data dimensions')\n",
    "print('(How many data entries are spanned across each dimension)')\n",
    "#extract data dimensions and store in DataDimensions variable\n",
    "dataDimensions=img.shape\n",
    "print(dataDimensions)"
   ]
  },
  {
   "cell_type": "markdown",
   "metadata": {},
   "source": [
    "Here we are no longer indexing into the header, but we nonetheless see that the size of the image data is (182,218,182), which is consistent with the information we obtained from the \"dim\" field of the header.  In theory, the metadata contained should always be consistent with the actual data, but it is possible for these to become inconsistent due to improper file generation or manipulation.\n",
    "\n",
    "It's also worth noting that the [nibabel](https://nipy.org/nibabel/) [python software package](https://doi.org/10.5281/zenodo.4295521) offers a number of methods for extracting *specific* information from the header.  For example, we can extract the information specific to the spatial dimensions of the image we are looking at.  This capability can be helpful when performing a series of computations or developing your own sets of functions."
   ]
  },
  {
   "cell_type": "code",
   "execution_count": 4,
   "metadata": {},
   "outputs": [
    {
     "name": "stdout",
     "output_type": "stream",
     "text": [
      "Voxel dimensions for T1 (in mm)\n",
      "(1.0, 1.0, 1.0)\n"
     ]
    }
   ],
   "source": [
    "print('Voxel dimensions for T1 (in mm)')\n",
    "#extract dimensions and store in voxelDims variable\n",
    "voxelDims=img.header.get_zooms()\n",
    "print(voxelDims)"
   ]
  },
  {
   "cell_type": "markdown",
   "metadata": {},
   "source": [
    "Here, we obtain a result that matches what we saw by looking at the entire header.  Now though we have stored this specific information in a variable.  Now, by taking the size of an individual voxel and the dimensions of the entire data block we can compute the amount of space that this NIfTI object represents. "
   ]
  },
  {
   "cell_type": "code",
   "execution_count": 5,
   "metadata": {},
   "outputs": [
    {
     "name": "stdout",
     "output_type": "stream",
     "text": [
      "How much total space does this representation correspond to?\n",
      "\n",
      "182.0 mm by 218.0 mm by 182.0 mm\n"
     ]
    }
   ],
   "source": [
    "print('How much total space does this representation correspond to?')\n",
    "print('')\n",
    "print(f'{dataDimensions[0]*voxelDims[0]} mm by {dataDimensions[1]*voxelDims[1]} mm by {dataDimensions[2]*voxelDims[2]} mm' )"
   ]
  },
  {
   "cell_type": "markdown",
   "metadata": {},
   "source": [
    "For those more comfortable with imperial measurements, this corresponds to a volume of space that is slightly more than half a foot wide (\\~.6 feet), almost three quarters of a foot tall (\\~.71 feet), and slightly more than half a foot deep (\\~.6 feet).  This information gives us a sense of the gross scale of the data contained within a NIfTI.  But what about the data contained within a specific entry?  What's in a voxel?\n",
    "\n",
    "Let's actually index into a specific voxel and see what information is stored there.  From the header, we know that it will be a float value, but we don't, as of yet, have a ballpark sense of what this value will be.  We'll just arbitrarily pick a value."
   ]
  },
  {
   "cell_type": "code",
   "execution_count": 6,
   "metadata": {},
   "outputs": [
    {
     "data": {
      "text/plain": [
       "235.0"
      ]
     },
     "execution_count": 6,
     "metadata": {},
     "output_type": "execute_result"
    }
   ],
   "source": [
    "#extract the actual data into the variable data\n",
    "data = img.get_fdata()\n",
    "#arbitrarily index into the item the 96 X, 86 Y, 57 Z location and read it out\n",
    "data[96,86,57]"
   ]
  },
  {
   "cell_type": "markdown",
   "metadata": {},
   "source": [
    "235.0.  We don't really know what this number means, whether it is a lot or a little, or if it is unusual, but it at least gives us some sense of the kind of numbers this NIfTI object contains.  What about all of the others though?  How can we get a comprehensive and informative sense of those?  Let's take a hint from our digital image lessons and explore this NIfTI data by plotting a histogram of the data values for each voxel.  In a certain sense, we're lucky (relative to the digital image case) because we can plot a sensible histogram for this information, as there aren't 3 distinct color channels to worry about (which would make it difficult to interpret a histogram or set of histograms).  Additionally, we can get a sense of how many total voxels there are, how many are \"non-zero\" (in that they contain a measure distinct from zero), and what proportion of the total number of voxels this corresponds to. Let's do that now."
   ]
  },
  {
   "cell_type": "code",
   "execution_count": 8,
   "metadata": {
    "scrolled": false
   },
   "outputs": [
    {
     "name": "stdout",
     "output_type": "stream",
     "text": [
      "Total number of voxels\n",
      "7221032\n",
      "\n",
      "Minimum voxel value\n",
      "-37.0\n",
      "\n",
      "Maximum voxel value\n",
      "789.0\n",
      "\n",
      "Number of voxel values less than or equal to zero\n",
      "2203910\n",
      "\n",
      "Number of voxel values greater than zero\n",
      "5017122\n",
      "\n",
      "Proportion of entries greater than zero (i.e. containing data)\n",
      "0.6947929326445306\n",
      "\n"
     ]
    },
    {
     "data": {
      "text/plain": [
       "Text(0.5, 1.0, 'Distribution of voxel values greater than zero')"
      ]
     },
     "execution_count": 8,
     "metadata": {},
     "output_type": "execute_result"
    },
    {
     "data": {
      "image/png": "[encoded data removed]",
      "text/plain": [
       "<Figure size 1332x756 with 2 Axes>"
      ]
     },
     "metadata": {
      "needs_background": "light"
     },
     "output_type": "display_data"
    }
   ],
   "source": [
    "import matplotlib.pyplot as plt\n",
    "import numpy as np\n",
    "#necessary for plotting\n",
    "%matplotlib inline\n",
    "#transform data array for use\n",
    "unwrappedData=np.ndarray.flatten(data)\n",
    "\n",
    "print('Total number of voxels')\n",
    "#compute total number of voxels via straightforward multiplication\n",
    "voxTotal=dataDimensions[0]*dataDimensions[1]*dataDimensions[2]\n",
    "print(voxTotal)\n",
    "print('')\n",
    "\n",
    "print('Minimum voxel value')\n",
    "print(np.min(unwrappedData))\n",
    "print('')\n",
    "\n",
    "print('Maximum voxel value')\n",
    "print(np.max(unwrappedData))\n",
    "print('')\n",
    "\n",
    "#set value at which to split the data\n",
    "#Operating under the assumption that negative values are not viable\n",
    "splitPoint=0\n",
    "\n",
    "#define two functions for obtaining boolean vectors for numerical comparison\n",
    "def smallVal(n): \n",
    "    return n<=splitPoint\n",
    "def largeVal(n):\n",
    "    return n>splitPoint\n",
    "\n",
    "#apply the function to the unwrapped data\n",
    "result=map(smallVal,unwrappedData)\n",
    "#convert the output to a usable format \n",
    "smallBool=list(result)\n",
    "\n",
    "#apply the function to the unwrapped data\n",
    "result=map(largeVal,unwrappedData)\n",
    "#convert the output to a usable format \n",
    "largeBool=list(result)\n",
    "\n",
    "print('Number of voxel values less than or equal to zero')\n",
    "print(sum(smallBool))\n",
    "print('')\n",
    "\n",
    "print('Number of voxel values greater than zero')\n",
    "print(sum(largeBool))\n",
    "print('')\n",
    "\n",
    "print('Proportion of entries greater than zero (i.e. containing data)')\n",
    "print(sum(largeBool)/voxTotal)\n",
    "print('')\n",
    "\n",
    "#perform plotting of zero/negative values\n",
    "plt.subplot(1, 2, 1)\n",
    "plt.hist(unwrappedData[smallBool], bins=40)\n",
    "plt.xlabel('Voxel Data')\n",
    "plt.ylabel('Number of Voxels')\n",
    "plt.title('Distribution of voxel less than or equal to zero')\n",
    "fig = plt.gcf()\n",
    "fig.set_size_inches(18.5, 10.5)\n",
    "\n",
    "#perform plotting of positive values\n",
    "plt.subplot(1, 2, 2)\n",
    "plt.hist(unwrappedData[largeBool], bins=400)\n",
    "plt.xlabel('Voxel Data')\n",
    "plt.ylabel('Number of Voxels')\n",
    "plt.title('Distribution of voxel values greater than zero')"
   ]
  },
  {
   "cell_type": "markdown",
   "metadata": {},
   "source": [
    "It seems that about a quarter of the voxels contain data that we would consider to be representative of the brain, with the assumption that \"empty\" voxels correspond to background and/or uninformative voxels.  Depending on whether or not this T1 has had the brain \"extracted\" (i.e. the brain isolated from the rest of the head, neck, and body, via a masking process, see [Boesen et al. 2004](https://doi.org/10.1016/j.neuroimage.2004.03.010) for more), this proportion may also include non-brain tissues.  Note how we had to split the histogram in two.  Had we not done this, the number of empty voxels would have overwhelmed the visualization and we wouldn't have been able to observe the distribution visible in the plot on the right due to the extreme number of values right below 0.\n",
    "\n",
    "Now that we have a sense of the numerical variability of the data in this NIfTI, let's get a sense of how these values are laid out spatially.  Keep in mind that, just like a digital image wherein the i,j entry of the data array represents a portion of space that spatially adjacent to the i,j-1 (or i,j+1, or i+1,j etc.), the i,j,k entry of a NIfTI is spatially adjacent to the i,j,k+1 entry.  We can get a better sense of this by interacting with the NIfTI using a [niwidget](https://nipy.org/niwidgets/)."
   ]
  },
  {
   "cell_type": "code",
   "execution_count": 9,
   "metadata": {
    "scrolled": false
   },
   "outputs": [
    {
     "data": {
      "text/plain": [
       "<Figure size 432x288 with 0 Axes>"
      ]
     },
     "metadata": {},
     "output_type": "display_data"
    },
    {
     "data": {
      "application/vnd.jupyter.widget-view+json": {
       "model_id": "e5b97043305649c798d89c47ffcf3c58",
       "version_major": 2,
       "version_minor": 0
      },
      "text/plain": [
       "interactive(children=(IntSlider(value=90, continuous_update=False, description='x', max=181), IntSlider(value=…"
      ]
     },
     "metadata": {},
     "output_type": "display_data"
    }
   ],
   "source": [
    "from niwidgets import NiftiWidget\n",
    "\n",
    "t1Widget = NiftiWidget(t1Path)\n",
    "\n",
    "t1Widget.nifti_plotter(colormap='gray')"
   ]
  },
  {
   "cell_type": "markdown",
   "metadata": {},
   "source": [
    "Take a moment to shift through the NIfTI image plotted above.  If you want a more standard visualization, feel free to switch the colormap to gray.  **As a challenge, try and shift the x, y, and z sliders to cross at the [anterior commissure](https://en.wikipedia.org/wiki/Anterior_commissure), and take note of the coordinates of this point**.  Take note that the left, posterior, inferior corner is the 0 coordinate.  The coordinate shift that results in the anterior commissure being at (0,0,0) occurs after the previously qoffset information has been applied.  After this transform has been applied, locations in the left hemisphere are characterized by coordinates that have a negative first value (x coordinate).  This is because the image is oriented with respect to the [ACPC reference space](https://www.fieldtriptoolbox.org/faq/how_are_the_different_head_and_mri_coordinate_systems_defined/#details-on-the-acpc-coordinate-system). \n",
    "\n",
    "As an alternative to trying to find the anterior commissure manually, we can also use the information in the header (assuming its accurate) to compute its location in this image data."
   ]
  },
  {
   "cell_type": "code",
   "execution_count": 14,
   "metadata": {},
   "outputs": [
    {
     "name": "stdout",
     "output_type": "stream",
     "text": [
      "T1 voxel resolution (in mm)\n",
      "(1.0, 1.0, 1.0)\n",
      "\n",
      "T1 voxel affine\n",
      "[[  -1.    0.    0.   90.]\n",
      " [   0.    1.    0. -126.]\n",
      " [   0.    0.    1.  -72.]\n",
      " [   0.    0.    0.    1.]]\n",
      "\n",
      "Coordinates of anterior commissure\n",
      "[ 90. 126.  72.]\n",
      "\n"
     ]
    }
   ],
   "source": [
    "print('T1 voxel resolution (in mm)')\n",
    "print(img.header.get_zooms())\n",
    "print('')\n",
    "\n",
    "print('T1 voxel affine')\n",
    "imgAff=img.affine\n",
    "print(img.affine)\n",
    "print('')\n",
    "\n",
    "print('Coordinates of anterior commissure')\n",
    "#force absolute value in order to perform the math correctly\n",
    "imgSpatialTrans=np.abs([imgAff[0,3]/imgAff[0,0],imgAff[1,3]/imgAff[1,1],imgAff[2,3]/imgAff[2,2]])\n",
    "print(imgSpatialTrans)\n",
    "print('')"
   ]
  },
  {
   "cell_type": "markdown",
   "metadata": {},
   "source": [
    "If you move the slider coordinates to the value specified under \"Coordinates of anterior commissure\", your crosshair should directly target the [anterior commissure](https://en.wikipedia.org/wiki/Anterior_commissure).  However, the signs of the numbers in this affine matrix suggest that something may be afoot.  Let's consider in a bit more detail what these numbers might be indicating.\n",
    "\n",
    "Admittedly, the notion of a shift or transform gets a bit more complicated in three dimensions, where it is possible to have your data rotated or flipped along multiple dimensions.  With a standard 2-D image this would have been quite obvious upon inspection--you would notice if the world had been rotated 90% or flipped such that Russia was west of the US's \"east\" coast!  Although some of these changes are obvious in a NIfTI image (for example a 90 degree rotation), some are less obvious.  For example, as it turns out, **this brain data is flipped in its x axis!**. Because of this the right hemisphere data is stored in indexes smaller than the X coordinate of the anterior commissure (90) while the left hemisphere data is stored in indexes that are larger than the X coordinate of the anterior commissure.  This is contrary to standard orientation schemas.  Let's take a look at how we could come to know this by taking a look at the [affine transform matrix](https://en.wikipedia.org/wiki/Affine_transformation) again."
   ]
  },
  {
   "cell_type": "code",
   "execution_count": 10,
   "metadata": {},
   "outputs": [
    {
     "name": "stdout",
     "output_type": "stream",
     "text": [
      "T1 voxel affine\n",
      "[[  -1.    0.    0.   90.]\n",
      " [   0.    1.    0. -126.]\n",
      " [   0.    0.    1.  -72.]\n",
      " [   0.    0.    0.    1.]]\n",
      "\n"
     ]
    }
   ],
   "source": [
    "print('T1 voxel affine')\n",
    "imgAff=img.affine\n",
    "print(img.affine)\n",
    "print('')"
   ]
  },
  {
   "cell_type": "markdown",
   "metadata": {},
   "source": [
    "You'll notice that the upper left hand value (-1.), which specifies the voxel resolution of the Y dimension, is negative.  This is as opposed to the values found for the Y and Z dimension resolutions, which are positive.  Considered in conjunction with the information in the first three rows for the rightmost column (the **qoffset_** information from the header), this indicates that a flip in the X dimension is present.  This is why the *np.abs* function was used earlier when computing the anterior commissure location (NOTE: this strategy will not work for all affine flip cases, but did work in this case).  For more detailed examinations and considerations of affine transforms for neuroimaging data consider looking at dipy's [documentation on the subject](https://www.dipy.org/documentation/1.0.0./examples_built/affine_registration_3d/).\n",
    "\n",
    "Now that we have developed a good sense of the information stored in a T1 NIfTI image, move on to think about how tractography data is different from this."
   ]
  }
 ],
 "metadata": {
  "anaconda-cloud": {},
  "kernelspec": {
   "display_name": "Python 3",
   "language": "python",
   "name": "python3"
  },
  "language_info": {
   "codemirror_mode": {
    "name": "ipython",
    "version": 3
   },
   "file_extension": ".py",
   "mimetype": "text/x-python",
   "name": "python",
   "nbconvert_exporter": "python",
   "pygments_lexer": "ipython3",
   "version": "3.7.5"
  }
 },
 "nbformat": 4,
 "nbformat_minor": 1
}
