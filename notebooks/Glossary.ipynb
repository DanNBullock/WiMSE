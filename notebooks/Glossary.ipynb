{
 "cells": [
  {
   "cell_type": "markdown",
   "metadata": {},
   "source": [
    "-  ROI:\n",
    "-  Tractome:\n",
    "-  Tractogram:\n",
    "-  Atlas:\n",
    "-  Parcellation:\n",
    "-  Streamline:\n",
    "-  Segmentation:\n",
    "-  [Atlas/Parcellation] label:\n",
    "-  Mapping:\n",
    "-  NiFTI:\n",
    "-  Connectome:\n",
    "-  DWI:\n",
    "-  Tract/White matter Tract:\n",
    "-  Affine:\n",
    "-  Biological plausibility/Biologically plausible:\n",
    "-  Reference space:\n",
    "-  Fascicle:\n",
    "-  Bundle:\n",
    "-  Types:\n",
    "-  Tokens:\n",
    "\n",
    "\n",
    "\n",
    "\n"
   ]
  }
 ],
 "metadata": {
  "kernelspec": {
   "display_name": "Python 3",
   "language": "python",
   "name": "python3"
  },
  "language_info": {
   "codemirror_mode": {
    "name": "ipython",
    "version": 3
   },
   "file_extension": ".py",
   "mimetype": "text/x-python",
   "name": "python",
   "nbconvert_exporter": "python",
   "pygments_lexer": "ipython3",
   "version": "3.7.5"
  }
 },
 "nbformat": 4,
 "nbformat_minor": 2
}
