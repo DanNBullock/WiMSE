{
 "cells": [
  {
   "cell_type": "markdown",
   "metadata": {},
   "source": [
    "# The measurement, the object, and the modality - Whats in measured in diffusion imaging\n",
    "\n",
    "**Extending the logic of a data structure** \n",
    "\n",
    "_Stretching a data object across another dimension_\n",
    "\n",
    "Previously, when we discussed the data structure of a T1 we noted that it was a 3 dimensional data structure representing a 3 dimensional object.  Likewise we noted that jpeg imgaes were a 2 (ish, in the case of color) dimensional data represenetation.  In a manner of speaking, the 3-dimensional data structure is just an extension of the same data representation practice as the 2D image.  If we were able to go from 2 dimensional to 3 dimensional, can we go from 3 to 4?\n",
    "\n",
    "Thinking back to a 2 dimensional image, it's possible to extend these objects across the temporal dimension to create an ordered sequence of images.  This could be something like a [Zoetrope](https://en.wikipedia.org/wiki/Zoetrope), or, perhaps more straighforwardly, a movie. In the case of MRI data, we could also extend this data object across the temporal dimension to obtain something like a 3 dimensional movie.  This is, in essence, the idea behind [fMRI](https://en.wikipedia.org/wiki/Functional_magnetic_resonance_imaging), though the activity we are viewing evolve over time with that imaging modality is [Blood-oxygen-level-dependent(BOLD)](https://en.wikipedia.org/wiki/Blood-oxygen-level-dependent_imaging#:~:text=Blood%2Doxygen%2Dlevel%2Ddependent%20imaging%2C%20or%20BOLD%2D,active%20at%20any%20given%20time.), rather than surface reflectance.  For now though, its enough to know that we can extend certian data types (i.e. digital photography images and MRI Volumes/NIFTIs) across the temporal dimenson.  But this isn't the *only* manner in which we can extend them.\n",
    "\n",
    "**Rather than taking a sequence of images across time, what if we simply rotated the object in place?**\n",
    "\n",
    "Let's consider this possibility in the case of 2D images and, for the sake of consistency with our previous examples, lets use the world as an example.  In this case, we'll pretend that we've placed a satellite in orbit around the equator *but* it's \"stationary\" such that Earth appears to be rotating at such a speed that it completes a full rotation every 24 hours.  In a sense, this is basically the same effect as rotating a stationary object in front of a camera.  As the world rotates, we take an image every so often until one full rotation has been made.  By doing this we have compiled a sequence of images that depict the same object from a number of angles.  Furthermore, this would allow us to make some decent inferences about the surface structure of the 3D object from the compilation of 2D images.\n",
    "\n",
    "Lets go ahead and explore this notion by looking at the images from a gif depicting a rotating earth.  Run the next block of code, which contains some code needed to explore a gif, and then use the interactive slider in the subsequent block to rotate around the Earth and get a sense of how a sequence of 2D images can give you information about the structure of a 3D object."
   ]
  },
  {
   "cell_type": "code",
   "execution_count": 1,
   "metadata": {},
   "outputs": [],
   "source": [
    "# this section of code is necessary in order to extract specific frames from a gif sequence\n",
    "# go ahead and run it and move to the next section\n",
    "\n",
    "import os\n",
    "from PIL import Image\n",
    "# directly from https://gist.github.com/almost/d2832d0998ad9dfec2cacef934e7d247\n",
    "# Based on https://gist.github.com/BigglesZX/4016539 (but adapted to be a\n",
    "# generator that yields frames instead of a function that saves out frames)\n",
    "\n",
    "def analyseImage(im):\n",
    "    '''\n",
    "    Pre-process pass over the image to determine the mode (full or additive).\n",
    "    Necessary as assessing single frames isn't reliable. Need to know the mode\n",
    "    before processing all frames.\n",
    "    '''\n",
    "    results = {\n",
    "        'size': im.size,\n",
    "        'mode': 'full',\n",
    "    }\n",
    "    try:\n",
    "        while True:\n",
    "            if im.tile:\n",
    "                tile = im.tile[0]\n",
    "                update_region = tile[1]\n",
    "                update_region_dimensions = update_region[2:]\n",
    "                if update_region_dimensions != im.size:\n",
    "                    results['mode'] = 'partial'\n",
    "                    break\n",
    "            im.seek(im.tell() + 1)\n",
    "    except EOFError:\n",
    "        pass\n",
    "    im.seek(0)\n",
    "    return results\n",
    "\n",
    "\n",
    "def getFrames(im):\n",
    "    '''\n",
    "    Iterate the GIF, extracting each frame.\n",
    "    '''\n",
    "    mode = analyseImage(im)['mode']\n",
    "\n",
    "    p = im.getpalette()\n",
    "    last_frame = im.convert('RGBA')\n",
    "\n",
    "    try:\n",
    "        while True:\n",
    "            '''\n",
    "            If the GIF uses local colour tables, each frame will have its own palette.\n",
    "            If not, we need to apply the global palette to the new frame.\n",
    "            '''\n",
    "            if not im.getpalette():\n",
    "                im.putpalette(p)\n",
    "\n",
    "            new_frame = Image.new('RGBA', im.size)\n",
    "\n",
    "            '''\n",
    "            Is this file a \"partial\"-mode GIF where frames update a region of a different size to the entire image?\n",
    "            If so, we need to construct the new frame by pasting it on top of the preceding frames.\n",
    "            '''\n",
    "            if mode == 'partial':\n",
    "                new_frame.paste(last_frame)\n",
    "\n",
    "            new_frame.paste(im, (0,0), im.convert('RGBA'))\n",
    "            yield new_frame\n",
    "\n",
    "            last_frame = new_frame\n",
    "            im.seek(im.tell() + 1)\n",
    "    except EOFError:\n",
    "        pass\n",
    "\n",
    "\n",
    "def processImage(path):\n",
    "    im = Image.open(path)\n",
    "    for (i, frame) in enumerate(getFrames(im)):\n",
    "        print(\"saving %s frame %d, %s %s\" % (path, i, im.size, im.tile))\n",
    "        frame.save('%s-%d.png' % (''.join(os.path.basename(path).split('.')[:-1]), i), 'PNG')"
   ]
  },
  {
   "cell_type": "code",
   "execution_count": 19,
   "metadata": {},
   "outputs": [
    {
     "name": "stdout",
     "output_type": "stream",
     "text": [
      "240.66666666666666\n"
     ]
    },
    {
     "data": {
      "application/vnd.jupyter.widget-view+json": {
       "model_id": "200e18f015aa437995781979f045e7f5",
       "version_major": 2,
       "version_minor": 0
      },
      "text/plain": [
       "interactive(children=(IntSlider(value=1, continuous_update=False, description='frameSelect', max=722, min=1), …"
      ]
     },
     "metadata": {},
     "output_type": "display_data"
    },
    {
     "data": {
      "text/plain": [
       "<function __main__.update(frameSelect)>"
      ]
     },
     "execution_count": 19,
     "metadata": {},
     "output_type": "execute_result"
    }
   ],
   "source": [
    "from PIL import Image\n",
    "from PIL import GifImagePlugin\n",
    "from ipywidgets import interact, interactive, fixed, interact_manual\n",
    "from ipywidgets import IntSlider\n",
    "import itertools\n",
    "import matplotlib\n",
    "from matplotlib.pyplot import imshow\n",
    "import numpy as np\n",
    "\n",
    "\n",
    "#this code ensures that we can navigate the WiMSE repo across multiple systems\n",
    "import subprocess\n",
    "import os\n",
    "#get top directory path of the current git repository, under the presumption that \n",
    "#the notebook was launched from within the repo directory\n",
    "gitRepoPath=subprocess.check_output(['git', 'rev-parse', '--show-toplevel']).decode('ascii').strip()\n",
    "\n",
    "#move to the top of the directory\n",
    "os.chdir(gitRepoPath)\n",
    "\n",
    "worldGif = Image.open(os.path.join(gitRepoPath,'images','Blue_Marble_rotating.gif'))\n",
    "\n",
    "gifFrameNum=worldGif.n_frames\n",
    "\n",
    "print(gifFrameNum/3)\n",
    "\n",
    "framesGenerator=getFrames(worldGif)\n",
    "\n",
    "def update(frameSelect):\n",
    "    %matplotlib inline\n",
    "    caughtFrame=next(itertools.islice(framesGenerator, frameSelect, None))\n",
    "    imshow(np.asarray(caughtFrame))\n",
    "    \n",
    "    #imshow(caughtFrame)\n",
    "\n",
    "\n",
    "frameSelect=IntSlider(min=1, max=gifFrameNum, step=1,continuous_update=False)    \n",
    "\n",
    "interact(update, frameSelect=frameSelect)\n"
   ]
  },
  {
   "cell_type": "markdown",
   "metadata": {},
   "source": []
  },
  {
   "cell_type": "code",
   "execution_count": null,
   "metadata": {},
   "outputs": [],
   "source": []
  }
 ],
 "metadata": {
  "kernelspec": {
   "display_name": "Python 3",
   "language": "python",
   "name": "python3"
  },
  "language_info": {
   "codemirror_mode": {
    "name": "ipython",
    "version": 3
   },
   "file_extension": ".py",
   "mimetype": "text/x-python",
   "name": "python",
   "nbconvert_exporter": "python",
   "pygments_lexer": "ipython3",
   "version": "3.7.5"
  }
 },
 "nbformat": 4,
 "nbformat_minor": 2
}
