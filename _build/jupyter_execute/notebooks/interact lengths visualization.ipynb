{
 "cells": [
  {
   "cell_type": "markdown",
   "metadata": {},
   "source": [
    "To begin to explore our tractography model, we first have to load the fibergroup.  There are several different file standards for storing tractography including .tck, .trk and .fg.  Despite their differences, they are alike in that they are composed of some finite number of streamlines.   "
   ]
  },
  {
   "cell_type": "code",
   "execution_count": 1,
   "metadata": {},
   "outputs": [
    {
     "name": "stdout",
     "output_type": "stream",
     "text": [
      "[600000]\n"
     ]
    }
   ],
   "source": [
    "import nibabel as nib\n",
    "import numpy as np\n",
    "\n",
    "# load the tractography file into the streamsObjIN variable\n",
    "streamsObjIN=nib.streamlines.load('/Users/plab/Downloads/5c5d35e2f5d2a10052842847/track.tck')\n",
    "\n",
    "# determine the number of streamlines\n",
    "print(list(np.shape(streamsObjIN.tractogram.streamlines)))\n"
   ]
  },
  {
   "cell_type": "markdown",
   "metadata": {},
   "source": [
    "Above we see the total number of streamlines contained within this tractogram.  Typically we would want a million or more in order to adequately cover the entire white matter of the brain.  Here though, we are working with a smaller number as it is easier to use in a notebook.\n",
    "\n",
    "Lets plot two of these streamlines so we can get a sense of what streamlines look like when visualized"
   ]
  },
  {
   "cell_type": "code",
   "execution_count": 2,
   "metadata": {},
   "outputs": [
    {
     "ename": "NameError",
     "evalue": "name 't1_data' is not defined",
     "output_type": "error",
     "traceback": [
      "\u001b[0;31m---------------------------------------------------------------------------\u001b[0m",
      "\u001b[0;31mNameError\u001b[0m                                 Traceback (most recent call last)",
      "\u001b[0;32m<ipython-input-2-dbcae4ae97f4>\u001b[0m in \u001b[0;36m<module>\u001b[0;34m\u001b[0m\n\u001b[1;32m     15\u001b[0m \u001b[0;34m\u001b[0m\u001b[0m\n\u001b[1;32m     16\u001b[0m \u001b[0;34m\u001b[0m\u001b[0m\n\u001b[0;32m---> 17\u001b[0;31m \u001b[0mvol_actor\u001b[0m \u001b[0;34m=\u001b[0m \u001b[0mactor\u001b[0m\u001b[0;34m.\u001b[0m\u001b[0mslicer\u001b[0m\u001b[0;34m(\u001b[0m\u001b[0mt1_data\u001b[0m\u001b[0;34m)\u001b[0m\u001b[0;34m\u001b[0m\u001b[0;34m\u001b[0m\u001b[0m\n\u001b[0m\u001b[1;32m     18\u001b[0m \u001b[0;34m\u001b[0m\u001b[0m\n\u001b[1;32m     19\u001b[0m \u001b[0mvol_actor\u001b[0m\u001b[0;34m.\u001b[0m\u001b[0mdisplay\u001b[0m\u001b[0;34m(\u001b[0m\u001b[0mx\u001b[0m\u001b[0;34m=\u001b[0m\u001b[0;36m40\u001b[0m\u001b[0;34m)\u001b[0m\u001b[0;34m\u001b[0m\u001b[0;34m\u001b[0m\u001b[0m\n",
      "\u001b[0;31mNameError\u001b[0m: name 't1_data' is not defined"
     ]
    }
   ],
   "source": [
    "from dipy.viz import window, actor, colormap as cmap\n",
    "\n",
    "# Enables/disables interactive visualization\n",
    "interactive = True\n",
    "\n",
    "firstTwoStreamline=streamsObjIN.tractogram.streamlines[1:2]\n",
    "\n",
    "\n",
    "\n",
    "\n",
    "# Make display objects\n",
    "color = cmap.line_colors(firstTwoStreamline)\n",
    "cc_streamlines_actor = actor.line(firstTwoStreamline,\n",
    "                                  cmap.line_colors(firstTwoStreamline))\n",
    "\n",
    "\n",
    "vol_actor = actor.slicer(t1_data)\n",
    "\n",
    "vol_actor.display(x=40)\n",
    "vol_actor2 = vol_actor.copy()\n",
    "vol_actor2.display(z=35)\n",
    "\n",
    "# Add display objects to canvas\n",
    "r = window.Renderer()\n",
    "r.add(vol_actor)\n",
    "r.add(vol_actor2)\n",
    "r.add(cc_streamlines_actor)\n",
    "r.add(cc_ROI_actor)"
   ]
  },
  {
   "cell_type": "markdown",
   "metadata": {},
   "source": [
    "Now that we have seen two of these, lets get a more comprehensive feel by plotting all of them ast the same time."
   ]
  },
  {
   "cell_type": "code",
   "execution_count": null,
   "metadata": {},
   "outputs": [],
   "source": [
    "from dipy.viz import window, actor, colormap as cmap\n",
    "\n",
    "# Enables/disables interactive visualization\n",
    "interactive = True\n",
    "\n",
    "#create an object for the first two streamlines\n",
    "firstTwoStreamline=streamsObjIN.tractogram.streamlines[1:2]\n",
    "\n",
    "# Make display objects\n",
    "color = cmap.line_colors(firstTwoStreamline)\n",
    "cc_streamlines_actor = actor.line(firstTwoStreamline,\n",
    "                                  cmap.line_colors(firstTwoStreamline))\n",
    "\n",
    "\n",
    "vol_actor = actor.slicer(t1_data)\n",
    "\n",
    "vol_actor.display(x=40)\n",
    "vol_actor2 = vol_actor.copy()\n",
    "vol_actor2.display(z=35)\n",
    "\n",
    "# Add display objects to canvas\n",
    "r = window.Renderer()\n",
    "r.add(vol_actor)\n",
    "r.add(vol_actor2)\n",
    "r.add(cc_streamlines_actor)\n",
    "r.add(cc_ROI_actor)"
   ]
  },
  {
   "cell_type": "markdown",
   "metadata": {},
   "source": []
  },
  {
   "cell_type": "code",
   "execution_count": null,
   "metadata": {
    "scrolled": true
   },
   "outputs": [],
   "source": [
    "import matplotlib.pyplot as plt\n",
    "%matplotlib inline\n",
    "plt.hist(lengths, bins=200)\n",
    "\n",
    "plt.xlabel('Streamline Length')\n",
    "plt.ylabel('Number of Streamlines')\n",
    "plt.title('Distribution of Streamline Lengths')"
   ]
  },
  {
   "cell_type": "markdown",
   "metadata": {},
   "source": [
    "DISCUSS RELEVANCE OF STREAMLNIE DISTRIBUTION"
   ]
  },
  {
   "cell_type": "code",
   "execution_count": null,
   "metadata": {},
   "outputs": [],
   "source": [
    "ref_nifti=nib.load('/Users/plab/Documents/JupyerData/proj-5c50b6f12daf2e0032f880eb/sub-100206/dt-neuro-parcellation-volume.id-5c50c3f7ecd2f200ccfe9fae/parc.nii.gz')\n",
    "\n",
    "from ipywidgets import interact, interactive, fixed, interact_manual\n",
    "from ipywidgets import FloatSlider\n",
    "\n",
    "niftiData=ref_nifti.get_data()\n",
    "niftiDataInt=niftiData.astype(np.uint16)\n",
    "\n",
    "lengthsArray=np.array(lengths)\n",
    "\n",
    "from dipy.tracking import utils\n",
    "\n",
    "\n",
    "M, grouping = utils.connectivity_matrix(streamlines=streamsObjIN.tractogram.streamlines, \n",
    "                                        affine=ref_nifti.affine, \n",
    "                                        label_volume=niftiDataInt.astype(np.int16),\n",
    "                                        return_mapping=True,\n",
    "                                        mapping_as_streamlines=False)\n",
    "\n",
    "uniqueKeys=np.unique(np.ndarray.flatten(niftiDataInt))\n",
    "\n",
    "\n",
    "import itertools\n",
    "keyList=list(itertools.combinations(range(roiTotal), 2))\n",
    "\n",
    "roiTotal=np.max(uniqueKeys)+1\n",
    "\n",
    "countMatrix=np.zeros([roiTotal,roiTotal])\n",
    "\n",
    "import itertools\n",
    "keyList=list(itertools.combinations(range(roiTotal), 2))\n",
    "\n",
    "countList=[0]*len(keyList)\n",
    "\n",
    "for iKeys in range(len(keyList)):\n",
    "    curIndexes=np.asarray(grouping[keyList[iKeys]])\n",
    "    countList[iKeys]=np.sort(lengthsArray[curIndexes.astype(int)])\n",
    "    \n",
    "lowerBound = 0\n",
    "upperBound = 100\n",
    "    \n",
    "def draw_adaptiveMatrix():    \n",
    "    global keyList\n",
    "    global countList\n",
    "    global lowerBound\n",
    "    global upperBound\n",
    "    for iKeys in range(len(keyList)): \n",
    "        curIndex=keyList[iKeys]\n",
    "        countMatrix[curIndex] =((lowerBound < countList[iKeys]) & (countList[iKeys] < upperBound)).sum()    \n",
    "        countMatrix[curIndex[::-1]] =((lowerBound < countList[iKeys]) & (countList[iKeys] < upperBound)).sum()    \n",
    "    \n",
    "    import matplotlib.pyplot as plt\n",
    "    plt.subplot(1, 2, 1)\n",
    "    plt.imshow(np.log1p(countMatrix), interpolation='nearest')\n",
    "    plt.xlabel('Atlas ROI number')\n",
    "    plt.ylabel('Atlas ROI number')\n",
    "    \n",
    "    fig = plt.gcf()\n",
    "    #fig.colorbar(np.log1p(countMatrix))\n",
    "    fig.set_size_inches(18.5, 10.5)\n",
    "    \n",
    "    plt.subplot(1, 2, 2)\n",
    "    plt.hist(lengths, bins=200)\n",
    "    xposition = [lowerBound,upperBound]\n",
    "    for xc in xposition:\n",
    "        plt.axvline(x=xc, color='r', linestyle='--', linewidth=3)\n",
    "    plt.xlabel('Streamline Length')\n",
    "    plt.ylabel('Number of Streamlines')\n",
    "    plt.title('Distribution of Streamline Lengths')\n",
    "    \n",
    "    return\n",
    "\n",
    "\n",
    "def update_bound(minimum, maximum):\n",
    "    global upperBound\n",
    "    global lowerBound\n",
    "    lowerBound = minimum\n",
    "    upperBound = maximum\n",
    "    draw_adaptiveMatrix()\n",
    "\n",
    "print(\"now running\")    \n",
    "minslide=FloatSlider(min=np.min(lengthsArray), max=np.max(lengthsArray), step=1,continuous_update=False)\n",
    "maxslide=FloatSlider(min=np.min(lengthsArray), max=np.max(lengthsArray), step=1,continuous_update=False)\n",
    "interact(update_bound, minimum=minslide, maximum=maxslide)\n",
    "#interact(update_upperbound, maximum=maxslide)\n",
    "#draw_adaptiveMatrix()\n",
    "\n",
    "#interact(adaptiveMatrix,{'lowerBound':FloatSlider(min=np.min(lengthsArray), max=np.max(lengthsArray), step=1, continuous_update=False),'upperBound':FloatSlider(min=np.min(lengthsArray), max=np.max(lengthsArray), step=1, continuous_update=False)})"
   ]
  },
  {
   "cell_type": "markdown",
   "metadata": {
    "collapsed": true
   },
   "source": [
    "DISCUSS HOW VARYING LENGTHS AND PROPERTIES OF THE STREAMLINES CORRESPOND TO SEPARATE ANATOMICAL FEATURES OF THE BRAIN"
   ]
  },
  {
   "cell_type": "code",
   "execution_count": null,
   "metadata": {},
   "outputs": [],
   "source": []
  },
  {
   "cell_type": "code",
   "execution_count": null,
   "metadata": {},
   "outputs": [],
   "source": []
  },
  {
   "cell_type": "code",
   "execution_count": null,
   "metadata": {},
   "outputs": [],
   "source": []
  },
  {
   "cell_type": "code",
   "execution_count": null,
   "metadata": {},
   "outputs": [],
   "source": []
  }
 ],
 "metadata": {
  "anaconda-cloud": {},
  "kernelspec": {
   "display_name": "Python 3",
   "language": "python",
   "name": "python3"
  },
  "language_info": {
   "codemirror_mode": {
    "name": "ipython",
    "version": 3
   },
   "file_extension": ".py",
   "mimetype": "text/x-python",
   "name": "python",
   "nbconvert_exporter": "python",
   "pygments_lexer": "ipython3",
   "version": "3.7.5"
  }
 },
 "nbformat": 4,
 "nbformat_minor": 1
}