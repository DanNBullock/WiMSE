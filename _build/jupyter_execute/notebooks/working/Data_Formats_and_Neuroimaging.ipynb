{
 "cells": [
  {
   "cell_type": "markdown",
   "metadata": {},
   "source": [
    "# Data formats and neuroimaging\n",
    "\n",
    "### \"Show me your flowchart and conceal your tables, and I shall continue to be mystified. Show me your tables, and I won't usually need your flowchart; it'll be obvious.\" -- Fred Brooks, The Mythical Man Month (1975)\n",
    "\n",
    "### \"...the difference between a bad programmer and a good one is whether he considers his code or his data structures more important. Bad programmers worry about the code. Good programmers worry about data structures and their relationships.\"  Linus Torvalds,  (2006-06-27)\n",
    "\n",
    "You may be wondering why we've begun this notebook series with quotes about tables, flowcharts, code, and data structures.  You may also be wondering why the first several chapters of this notebook series apparently deal with JPEGs.  You didn't sign up for a class on data science or photography, so why is this notebook talking about these things!? Herein lies the raison d'etre of this notebook series:\n",
    "\n",
    "<br />\n",
    "<div align=\"center\">Data formats dictate usage</div>\n",
    "<br />\n",
    "\n",
    "The organization, relations, and norms of a data structure's representational components (the \"atomistic\" features of a data object that make it \"about\" some particular thing) determine how that data structure can be used.  More importantly, in order for a given function, program, or application to make use of a data object it has to make certian assumptions about how the information contained within that object is structured.  If those assumptions turn out to be incorrect then those tools cannot fufill their intended purpose.  Think about the practical implications of this:  if there were no data format standards for a given data type (e.g. audio, static image, or moving image data) then there would be no way for individuals to develop products that make use of this data type.  This would be because those individuals (and the things they create) would have no idea how the information contained within the data object provided by users (or other programs) should be interprted.  However, with the provision of rigorous data structure standards, it is possible for rich and complex ecosystems of functions, programs, and applications to develop.  This is indeed the process being observed in the field of neuroimaging.\n",
    "\n",
    "## A brief history of neuroimaging data\n",
    "...\n",
    "\n",
    "\n",
    "\n"
   ]
  },
  {
   "cell_type": "code",
   "execution_count": null,
   "metadata": {},
   "outputs": [],
   "source": []
  }
 ],
 "metadata": {
  "kernelspec": {
   "display_name": "Python 3",
   "language": "python",
   "name": "python3"
  },
  "language_info": {
   "codemirror_mode": {
    "name": "ipython",
    "version": 3
   },
   "file_extension": ".py",
   "mimetype": "text/x-python",
   "name": "python",
   "nbconvert_exporter": "python",
   "pygments_lexer": "ipython3",
   "version": "3.7.5"
  }
 },
 "nbformat": 4,
 "nbformat_minor": 2
}