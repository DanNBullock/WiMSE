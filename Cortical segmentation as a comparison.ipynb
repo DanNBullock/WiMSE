{
 "cells": [
  {
   "cell_type": "markdown",
   "metadata": {},
   "source": [
    "[Introduct Anatomical T1 ]"
   ]
  },
  {
   "cell_type": "code",
   "execution_count": 5,
   "metadata": {},
   "outputs": [],
   "source": [
    "#load the t1\n",
    "import nibabel as nib\n",
    "img = nib.load('/Users/plab/Documents/JupyerData/proj-5c50b6f12daf2e0032f880eb/sub-100206/dt-neuro-anat-t1w.tag-acpc_aligned.tag-brain_extracted.id-5c57072befbc2800526291bb/t1.nii.gz')"
   ]
  },
  {
   "cell_type": "markdown",
   "metadata": {},
   "source": [
    "[now that we have it in memory what kinds of questions can we ask]"
   ]
  },
  {
   "cell_type": "code",
   "execution_count": 13,
   "metadata": {},
   "outputs": [
    {
     "data": {
      "text/plain": [
       "(145, 174, 145)"
      ]
     },
     "execution_count": 13,
     "metadata": {},
     "output_type": "execute_result"
    }
   ],
   "source": [
    "dataDimensions=img.shape\n",
    "dataDimensions"
   ]
  },
  {
   "cell_type": "markdown",
   "metadata": {},
   "source": [
    "[what does this mean] [What's in one of these entries]"
   ]
  },
  {
   "cell_type": "code",
   "execution_count": 8,
   "metadata": {},
   "outputs": [
    {
     "data": {
      "text/plain": [
       "851.6476440429688"
      ]
     },
     "execution_count": 8,
     "metadata": {},
     "output_type": "execute_result"
    }
   ],
   "source": [
    "data = img.get_fdata()\n",
    "data[96,86,57]"
   ]
  },
  {
   "cell_type": "markdown",
   "metadata": {},
   "source": [
    "[That's in one, whats in all?]"
   ]
  },
  {
   "cell_type": "code",
   "execution_count": 27,
   "metadata": {
    "scrolled": true
   },
   "outputs": [
    {
     "name": "stdout",
     "output_type": "stream",
     "text": [
      "Total number of voxels\n",
      "3658350\n",
      "Minimum voxel value\n",
      "-31.94868278503418\n",
      "Maximum voxel value\n",
      "1591.8572998046875\n",
      "Number of voxel values less than or equal to zero\n",
      "2685933\n",
      "Number of voxel values greater than zero\n",
      "972417\n"
     ]
    },
    {
     "data": {
      "text/plain": [
       "Text(0.5, 1.0, 'Distributon of voxel values above greater than zero')"
      ]
     },
     "execution_count": 27,
     "metadata": {},
     "output_type": "execute_result"
    },
    {
     "data": {
      "image/png": "[encoded data removed]",
      "text/plain": [
       "<Figure size 1332x756 with 2 Axes>"
      ]
     },
     "metadata": {
      "needs_background": "light"
     },
     "output_type": "display_data"
    }
   ],
   "source": [
    "import matplotlib.pyplot as plt\n",
    "import numpy as np\n",
    "%matplotlib inline\n",
    "unwrappedData=np.ndarray.flatten(data)\n",
    "\n",
    "\n",
    "print('Total number of voxels')\n",
    "voxTotal=dataDimensions[0]*dataDimensions[1]*dataDimensions[2]\n",
    "print(voxTotal)\n",
    "\n",
    "print('Minimum voxel value')\n",
    "print(np.min(unwrappedData))\n",
    "\n",
    "print('Maximum voxel value')\n",
    "print(np.max(unwrappedData))\n",
    "\n",
    "splitPoint=0\n",
    "\n",
    "def smallVal(n): \n",
    "    return n<=splitPoint\n",
    "def largeVal(n):\n",
    "    return n>splitPoint\n",
    "\n",
    "result=map(smallVal,unwrappedData)\n",
    "smallBool=list(result)\n",
    "\n",
    "result=map(largeVal,unwrappedData)\n",
    "largeBool=list(result)\n",
    "\n",
    "print('Number of voxel values less than or equal to zero')\n",
    "print(sum(smallBool))\n",
    "\n",
    "print('Number of voxel values greater than zero')\n",
    "print(sum(largeBool))\n",
    "\n",
    "plt.subplot(1, 2, 1)\n",
    "plt.hist(unwrappedData[smallBool], bins=40)\n",
    "plt.xlabel('Voxel Data')\n",
    "plt.ylabel('Number of Voxels')\n",
    "plt.title('Distributon of voxel less than or equal to zero')\n",
    "fig = plt.gcf()\n",
    "fig.set_size_inches(18.5, 10.5)\n",
    "\n",
    "plt.subplot(1, 2, 2)\n",
    "plt.hist(unwrappedData[largeBool], bins=1000)\n",
    "plt.xlabel('Voxel Data')\n",
    "plt.ylabel('Number of Voxels')\n",
    "plt.title('Distributon of voxel values  greater than zero')"
   ]
  },
  {
   "cell_type": "markdown",
   "metadata": {},
   "source": [
    "[discuss nifti t1 as a data entity]\n",
    "[How does this work as a map of anatomy]  spatial representation"
   ]
  },
  {
   "cell_type": "code",
   "execution_count": 29,
   "metadata": {},
   "outputs": [
    {
     "name": "stdout",
     "output_type": "stream",
     "text": [
      "(1.25, 1.25, 1.25)\n"
     ]
    }
   ],
   "source": [
    "print(img.header.get_zooms())"
   ]
  },
  {
   "cell_type": "markdown",
   "metadata": {},
   "source": [
    "Describe relevance of of this measure.  how does this data look when we arrange it spatially?"
   ]
  },
  {
   "cell_type": "code",
   "execution_count": 1,
   "metadata": {},
   "outputs": [
    {
     "data": {
      "text/plain": [
       "<Figure size 640x480 with 0 Axes>"
      ]
     },
     "metadata": {},
     "output_type": "display_data"
    },
    {
     "data": {
      "application/vnd.jupyter.widget-view+json": {
       "model_id": "b48f5157c50e41af872f242c2f8f8507",
       "version_major": 2,
       "version_minor": 0
      },
      "text/plain": [
       "interactive(children=(IntSlider(value=72, continuous_update=False, description='x', max=144), IntSlider(value=…"
      ]
     },
     "metadata": {},
     "output_type": "display_data"
    }
   ],
   "source": [
    "from niwidgets import NiftiWidget\n",
    "from niwidgets import examplet1\n",
    "\n",
    "T1Path='/Users/plab/Documents/JupyerData/proj-5c50b6f12daf2e0032f880eb/sub-100206/dt-neuro-anat-t1w.tag-acpc_aligned.tag-brain_extracted.id-5c57072befbc2800526291bb/t1.nii.gz'\n",
    "\n",
    "\n",
    "test_widget = NiftiWidget(T1Path)\n",
    "test_widget.nifti_plotter()\n",
    "\n",
    "\n"
   ]
  },
  {
   "cell_type": "markdown",
   "metadata": {},
   "source": [
    "Now for parcellations.  How do they work"
   ]
  },
  {
   "cell_type": "code",
   "execution_count": 38,
   "metadata": {},
   "outputs": [],
   "source": [
    "import nibabel as nib\n",
    "atlasPath='/Users/plab/Documents/JupyerData/proj-5c50b6f12daf2e0032f880eb/sub-100206/dt-neuro-parcellation-volume.id-5c50c3f7ecd2f200ccfe9fae/parc.nii.gz'\n",
    "atlasImg = nib.load(atlasPath)"
   ]
  },
  {
   "cell_type": "code",
   "execution_count": 39,
   "metadata": {},
   "outputs": [
    {
     "name": "stdout",
     "output_type": "stream",
     "text": [
      "Data dimensions\n",
      "(182, 217, 182)\n"
     ]
    }
   ],
   "source": [
    "atlasDataDimensions=atlasImg.shape\n",
    "print('Data dimensions')\n",
    "print(atlasDataDimensions)"
   ]
  },
  {
   "cell_type": "code",
   "execution_count": 40,
   "metadata": {},
   "outputs": [
    {
     "name": "stdout",
     "output_type": "stream",
     "text": [
      "[  0.   1.   2.   3.   4.   5.   6.   7.   8.   9.  10.  11.  12.  13.\n",
      "  14.  15.  16.  17.  18.  19.  20.  21.  22.  23.  24.  25.  26.  27.\n",
      "  28.  29.  30.  31.  32.  33.  34.  35.  36.  37.  38.  39.  40.  41.\n",
      "  42.  43.  44.  45.  46.  47.  48.  49.  50.  51.  52.  53.  54.  55.\n",
      "  56.  57.  58.  59.  60.  61.  62.  63.  64.  65.  66.  67.  68.  69.\n",
      "  70.  71.  72.  73.  74.  75.  76.  77.  78.  79.  80.  81.  82.  83.\n",
      "  84.  85.  86.  87.  88.  89.  90.  91.  92.  93.  94.  95.  96.  97.\n",
      "  98.  99. 100. 101. 102. 103. 104. 105. 106. 107. 108. 109. 110. 111.\n",
      " 112. 113. 114. 115. 116. 117. 118. 119. 120. 122. 123. 124. 125. 126.\n",
      " 127. 128. 129. 130. 131. 132. 133. 134. 135. 136. 137. 138. 139. 140.\n",
      " 141. 142. 143. 144. 145. 146. 147. 148. 149. 150. 151. 152. 153. 154.\n",
      " 155. 156. 157. 158. 159. 160. 161. 162. 163. 164. 165. 166. 167. 168.\n",
      " 169. 170. 171. 172. 173. 174. 175. 176. 177. 178. 179. 180. 181. 182.\n",
      " 183. 184. 185. 186. 187. 188. 189. 190. 191. 192. 193. 194. 195. 196.\n",
      " 197. 198. 199. 200. 201. 202. 203. 204. 205. 206. 207. 208. 209. 210.\n",
      " 211. 212. 213. 214. 215. 216. 217. 218. 219. 220. 221. 222. 223. 224.\n",
      " 225. 226. 227. 228. 229. 230. 231. 232. 233. 234. 235. 236. 237. 238.\n",
      " 239. 240. 241. 242. 243. 244. 245. 246. 247. 248. 249. 250. 251. 252.\n",
      " 253. 254. 255. 256. 257. 258. 259. 260. 261. 262. 263. 264. 265. 266.\n",
      " 267. 268. 269. 270. 271. 272. 273. 274. 275. 276. 277. 278. 279. 280.\n",
      " 281. 282. 283. 284. 285. 286. 287. 288. 289. 290. 291. 292. 293. 294.\n",
      " 295. 296. 297. 298. 299. 300. 301. 303. 304. 305. 306. 307. 308. 309.\n",
      " 310. 311. 312. 313. 314. 315. 316. 317. 318. 319. 320. 321. 322. 323.\n",
      " 324. 325. 326. 327. 328. 329. 330. 331. 332. 333. 334. 335. 336. 337.\n",
      " 338. 339. 340. 341. 342. 343. 344. 345. 346. 347. 348. 349. 350. 351.\n",
      " 352. 353. 354. 355. 356. 357. 358. 359. 360. 361. 362. 363. 364. 365.\n",
      " 366. 367. 368. 369. 370. 371. 372. 373. 374. 375. 376.]\n"
     ]
    }
   ],
   "source": [
    "atlasData = atlasImg.get_fdata()\n",
    "print('Number of unique labels in ')\n",
    "print(np.unique(atlasData))"
   ]
  },
  {
   "cell_type": "code",
   "execution_count": null,
   "metadata": {},
   "outputs": [],
   "source": [
    "import matplotlib.pyplot as plt\n",
    "import numpy as np\n",
    "%matplotlib inline\n",
    "unwrappedData=np.ndarray.flatten(data)\n",
    "\n",
    "\n",
    "print('Total number of voxels')\n",
    "voxTotal=dataDimensions[0]*dataDimensions[1]*dataDimensions[2]\n",
    "print(voxTotal)\n",
    "\n",
    "print('Minimum voxel value')\n",
    "print(np.min(unwrappedData))\n",
    "\n",
    "print('Maximum voxel value')\n",
    "print(np.max(unwrappedData))\n",
    "\n",
    "splitPoint=0\n",
    "\n",
    "def smallVal(n): \n",
    "    return n<=splitPoint\n",
    "def largeVal(n):\n",
    "    return n>splitPoint\n",
    "\n",
    "result=map(smallVal,unwrappedData)\n",
    "smallBool=list(result)\n",
    "\n",
    "result=map(largeVal,unwrappedData)\n",
    "largeBool=list(result)\n",
    "\n",
    "print('Number of voxel values less than or equal to zero')\n",
    "print(sum(smallBool))\n",
    "\n",
    "print('Number of voxel values greater than zero')\n",
    "print(sum(largeBool))\n",
    "\n",
    "plt.subplot(1, 2, 1)\n",
    "plt.hist(unwrappedData[smallBool], bins=40)\n",
    "plt.xlabel('Voxel Data')\n",
    "plt.ylabel('Number of Voxels')\n",
    "plt.title('Distributon of voxel less than or equal to zero')\n",
    "fig = plt.gcf()\n",
    "fig.set_size_inches(18.5, 10.5)\n",
    "\n",
    "plt.subplot(1, 2, 2)\n",
    "plt.hist(unwrappedData[largeBool], bins=1000)\n",
    "plt.xlabel('Voxel Data')\n",
    "plt.ylabel('Number of Voxels')\n",
    "plt.title('Distributon of voxel values  greater than zero')"
   ]
  },
  {
   "cell_type": "code",
   "execution_count": 30,
   "metadata": {},
   "outputs": [
    {
     "data": {
      "text/plain": [
       "<Figure size 432x288 with 0 Axes>"
      ]
     },
     "metadata": {},
     "output_type": "display_data"
    },
    {
     "data": {
      "application/vnd.jupyter.widget-view+json": {
       "model_id": "3ee3d40eaf4948eead426ab70c87c2d1",
       "version_major": 2,
       "version_minor": 0
      },
      "text/plain": [
       "interactive(children=(IntSlider(value=90, continuous_update=False, description='x', max=181), IntSlider(value=…"
      ]
     },
     "metadata": {},
     "output_type": "display_data"
    }
   ],
   "source": [
    "\n",
    "atlasPath='/Users/plab/Documents/JupyerData/proj-5c50b6f12daf2e0032f880eb/sub-100206/dt-neuro-parcellation-volume.id-5c50c3f7ecd2f200ccfe9fae/parc.nii.gz'\n",
    "\n",
    "atlas_widget = NiftiWidget(atlasPath)\n",
    "atlas_widget.nifti_plotter()"
   ]
  },
  {
   "cell_type": "markdown",
   "metadata": {},
   "source": [
    "[Discuss how this works]\n",
    "\n",
    "As you explore the parcellation there are a number of things to take note of.  First and foremost we can note the means by which the parcellation actually parcellates the brain.  Note that the parcellation is, in essence, a volumetric mask which contains integer values corresponding to labels stored in a lookup table.  Each voxel is identified as corresponding to some component of an anatomical entity.  The anatomical entities that manifest in a parcellation vary depending on what standard is used, but typically they correspond to For example [PROVIDE EXAMPLE HERE].  \n",
    "\n",
    "\n"
   ]
  },
  {
   "cell_type": "markdown",
   "metadata": {},
   "source": []
  },
  {
   "cell_type": "markdown",
   "metadata": {},
   "source": [
    "    Furthermore, because parcellations are performed on a specific subject's anatomy, the overlaying of one subject's parcellation on another subjects brain will result in an uninformative and innacruate characterization of the subject's brain.\n",
    "    \n",
    "DISPLAY MISMATCH HERE"
   ]
  },
  {
   "cell_type": "markdown",
   "metadata": {},
   "source": [
    "    Next, we look at the tractogram in order to get a better sense of white matter's relation to tractography using the preceeding discussion as a basis for comparison."
   ]
  }
 ],
 "metadata": {
  "anaconda-cloud": {},
  "kernelspec": {
   "display_name": "Python 3",
   "language": "python",
   "name": "python3"
  },
  "language_info": {
   "codemirror_mode": {
    "name": "ipython",
    "version": 3
   },
   "file_extension": ".py",
   "mimetype": "text/x-python",
   "name": "python",
   "nbconvert_exporter": "python",
   "pygments_lexer": "ipython3",
   "version": "3.7.5"
  }
 },
 "nbformat": 4,
 "nbformat_minor": 1
}
