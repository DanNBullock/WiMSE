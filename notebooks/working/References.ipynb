{
 "cells": [
  {
   "cell_type": "markdown",
   "metadata": {},
   "source": [
    "# References\n",
    "\n",
    "Ashburner, J., and K. J. Friston. 1999. “Nonlinear Spatial Normalization Using Basis Functions.” Human Brain Mapping 7 (4): 254–66.\n",
    "\n",
    "Avena-Koenigsberger, Andrea, Joaquín Goñi, Richard F. Betzel, Martijn P. van den Heuvel, Alessandra Griffa, Patric Hagmann, Jean-Philippe Thiran, and Olaf Sporns. 2014. “Using Pareto Optimality to Explore the Topology and Dynamics of the Human Connectome.” Philosophical Transactions of the Royal Society of London. Series B, Biological Sciences 369 (1653). https://doi.org/10.1098/rstb.2013.0530.\n",
    "\n",
    "Behrens, Timothy E. J., and Olaf Sporns. 2012. “Human Connectomics.” Current Opinion in Neurobiology. https://doi.org/10.1016/j.conb.2011.08.005.\n",
    "\n",
    "Boesen, Kristi, Kelly Rehm, Kirt Schaper, Sarah Stoltzner, Roger Woods, Eileen Lüders, and David Rottenberg. 2004. “Quantitative Comparison of Four Brain Extraction Algorithms.” NeuroImage 22 (3): 1255–61.\n",
    "\n",
    "Brett, Matthew, Christopher J. Markiewicz, Michael Hanke, Marc-Alexandre Côté, Ben Cipollini, Paul McCarthy, Dorota Jarecka, et al. 2020. “Nipy/nibabel: 3.2.1,” November. https://doi.org/10.5281/zenodo.4295521.\n",
    "Bullmore, Ed, and Olaf Sporns. 2009. “Complex Brain Networks: Graph Theoretical Analysis of Structural and Functional Systems.” Nature Reviews. Neuroscience 10 (3): 186–98.\n",
    "\n",
    "Bullock, Daniel, Soichi Hayashi, Lindsey Kitchell, Franco Pestilli, Steven O’Riley, and Brad Caron. 2019. “White Matter Anatomy Segmentation.” April 29, 2019. https://doi.org/10.25663/brainlife.app.188\n",
    "\n",
    "Bullock, Daniel, Soichi Hayashi, Franco Pestilli, and Sophia Vinci-Booher. 2019. “Segment Tractogram into Fiber Categories.” November 11, 2019. https://doi.org/10.25663/brainlife.app.249.\n",
    "\n",
    "Collins, D. Louis, D. Louis Collins, C. J. Holmes, T. M. Peters, and A. C. Evans. 1995. “Automatic 3-D Model-Based Neuroanatomical Segmentation.” Human Brain Mapping. https://doi.org/10.1002/hbm.460030304.\n",
    "\n",
    "Destrieux, Christophe, Bruce Fischl, Anders Dale, and Eric Halgren. 2010. “Automatic Parcellation of Human Cortical Gyri and Sulci Using Standard Anatomical Nomenclature.” NeuroImage 53 (1): 1–15.\n",
    "\n",
    "Duit, Reinders. 1991. “On the Role of Analogies and Metaphors in Learning Science.” Science Education. https://doi.org/10.1002/sce.3730750606.\n",
    "\n",
    "Duyn, Jeff H., Yihong Yang, Joseph A. Frank, and Jan Willem van der Veen. 1998. “Simple Correction Method Fork-Space Trajectory Deviations in MRI.” Journal of Magnetic Resonance. https://doi.org/10.1006/jmre.1998.1396.\n",
    "\n",
    "Eickhoff, Simon B., B. T. Thomas Yeo, and Sarah Genon. 2018. “Imaging-Based Parcellations of the Human Brain.” Nature Reviews. Neuroscience 19 (11): 672–86.\n",
    "\n",
    "Fischl, Bruce. 2012. “FreeSurfer.” NeuroImage. https://doi.org/10.1016/j.neuroimage.2012.01.021.\n",
    "\n",
    "Garyfallidis, Eleftherios, Matthew Brett, Bagrat Amirbekian, Ariel Rokem, Stefan van der Walt, Maxime Descoteaux, Ian Nimmo-Smith, and Dipy Contributors. 2014. “Dipy, a Library for the Analysis of Diffusion MRI Data.” Frontiers in Neuroinformatics 8 (February): 8.\n",
    "\n",
    "Hunter, John D. 2007. “Matplotlib: A 2D Graphics Environment.” Computing in Science & Engineering. https://doi.org/10.1109/mcse.2007.55.\n",
    "Presseau, Caroline, Pierre-Marc Jodoin, Jean-Christophe Houde, and Maxime Descoteaux. 2015. “A New Compression Format for Fiber Tracking Datasets.” NeuroImage 109 (April): 73–83.\n",
    "\n",
    "Rheault, Francois, Jean-Christophe Houde, and Maxime Descoteaux. 2017. “Visualization, Interaction and Tractometry: Dealing with Millions of Streamlines from Diffusion MRI Tractography.” Frontiers in Neuroinformatics 11 (June): 42.\n",
    "\n",
    "Talairach, Jean, and Pierre Tournoux. 1988. Co-Planar Stereotaxic Atlas of the Human Brain: 3-Dimensional Proportional System : An Approach to Cerebral Imaging. George Thieme Verlag.\n",
    "\n",
    "Toga, Arthur W. 1998. Brain Warping. Elsevier.\n",
    "Tournier, J-Donald, Fernando Calamante, and Alan Connelly. 2007. “Robust Determination of the Fibre Orientation Distribution in Diffusion MRI: Non-Negativity Constrained Super-Resolved Spherical Deconvolution.” NeuroImage 35 (4): 1459–72.\n",
    "\n",
    "———. 2012. “MRtrix: Diffusion Tractography in Crossing Fiber Regions.” International Journal of Imaging Systems and Technology. https://doi.org/10.1002/ima.22005.\n",
    "\n",
    "Tournier, J-Donald, Robert Smith, David Raffelt, Rami Tabbara, Thijs Dhollander, Maximilian Pietsch, Daan Christiaens, Ben Jeurissen, Chun-Hung Yeh, and Alan Connelly. 2019. “MRtrix3: A Fast, Flexible and Open Software Framework for Medical Image Processing and Visualisation.” NeuroImage 202 (November): 116137.\n",
    "\n",
    "Wang, Samuel S-H, Jennifer R. Shultz, Mark J. Burish, Kimberly H. Harrison, Patrick R. Hof, Lex C. Towns, Matthew W. Wagers, and Krysta D. Wyatt. 2008. “Functional Trade-Offs in White Matter Axonal Scaling.” The Journal of Neuroscience: The Official Journal of the Society for Neuroscience 28 (15): 4047–56.\n",
    "\n",
    "Wassermann, Demian, Nikos Makris, Yogesh Rathi, Martha Shenton, Ron Kikinis, Marek Kubicki, and Carl-Fredrik Westin. 2013. “On Describing Human White Matter Anatomy: The White Matter Query Language.” Medical Image Computing and Computer-Assisted Intervention: MICCAI ... International Conference on Medical Image Computing and Computer-Assisted Intervention 16 (Pt 1): 647–54."
   ]
  },
  {
   "cell_type": "code",
   "execution_count": null,
   "metadata": {},
   "outputs": [],
   "source": []
  }
 ],
 "metadata": {
  "kernelspec": {
   "display_name": "Python 3",
   "language": "python",
   "name": "python3"
  },
  "language_info": {
   "codemirror_mode": {
    "name": "ipython",
    "version": 3
   },
   "file_extension": ".py",
   "mimetype": "text/x-python",
   "name": "python",
   "nbconvert_exporter": "python",
   "pygments_lexer": "ipython3",
   "version": "3.7.5"
  }
 },
 "nbformat": 4,
 "nbformat_minor": 2
}
