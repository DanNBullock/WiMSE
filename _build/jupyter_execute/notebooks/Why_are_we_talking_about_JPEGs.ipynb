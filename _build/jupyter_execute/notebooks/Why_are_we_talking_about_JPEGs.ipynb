{
 "cells": [
  {
   "cell_type": "markdown",
   "metadata": {},
   "source": [
    "# Why are we talking about JPEGs\n",
    "\n",
    "## But... why JPEGs?\n",
    "\n",
    "Although the title of this collection of interactive lessons is WiMSE (White Matter Segmentation Education), and presumably you are here to learn about neuroscience, our first several lessons will have us exploring JPEGs rather than brain images.  **Why is that**?\n",
    "\n",
    "Although our ultimate goal will be to develop an intuitive understanding of how to conduct digital investigations of white matter anatomy, it will be helpful to begin with an example of a data structure that everyone (at least, denizens of our modern digital era) is familar with.  This is where JPEGs come in.  [JPEGs (Joint Photographic Experts Group)](https://jpeg.org/jpeg/) are a standardized two dimensional (2D) digital image format that we typicaly encounter dozens of time a day as we browse the internet.  There are other image formats (PNG, for example), but JPEG is perhaps the most famous for images.  As such, we will begin exploring concepts related to structured data representation (and im particular, *image* represenatation) using JPEGs.  We will use JPEGs to establish a number of analogies to the primary image type used in neuroimaging research, the [NIfTI (Neuroimaging Informatics Technology Initiative)](https://nifti.nimh.nih.gov/).  Research has shown that analogies and metaphors are particularly helpful when learning new concepts (REINDERS DUIT, 1991).  Indeed, in many cases the comparisons we make will be more akin to logical extensions than metaphors.  Regardless, it is **not** expected that individuals using this lesson set are particularly familiar with the NIfTI data format, and so several non-technical features of this data type will be be discussed to help build this understanding.\n",
    "\n",
    "For more experienced users though, our upcoming discussion of the NIfTI format may seem out of place.   NIfTI data objects aren't used to store connectivity data, which is the essence of white matter (and the key feature that data formats for white matter attempt to capture).  While this is true, it is necesary to discuss NIfTI data structures for two important reasons:  (1)  The difficulties in segmenting white matter structures (in connectivity-centric data formats) are well highlighted by comparsion to the process of segmentation volumetric structures (in NIfTI/volumetric-type formats) and (2) A good white matter segmentation can make exentsive use of information stored in or derived from NIfTI files (for example, [FreeSurfer](https://surfer.nmr.mgh.harvard.edu/) parcellations).  Thus, our consideration of white matter segmentation will begin with digital images, proceed to NIfTI-type images (in this case T1 images), and then move on to the topics of tractography and segmentation.\n",
    "\n",
    "Below you'll find a table that provides an outline of the similarities / analogies between the various data formats that will be discussed.  In the coming lessons we'll begin to make the connections between the analagous characteristics of these data formats explicit.  At various points we will return to a consideration of this table and reflect on how the features being discussed relate to features that have been or will be discussed.  \n",
    "\n",
    "|   | **Digital Photograph** | **Brain Image (T1)** | **Tractography** |\n",
    "| --- | --- | --- | --- |\n",
    "| _Object represented_ | visual scene | cranium / brain | white matter of brain |\n",
    "| _Source system_ | camera | MRI scanner | MRI scanner |\n",
    "| _Source phenomena_ | reflected light | water / magnetic properties | water movement |\n",
    "| _Property of interest_ | surface reflectance | volumetric occupancy | anatomical connectibity |\n",
    "| _File extension_ | .jpg, .png ... | .nifti, nii.gz | .fg, .trk, .tck |\n",
    "| _Metadata_ | exif | header | ? |\n",
    "| _Data size_ | 100s kb - 1s MB | ~2.5 - 5 MB |  500 MB - 10 GB |\n",
    "| _Data dimensionality_ | &quot;2D&quot;(3 RGB layers) | 3D | 1D nested? |\n",
    "| _Data &quot;atoms&quot;_ | pixels | voxels | vectors (streamlines) |\n",
    "| _Data &quot;atom&quot; content_ | integer | float | ordered float sequence (nodes) |"
   ]
  },
  {
   "cell_type": "code",
   "execution_count": null,
   "metadata": {},
   "outputs": [],
   "source": []
  }
 ],
 "metadata": {
  "kernelspec": {
   "display_name": "Python 3",
   "language": "python",
   "name": "python3"
  },
  "language_info": {
   "codemirror_mode": {
    "name": "ipython",
    "version": 3
   },
   "file_extension": ".py",
   "mimetype": "text/x-python",
   "name": "python",
   "nbconvert_exporter": "python",
   "pygments_lexer": "ipython3",
   "version": "3.7.5"
  }
 },
 "nbformat": 4,
 "nbformat_minor": 2
}