{
 "cells": [
  {
   "cell_type": "markdown",
   "metadata": {},
   "source": [
    "What is the goal of this work?\n",
    "    Although our ability to generate more and more plausible models of human white matter architecture via diffusion-based tractography has improved in recent years, there still remain many challenges to characterizing the mesoscale structure of such models.  This is particularly true if the goal of our characterizations is to conduct a comparison across subjects or groups.  One approach to developing such characterizations has been the segmentation of whole-brain, streamline based models, referred to as tractomes, into smaller collections of streamlines which correspond to known white matter structures.  Though it is a matter for disucssion later, its worth noting here that this is just one approach to generate a model of white matter among many.  However, it is here argued that the rapidly increasing popularity of tractography-based brain research [FIG/REF]--and white matter segmentation-based research more specifically [FIG/REF]--highlights an as-of-yet unmet need in the field: a comprehensive guide to modern, digital white matter segmentation.  This gap stands as a huge challenge for all those working on this topic.  Consequences of this gap can be observed quite readily in the field.\n",
    "    The ongoing proliferation of automated & semi-automated segmentation methods [REFs], along with the continuing popularity of manual segmentation methods [REFs], is potentially [INDICATIVE?SUGGESTIVE?] of a field with an excessively wide range of [UNSPOKEN PRESUMPTIONS].  Having these many groups working independently (or semi-independently) may be a desirable state of affairs in a nacient field such as ours, but this may also give us cause for concern.  While it is true that disparate investigators may be better able to search the model-space [REF] constituting potential approaches to white matter segmentation, this framework really only works if researchers can orient their work in a useful fashion with one another.  Unfortunately, perhaps because of the limitations of traditional publication resources [REFs] or because of the necessary opacity of code or toolbox implementations [REFs], many of the presumptions, general approaches, and conceptual frameworks underlying these approaches remain unspoken or undercharacterized.  Herein, an attempt to deal with these challenges is presented.\n",
    "    The work presented in this collection is intended to acheive two goals with one, comprehensive approach.  By taking a step back from the somewhat artisan-like approach that has taken hold in the field, wherein bespoke segmentations are produced by practitioners who have developed \n",
    "    \n",
    "    \n",
    "\n",
    "\n",
    "Specifics\n",
    "Currently, there are a number of individuals engaged in developing and refining segmentation methods, both for automated and manual approaches.  Unfortunately, the publications and descriptions associated with these efforts often focus on the products of these methods (i.e. the fidelity of the segmented streamline model with anatomical findings).  Consequently, a great deal of the insights which these segmentation approaches are predicated upon remain undocumented.  This presents a major challenge to individuals entering the field and/or developing their own segmentation, as they are often left to develop their own expertise without any foundational reference point for their efforts.  This has led to those working in the field of white matter segmentation behaving more as tradesmen or artists rather than scientists or engineers because the insight they have accrued is not passed on in a comprehensive, publicly available, transparent, or structured fashion.  In this project, we will remedy this by providing an interactive resource to serve as a guide on this topic.  A number of researchers are currently producing guides of this sort for other topics (i.e. Ariel Rokem, Elizabeth DuPre, Kirstie Whitaker, etc).\n",
    "\n",
    "\n",
    "\n",
    "What is white matter segmentation?\n",
    "\n",
    "    The process of white matter segmentation, which this series of interactive notebooks will explore in some detail, is best understood in virtue of its goal(s).  That is, \"What it segmentation *actually* attempting to acheive?\"  Although the set of researchers engaged in this work may have disparate goals, there are threads that bind their work.  Namely, it seems reasonable to claim that what we are doing when we segment the white matter of the brain is this: we are attempting to distinguish, identify, and perhaps even characterize anatomical structures of the white matter relative to one another and the surrounding brain tissue.  More to the point, our goal is to be able to do this in a \"consistent\" fashion--whether presented with a brain featuring a neurological abnormality or a brain from a particularly young or old invidual.  \"Consistent\" is indeed the key word here, and it is pulling double duty in the preceeding sentence.  In the first and most general sense, we simply treat segmentation like any other \n",
    "    \n",
    "    \n",
    "    to do this in any given brain so that the identified structures of that brain can be compared to homologous structures in other brains or to accepted standard characterizations of those structures, as specified by the authoratative resources or individuals of our field.  This is not unlike the process of using a resource like Gray's Anatomy [REF] to identify parts of a given body.  Old as that resource may be, its insights are still perfectly useful and valid to this day.  Similarly, even as we engage in the study and segmentation of white matter in the 21st century, we can and often do find ourselves making references to work done centuries ago.  Indeed, a quick consideration of the way that historical white matter work was done can help contextualize why and how we do things the way we do today.\n",
    "\n",
    "[historical background]. Having considered our historical predecessors, we can now shift our attention to our our own anatomical work and adress a question that should surely be  \n",
    "    \n",
    "    Granted, there are a number of characteristics that distinguish that process from the process of white matter segmentation that we'll examine, but for now the whole body analogy at least provides an idea of our overarching goals.\n",
    "    \n",
    "    \n",
    "    \n",
    "    \n",
    "    of cortical segmentation conducted most notably by Freesurfer, as well as a number of other methodologies.  A consideration of the characteristics of a cortical segmentation can provide a useful basis for comparison."
   ]
  },
  {
   "cell_type": "code",
   "execution_count": null,
   "metadata": {
    "collapsed": true
   },
   "outputs": [],
   "source": [
    "#Taken from the pysurfer website\n",
    "import os\n",
    "from os.path import join as pjoin\n",
    "from surfer import Brain\n",
    "\n",
    "print(__doc__)\n",
    "\n",
    "subject_id = 'fsaverage'\n",
    "hemi = 'both'\n",
    "surf = 'inflated'\n",
    "view = 'frontal'\n",
    "\n",
    "\"\"\"\n",
    "Bring up the visualization\n",
    "\"\"\"\n",
    "brain = Brain(subject_id, hemi, surf, views=view,\n",
    "              cortex=\"bone\", background=\"ivory\")\n",
    "\n",
    "\"\"\"\n",
    "Display the 'aparc' parcellation borders.\n",
    "To use annotations that live in your subject's\n",
    "label directory, just use the annot name.\n",
    "\"\"\"\n",
    "brain.add_annotation(\"aparc\")\n",
    "\n",
    "\"\"\"\n",
    "You can also display the regions with \"filled in\" colors\n",
    "\"\"\"\n",
    "brain.add_annotation(\"aparc\", borders=False)\n",
    "\n",
    "\"\"\"\n",
    "You may also provide a full path to an annotation file\n",
    "at an arbitray location on the disc. You can also\n",
    "plot things separately for the left and right hemispheres.\n",
    "\"\"\"\n",
    "subjects_dir = os.environ[\"SUBJECTS_DIR\"]\n",
    "annot_path = pjoin(subjects_dir, subject_id, \"label\", \"lh.aparc.annot\")\n",
    "brain.add_annotation(annot_path, hemi='lh', borders=False, alpha=.75)\n",
    "annot_path = pjoin(subjects_dir, subject_id, \"label\", \"rh.aparc.a2009s.annot\")\n",
    "brain.add_annotation(annot_path, hemi='rh', borders=2, remove_existing=False)"
   ]
  },
  {
   "cell_type": "markdown",
   "metadata": {},
   "source": [
    "    As you explore the parcellation there are a number of things to take note of.  First and foremost we can note the means by which the parcellation actually parcellates the brain.  Note that the parcellation is, in essence, a volumetric mask which contains integer values corresponding to labels stored in a lookup table.  Each voxel is identified as corresponding to some component of an anatomical entity.  The anatomical entities that manifest in a parcellation vary depending on what standard is used, but typically they correspond to For example [PROVIDE EXAMPLE HERE].  \n",
    "\n",
    "DISPLAY SPECIFIC AREA HERE\n"
   ]
  },
  {
   "cell_type": "markdown",
   "metadata": {},
   "source": [
    "    It is absolutely essential aligned to an anatomical representation of the brain (in this case the T1), and thereby manifests a structured correspondance to the brain.  This is acheived via the correct application of an affine transform which brings the parcellation into alignment with the anatomical representation.  If the affine is missaplied or inaccurate, the labeling of the parcellation will not correspond to the appropriate strcutures.\n",
    "    \n",
    "ALLOW USER TO MANIPULATE AFFINE HERE"
   ]
  },
  {
   "cell_type": "markdown",
   "metadata": {},
   "source": [
    "    Furthermore, because parcellations are performed on a specific subject's anatomy, the overlaying of one subject's parcellation on another subjects brain will result in an uninformative and innacruate characterization of the subject's brain.\n",
    "    \n",
    "DISPLAY MISMATCH HERE"
   ]
  },
  {
   "cell_type": "markdown",
   "metadata": {},
   "source": [
    "    Next, we look at the tractogram in order to get a better sense of white matter's relation to tractography using the preceeding discussion as a basis for comparison."
   ]
  }
 ],
 "metadata": {
  "anaconda-cloud": {},
  "kernelspec": {
   "display_name": "Python [Root]",
   "language": "python",
   "name": "Python [Root]"
  },
  "language_info": {
   "codemirror_mode": {
    "name": "ipython",
    "version": 2
   },
   "file_extension": ".py",
   "mimetype": "text/x-python",
   "name": "python",
   "nbconvert_exporter": "python",
   "pygments_lexer": "ipython2",
   "version": "2.7.12"
  }
 },
 "nbformat": 4,
 "nbformat_minor": 0
}
