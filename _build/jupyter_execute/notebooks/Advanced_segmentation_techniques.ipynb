{
 "cells": [
  {
   "cell_type": "markdown",
   "metadata": {},
   "source": [
    "# Advanced segmentation techniques\n",
    "\n",
    "In the previous chapter we introduced the fundamental operation of digital white matter segmentation:  the application of an inclusion (or exclusion) ROI.  We began with the intuitive case of a planar ROI, which was used to assess the traversal of streamlines across a certian coordinate threshold.  We then demonstrated another example of ROI intersecton using a sphere.  These are both quite common applications of regions of interest to white matter segmentation, however they are by no means _exhaustive_ of our tools for segmenting.  Indeed, in keeping with the recurrent insight that being able to releverage established tools can be of *immense* utility, one of our most powerful tools is being able to use anatomical parcellations (from structural data, e.g. [Freesurfer](https://surfer.nmr.mgh.harvard.edu/).  As we shall see, this is quite similar to how we used state color data to mask the digital image of the United States, or parcellation data to mask\n",
    "\n",
    "## The first step: using anatomical ROIs\n",
    "\n",
    "\n",
    "## Using parcellation ROIs to establish anatomically defined planar ROIS\n",
    "\n",
    "## Modifying parcellation ROIs using planar ROIs (i.e. cutting)\n",
    "\n",
    "## Modifying anatomically defined planar ROIs using other anatomically defined planar ROIs\n",
    "\n",
    "## Inflating parcellation regions of interest\n",
    "\n",
    "### "
   ]
  },
  {
   "cell_type": "code",
   "execution_count": null,
   "metadata": {},
   "outputs": [],
   "source": []
  }
 ],
 "metadata": {
  "kernelspec": {
   "display_name": "Python 3",
   "language": "python",
   "name": "python3"
  },
  "language_info": {
   "codemirror_mode": {
    "name": "ipython",
    "version": 3
   },
   "file_extension": ".py",
   "mimetype": "text/x-python",
   "name": "python",
   "nbconvert_exporter": "python",
   "pygments_lexer": "ipython3",
   "version": "3.7.5"
  }
 },
 "nbformat": 4,
 "nbformat_minor": 2
}