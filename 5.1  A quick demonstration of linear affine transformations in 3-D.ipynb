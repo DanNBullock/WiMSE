{
 "cells": [
  {
   "cell_type": "code",
   "execution_count": null,
   "metadata": {},
   "outputs": [],
   "source": []
  },
  {
   "cell_type": "code",
   "execution_count": 2,
   "metadata": {},
   "outputs": [],
   "source": [
    "import nibabel as nib\n",
    "#establish path to parcellation\n",
    "atlasPath='/Users/plab/Documents/JupyerData/proj-5941a225f876b000210c11e5/sub-100206/dt-neuro-freesurfer.tag-v5.id-5967bffa9b45c212bbec8958/output/label/aparc.a2009s+aseg.nii.gz'\n",
    "#load it as an object\n",
    "atlasImg = nib.load(atlasPath)\n",
    "\n",
    "#establish path to t1\n",
    "t1Path='/Users/plab/Documents/JupyerData/proj-5c50b6f12daf2e0032f880eb/sub-100206/dt-neuro-anat-t1w.tag-acpc_aligned.tag-brain_extracted.id-5c57072befbc2800526291bb/t1.nii.gz'\n",
    "#import the data\n",
    "t1img = nib.load(t1Path)\n",
    "\n"
   ]
  },
  {
   "cell_type": "code",
   "execution_count": 15,
   "metadata": {},
   "outputs": [
    {
     "data": {
      "text/plain": [
       "<Figure size 432x288 with 0 Axes>"
      ]
     },
     "metadata": {},
     "output_type": "display_data"
    },
    {
     "data": {
      "application/vnd.jupyter.widget-view+json": {
       "model_id": "3d51edc230524cbebca1079c72438189",
       "version_major": 2,
       "version_minor": 0
      },
      "text/plain": [
       "interactive(children=(IntSlider(value=127, continuous_update=False, description='x', max=255), IntSlider(value…"
      ]
     },
     "metadata": {},
     "output_type": "display_data"
    }
   ],
   "source": [
    "atlasImgAff=atlasImg.affine\n",
    "\n",
    "import nilearn\n",
    "t1Resampled=nilearn.image.resample_img(t1img,target_affine=atlasImgAff,target_shape=atlasImg.shape)\n",
    "\n",
    "from niwidgets import NiftiWidget\n",
    "atlas_widget = NiftiWidget(t1Resampled)\n",
    "\n",
    "atlas_widget.nifti_plotter(colormap='nipy_spectral')"
   ]
  },
  {
   "cell_type": "code",
   "execution_count": 38,
   "metadata": {},
   "outputs": [
    {
     "data": {
      "application/vnd.jupyter.widget-view+json": {
       "model_id": "937a41ba0eef47d6b76584ff1d6a1514",
       "version_major": 2,
       "version_minor": 0
      },
      "text/plain": [
       "interactive(children=(IntSlider(value=0, continuous_update=False, description='xSlice', max=256), IntSlider(va…"
      ]
     },
     "metadata": {},
     "output_type": "display_data"
    },
    {
     "data": {
      "text/plain": [
       "<function __main__.multiDimOverlayPlot(xSlice, ySlice, zSlice)>"
      ]
     },
     "execution_count": 38,
     "metadata": {},
     "output_type": "execute_result"
    }
   ],
   "source": [
    "def fig2Img(figure2convert):\n",
    "    from matplotlib.backends.backend_agg import FigureCanvasAgg as FigureCanvas\n",
    "    from matplotlib.figure import Figure\n",
    "    import matplotlib\n",
    "    import numpy as np\n",
    "\n",
    "    #canvas = FigureCanvas(figure2convert)\n",
    "    ax = figure2convert.gca()\n",
    "    ax.axis('off')\n",
    "    figure2convert.tight_layout(pad=0)\n",
    "\n",
    "    # To remove the huge white borders\n",
    "    ax.margins(0)\n",
    "\n",
    "    figure2convert.canvas.draw()       # draw the canvas, cache the renderer\n",
    "    \n",
    "\n",
    "    image_from_plot = np.frombuffer(figure2convert.canvas.tostring_rgb(), dtype=np.uint8)\n",
    "    image_from_plot = image_from_plot.reshape(figure2convert.canvas.get_width_height()[::-1] + (3,))\n",
    "\n",
    "    return image_from_plot\n",
    "    \n",
    "def multiDimOverlayPlot(xSlice,ySlice,zSlice):\n",
    "    #import dipy regtools\n",
    "    from dipy.viz import regtools \n",
    "    #import matplotlib functions\n",
    "\n",
    "    image1=t1Resampled\n",
    "    image2=atlasImg\n",
    "    \n",
    "    import matplotlib.pyplot as plt\n",
    "    from matplotlib.pyplot import imshow\n",
    "\n",
    "    sagitalFig=regtools.overlay_slices(image1.get_fdata(),image2.get_fdata(),slice_index=xSlice, slice_type=0)\n",
    "    coronalFig=regtools.overlay_slices(image1.get_fdata(),image2.get_fdata(),slice_index=ySlice, slice_type=1)\n",
    "    axialFig=regtools.overlay_slices(image1.get_fdata(),image2.get_fdata(),slice_index=zSlice, slice_type=2)\n",
    "   \n",
    "    \n",
    "#multiDimOverlayPlot(t1Resampled,atlasImg,132,132,132)\n",
    "from ipywidgets import interact, interactive, fixed, interact_manual\n",
    "from ipywidgets import IntSlider\n",
    "\n",
    "interact(multiDimOverlayPlot, \\\n",
    "         xSlice=IntSlider(min=0, max=256, step=1,continuous_update=False),  \\\n",
    "         ySlice=IntSlider(min=0, max=256, step=1,continuous_update=False), \\\n",
    "         zSlice=IntSlider(min=0, max=256, step=1,continuous_update=False)\n",
    "         )"
   ]
  },
  {
   "cell_type": "code",
   "execution_count": null,
   "metadata": {},
   "outputs": [],
   "source": []
  }
 ],
 "metadata": {
  "kernelspec": {
   "display_name": "Python 3",
   "language": "python",
   "name": "python3"
  },
  "language_info": {
   "codemirror_mode": {
    "name": "ipython",
    "version": 3
   },
   "file_extension": ".py",
   "mimetype": "text/x-python",
   "name": "python",
   "nbconvert_exporter": "python",
   "pygments_lexer": "ipython3",
   "version": "3.7.5"
  }
 },
 "nbformat": 4,
 "nbformat_minor": 2
}
