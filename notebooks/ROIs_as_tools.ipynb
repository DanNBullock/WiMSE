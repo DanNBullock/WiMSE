{
 "cells": [
  {
   "cell_type": "markdown",
   "metadata": {},
   "source": [
    "# ROIs as tools\n",
    "\n",
    "In our previous chapters on images and NiFTIs the elementary action of \"masking\" was discussed.  In essence, what we were doing there was selecting a subset of the object's elements based on the application of some quantative criteria.  In the digital 2-D image we used distance from a color, while in the brain NiFTI case we used whether or not a particular voxel corresponded to a given label in an associated parcellation.  Conceptually we're not doing anything that different in the case of tractograms and streamlines:  we want to subselect some finite number of the streamlines in a tractogram in accordance with an explicitly selected criterion.  So how do we do that?  We use a Region of Interest (ROI) (and a streamline's relation to it).  Lets consider ROIs a bit more closely.\n",
    "\n",
    "### What is an ROI?\n",
    "\n",
    "In practice, a Region of Interest can be stored in a number of ways, but the specifics of this are beyond the scope of our purpose.  What we want to know is \"what is the fundamental characteristic of an ROI that makes it of use to us?\".  At its heart, an ROI, in the context of streamline/tractogram segmentation, is a [point cloud](https://en.wikipedia.org/wiki/Point_cloud): a set of X, Y, and Z coordinates corresponding to points in the same relative coordinate space as your tractogram. Whereas the streamlines of a tractogram are an ordered sequence of coordinates, the coordinates of an ROI are not in any particular order.  Typically, they are used to define a particular volume of space and are sampled in a regular fashion, forming a 3-D lattice.  Often times these take the shape of a sphere or plane.  In a moment, we will begin by creating an example (and formatless) planar ROI. "
   ]
  },
  {
   "cell_type": "markdown",
   "metadata": {},
   "source": [
    "## ROIs in practice\n",
    "\n",
    "It is worth noting that the [ROI description provided above](#what_is_an_roi?) is quite general, and imposes only the most limited constraints on what an ROI could actually be.  For example, there is nothing precluding an investigator from creating a single point ROI, or at the other extreme, an ROI spanning the entire reference volume (i.e. the volume of space that the ROI is sub-selecting from).  In practice though, there are certian general categories of ROIs that tend to be used, due to the kinds of kinds of queries/applications they can be used for.  Lets consider a few of these now:\n",
    "\n",
    "### A planar ROI\n",
    "\n",
    "A _full_ plane is a special case of a region of interest.  Specifically, it constitutes a \"flat\" (in that it exhibits the minimum level of thickness possible, in one dimension) set of coordinates which (in the case of a _full_ plane ROI) extend the full span of the \"other\" dimensions of the reference space.  For example, a planar ROI located at X = -20, would be a plane extending the _entire_ Y and Z dimensions, but only occupying a single \"slice\" in the X dimension.  Note that, the essential characteristics for specifying a planar ROI are:\n",
    "\n",
    "- 1. The coordinate of interest\n",
    "- 2. The dimension of interest\n",
    "\n",
    "Lets interact with an example at **-20** in the **X** plane.  Note the use of _WMA_pyFuncs.makePlanarROI_ with these inputs to generate the desired ROI.  As you move the X slider (labeled _xCoord_) throught the X dimension, notice that the entire saggital image changes color, indicating the presence of the ROI/mask. "
   ]
  },
  {
   "cell_type": "code",
   "execution_count": 1,
   "metadata": {},
   "outputs": [
    {
     "data": {
      "application/vnd.jupyter.widget-view+json": {
       "model_id": "",
       "version_major": 2,
       "version_minor": 0
      },
      "text/plain": [
       "interactive(children=(IntSlider(value=0, continuous_update=False, description='xCoord', max=90, min=-91), IntS…"
      ]
     },
     "metadata": {},
     "output_type": "display_data"
    },
    {
     "data": {
      "text/plain": [
       "<function __main__.rotateAndPlotWrapper(xCoord, yCoord, zCoord)>"
      ]
     },
     "execution_count": 1,
     "metadata": {},
     "output_type": "execute_result"
    }
   ],
   "source": [
    "#this code ensures that we can navigate the WiMSE repo across multiple systems\n",
    "import subprocess\n",
    "import os\n",
    "#get top directory path of the current git repository, under the presumption that \n",
    "#the notebook was launched from within the repo directory\n",
    "gitRepoPath=subprocess.check_output(['git', 'rev-parse', '--show-toplevel']).decode('ascii').strip()\n",
    "\n",
    "#establish path to the \n",
    "wma_toolsDirPath=os.path.join(gitRepoPath,'wma_pyTools')   \n",
    "\n",
    "#change to the wma_tools path, load the function set, then change back to the top directory\n",
    "os.chdir(wma_toolsDirPath)\n",
    "import WMA_pyFuncs\n",
    "os.chdir(gitRepoPath)\n",
    "\n",
    "import nibabel as nib\n",
    "from nilearn.plotting import plot_roi\n",
    "import matplotlib\n",
    "\n",
    "#establish path to t1\n",
    "t1Path=os.path.join(gitRepoPath,'exampleData','t1.nii.gz')   \n",
    "\n",
    "#import the data\n",
    "t1img = nib.load(t1Path)\n",
    "\n",
    "#use a wma_tools function to make a planar roi.\n",
    "roi_img=WMA_pyFuncs.makePlanarROI(t1img, -20 , 'x')\n",
    "\n",
    "import numpy as np\n",
    "#done to establish bounds of image in acpc space\n",
    "fullMask = nib.nifti1.Nifti1Image(np.ones(t1img.get_fdata().shape), t1img.affine, t1img.header)\n",
    "#pass full mask to boundary function\n",
    "t1DimBounds=WMA_pyFuncs.returnMaskBoundingBoxVoxelIndexes(fullMask)\n",
    "#convert the coords to subject space in order set max min values for interactive visualization\n",
    "convertedBoundCoords=nib.affines.apply_affine(t1img.affine,t1DimBounds)\n",
    "\n",
    "from ipywidgets import interact, interactive, fixed, interact_manual\n",
    "from ipywidgets import IntSlider\n",
    "\n",
    "#wrapper for interactive visualization\n",
    "def rotateAndPlotWrapper(xCoord,yCoord,zCoord):\n",
    "    from nilearn import plotting\n",
    "    import nibabel as nib\n",
    "    import numpy as np\n",
    "\n",
    "    %matplotlib inline\n",
    "    plotting.plot_roi(roi_img=roi_img, bg_img=t1img, cut_coords=[xCoord,yCoord,zCoord])\n",
    "    \n",
    "interact(rotateAndPlotWrapper, \\\n",
    "    xCoord=IntSlider(min=np.min(convertedBoundCoords[:,0].astype(int)), max=np.max(convertedBoundCoords[:,0].astype(int)), step=1,continuous_update=False),  \\\n",
    "    yCoord=IntSlider(min=np.min(convertedBoundCoords[:,1].astype(int)), max=np.max(convertedBoundCoords[:,1].astype(int)), step=1,continuous_update=False), \\\n",
    "    zCoord=IntSlider(min=np.min(convertedBoundCoords[:,2].astype(int)), max=np.max(convertedBoundCoords[:,2].astype(int)), step=1,continuous_update=False))"
   ]
  },
  {
   "cell_type": "markdown",
   "metadata": {},
   "source": [
    "### A partial planar ROI\n",
    "\n",
    "A full plane ROI isn't the only trick we have up our sleeve.  It's also possible to \"cut\" the full plane ROI to obtain a partial plane ROI.  Note that, in order to do this we would need to provide:\n",
    "\n",
    "- 1. The coordinate to cut the original ROI\n",
    "- 2. The dimension along which that [singleton] cut coordinate should be interpreted\n",
    "- 3. The portion of the original ROI we want to keep, provided in relative anatomical terms.\n",
    "\n",
    "Note how this is done by using _WMA_pyFuncs.makePlanarROI_ to make _knife\\_roi_, and then how 'posterior' is used with _WMA\\_pyFuncs.sliceROIwithPlane_"
   ]
  },
  {
   "cell_type": "code",
   "execution_count": 2,
   "metadata": {},
   "outputs": [
    {
     "data": {
      "application/vnd.jupyter.widget-view+json": {
       "model_id": "",
       "version_major": 2,
       "version_minor": 0
      },
      "text/plain": [
       "interactive(children=(IntSlider(value=0, continuous_update=False, description='xCoord', max=90, min=-91), IntS…"
      ]
     },
     "metadata": {},
     "output_type": "display_data"
    },
    {
     "data": {
      "text/plain": [
       "<function __main__.rotateAndPlotWrapper(xCoord, yCoord, zCoord)>"
      ]
     },
     "execution_count": 2,
     "metadata": {},
     "output_type": "execute_result"
    }
   ],
   "source": [
    "#use a wma_tools function to make a planar roi.\n",
    "#roi_img=WMA_pyFuncs.makePlanarROI(t1img, -20 , 'x')\n",
    "#we already have this from the previous run, so lets use it here\n",
    "\n",
    "#first though we need to generate a planar ROI to \"cut\" with\n",
    "knife_roi=WMA_pyFuncs.makePlanarROI(t1img, 0 , 'y')\n",
    "\n",
    "#now cut the roi_img ROI\n",
    "cut_roi=WMA_pyFuncs.sliceROIwithPlane(roi_img,knife_roi,'posterior')\n",
    "\n",
    "from ipywidgets import interact, interactive, fixed, interact_manual\n",
    "from ipywidgets import IntSlider\n",
    "\n",
    "#wrapper for interactive visualization\n",
    "def rotateAndPlotWrapper(xCoord,yCoord,zCoord):\n",
    "    from nilearn import plotting\n",
    "    import nibabel as nib\n",
    "    import numpy as np\n",
    "\n",
    "    %matplotlib inline\n",
    "    plotting.plot_roi(roi_img=cut_roi, bg_img=t1img, cut_coords=[xCoord,yCoord,zCoord])\n",
    "    \n",
    "interact(rotateAndPlotWrapper, \\\n",
    "    xCoord=IntSlider(min=np.min(convertedBoundCoords[:,0].astype(int)), max=np.max(convertedBoundCoords[:,0].astype(int)), step=1,continuous_update=False),  \\\n",
    "    yCoord=IntSlider(min=np.min(convertedBoundCoords[:,1].astype(int)), max=np.max(convertedBoundCoords[:,1].astype(int)), step=1,continuous_update=False), \\\n",
    "    zCoord=IntSlider(min=np.min(convertedBoundCoords[:,2].astype(int)), max=np.max(convertedBoundCoords[:,2].astype(int)), step=1,continuous_update=False))\n",
    "\n",
    "\n"
   ]
  },
  {
   "cell_type": "markdown",
   "metadata": {},
   "source": [
    "### A spherical ROI\n",
    " \n",
    "The construction of a spherical ROI proceeds in much the same was as a planar roi, except the point cloud lattice now extends in 3 dimensions.  There are two important characteristics for a spherical ROI which can, in essence, sum up (or be used to generate) the sphere.\n",
    "\n",
    "- 1.  The center coordinate\n",
    "- 2.  The radius\n",
    "\n",
    "\n",
    "Lets generate a spherical ROI now.  We will be using a [ready-made function](https://github.com/cosanlab/nltools/blob/91822a45778415ee2cdded7134e60bcde2bb7814/nltools/mask.py#L50) taken from the [nitools toolkit](https://github.com/cosanlab/nltools/tree/91822a45778415ee2cdded7134e60bcde2bb7814) to generate this example sphere (centered at 0,0,0)"
   ]
  },
  {
   "cell_type": "code",
   "execution_count": 3,
   "metadata": {},
   "outputs": [
    {
     "data": {
      "application/vnd.jupyter.widget-view+json": {
       "model_id": "",
       "version_major": 2,
       "version_minor": 0
      },
      "text/plain": [
       "interactive(children=(IntSlider(value=0, continuous_update=False, description='xCoord', max=90, min=-91), IntS…"
      ]
     },
     "metadata": {},
     "output_type": "display_data"
    },
    {
     "data": {
      "text/plain": [
       "<function __main__.rotateAndPlotWrapper(xCoord, yCoord, zCoord)>"
      ]
     },
     "execution_count": 3,
     "metadata": {},
     "output_type": "execute_result"
    }
   ],
   "source": [
    "radius=10\n",
    "point=[0,0,0]\n",
    "outputSphereNifti=WMA_pyFuncs.createSphere(radius, point, t1img)\n",
    "\n",
    "from nilearn import plotting\n",
    "import nibabel as nib\n",
    "import numpy as np\n",
    "def rotateAndPlotWrapper(xCoord,yCoord,zCoord):\n",
    "    %matplotlib inline\n",
    "    plotting.plot_roi(roi_img=outputSphereNifti, bg_img=t1img, cut_coords=[xCoord,yCoord,zCoord])\n",
    "    \n",
    "interact(rotateAndPlotWrapper, \\\n",
    "xCoord=IntSlider(min=np.min(convertedBoundCoords[:,0].astype(int)), max=np.max(convertedBoundCoords[:,0].astype(int)), step=1,continuous_update=False),  \\\n",
    "yCoord=IntSlider(min=np.min(convertedBoundCoords[:,1].astype(int)), max=np.max(convertedBoundCoords[:,1].astype(int)), step=1,continuous_update=False), \\\n",
    "zCoord=IntSlider(min=np.min(convertedBoundCoords[:,2].astype(int)), max=np.max(convertedBoundCoords[:,2].astype(int)), step=1,continuous_update=False))\n",
    "\n"
   ]
  },
  {
   "cell_type": "markdown",
   "metadata": {},
   "source": [
    "### A modified spherical ROI\n",
    "\n",
    "it is also possible to modify this spherical ROI in the same way that we modified the planar ROI.  As before we have to provide:\n",
    "\n",
    "- 1. The coordinate to cut the original ROI\n",
    "- 2. The dimension along which that [singleton] cut coordinate should be interpreted\n",
    "- 3. The portion of the original ROI we want to keep, provided in relative anatomical terms.\n",
    "\n",
    "Lets cut the sphere from the previous example in half, at the origin and keep the anterior half."
   ]
  },
  {
   "cell_type": "code",
   "execution_count": 4,
   "metadata": {},
   "outputs": [
    {
     "data": {
      "application/vnd.jupyter.widget-view+json": {
       "model_id": "",
       "version_major": 2,
       "version_minor": 0
      },
      "text/plain": [
       "interactive(children=(IntSlider(value=0, continuous_update=False, description='xCoord', max=90, min=-91), IntS…"
      ]
     },
     "metadata": {},
     "output_type": "display_data"
    },
    {
     "data": {
      "text/plain": [
       "<function __main__.rotateAndPlotWrapper(xCoord, yCoord, zCoord)>"
      ]
     },
     "execution_count": 4,
     "metadata": {},
     "output_type": "execute_result"
    }
   ],
   "source": [
    "#first though we need to generate a planar ROI to \"cut\" with\n",
    "knife_roi=WMA_pyFuncs.makePlanarROI(t1img, 0 , 'y')\n",
    "\n",
    "#now cut the roi_img ROI\n",
    "cutSphere_roi=WMA_pyFuncs.sliceROIwithPlane(outputSphereNifti,knife_roi,'anterior')\n",
    "\n",
    "from ipywidgets import interact, interactive, fixed, interact_manual\n",
    "from ipywidgets import IntSlider\n",
    "\n",
    "#wrapper for interactive visualization\n",
    "def rotateAndPlotWrapper(xCoord,yCoord,zCoord):\n",
    "    from nilearn import plotting\n",
    "    import nibabel as nib\n",
    "    import numpy as np\n",
    "\n",
    "    %matplotlib inline\n",
    "    plotting.plot_roi(roi_img=cutSphere_roi, bg_img=t1img, cut_coords=[xCoord,yCoord,zCoord])\n",
    "    \n",
    "interact(rotateAndPlotWrapper, \\\n",
    "    xCoord=IntSlider(min=np.min(convertedBoundCoords[:,0].astype(int)), max=np.max(convertedBoundCoords[:,0].astype(int)), step=1,continuous_update=False),  \\\n",
    "    yCoord=IntSlider(min=np.min(convertedBoundCoords[:,1].astype(int)), max=np.max(convertedBoundCoords[:,1].astype(int)), step=1,continuous_update=False), \\\n",
    "    zCoord=IntSlider(min=np.min(convertedBoundCoords[:,2].astype(int)), max=np.max(convertedBoundCoords[:,2].astype(int)), step=1,continuous_update=False))"
   ]
  },
  {
   "cell_type": "markdown",
   "metadata": {},
   "source": [
    "### An anatomically defined ROI\n",
    "\n",
    "Finally, and certianly not lastly, we can generate ROIs by using pre-existing anatomical atlases.  We only need provide the following:\n",
    "\n",
    "- A reference anatomical atlas/parcellation (volumetric)\n",
    "- An indicator of which label we would like extracted (typically a name or an integer)\n",
    "\n",
    "This turns out to be an extremely useful capability which we will explore in subsequent chapters.  Below you'll be able to select the anatomically related ROI and view its location in the brain.\n",
    "\n",
    "Remember back to the example of a multi object map from when we were considering 2 dimensional satellite images (chapter \"Multi object maps in images\").  This is, in essence, the same sort of masking operation, except that (1) we're now doing it in 3 dimensions and (2) we are no longer having to use color-distance as a proxy as the labeled entires are provided directly to is un the form of integer labels (see chapter \"How to interpret a volumetric brain segmentation\" for a review)\n",
    "\n",
    "Note:  Its possible to modify anatomically defined ROIs in the same fashion as we modified planar and spherical ROIs previously.  We'll save that for a more advanced lesson though."
   ]
  },
  {
   "cell_type": "code",
   "execution_count": 6,
   "metadata": {},
   "outputs": [
    {
     "data": {
      "application/vnd.jupyter.widget-view+json": {
       "model_id": "5b7f1ab917e24e71b29ad24e0ba12b81",
       "version_major": 2,
       "version_minor": 0
      },
      "text/plain": [
       "interactive(children=(Dropdown(description='anatomicalLabel', index=1, options=(('Unknown', 0), ('Left-Cerebra…"
      ]
     },
     "metadata": {},
     "output_type": "display_data"
    },
    {
     "data": {
      "text/plain": [
       "<function __main__.rotateAndPlotWrapper(roiNum, xCoord, yCoord, zCoord)>"
      ]
     },
     "execution_count": 6,
     "metadata": {},
     "output_type": "execute_result"
    }
   ],
   "source": [
    "#establish path to t1\n",
    "atlasPath=os.path.join(gitRepoPath,'exampleData','parc.nii.gz')\n",
    "#load it as an object\n",
    "atlasImg = nib.load(atlasPath)\n",
    "atlasData = atlasImg.get_fdata()\n",
    "#set the print option so it isn't printing in scientific notation\n",
    "np.set_printoptions(suppress=True)\n",
    "#condense to unique values\n",
    "uniqueAtlasEntries=np.unique(atlasData).astype(int)\n",
    "\n",
    "import pandas as pd\n",
    "FSTablePath=os.path.join(gitRepoPath,'exampleData','FreesurferLookup.csv')\n",
    "#read table using pandas\n",
    "FSTable=pd.read_csv(FSTablePath)\n",
    "#create a boolean vector for the indexes which are in uniqueAtlasEntries\n",
    "currentIndexesBool=FSTable['#No.'].isin(uniqueAtlasEntries)\n",
    "#create new data frame with the relevant entries\n",
    "currentParcellationEntries=FSTable.loc[currentIndexesBool]\n",
    "\n",
    "dropDownList=list(zip(currentParcellationEntries['LabelName:'].to_list(), currentParcellationEntries['#No.'].to_list()))\n",
    "\n",
    "\n",
    "#import the data\n",
    "atlasImg = nib.load(atlasPath)\n",
    "\n",
    "def rotateAndPlotWrapper(roiNum,xCoord,yCoord,zCoord):\n",
    "    from nilearn import plotting\n",
    "    import nibabel as nib\n",
    "    import numpy as np\n",
    "    \n",
    "    anatomicalROI=WMA_pyFuncs.multiROIrequestToMask(atlasImg,roiNum)\n",
    "    \n",
    "    %matplotlib inline\n",
    "    plotting.plot_roi(roi_img=WMA_pyFuncs.alignROItoReference(anatomicalROI,t1img), bg_img=t1img, cut_coords=[xCoord,yCoord,zCoord])\n",
    "    \n",
    "from ipywidgets import Dropdown\n",
    "\n",
    "interact(rotateAndPlotWrapper, \\\n",
    "    roiNum=Dropdown(options=dropDownList, value=2, description=\"anatomicalLabel\"), \\\n",
    "    xCoord=IntSlider(min=np.min(convertedBoundCoords[:,0].astype(int)), max=np.max(convertedBoundCoords[:,0].astype(int)), step=1,continuous_update=False),  \\\n",
    "    yCoord=IntSlider(min=np.min(convertedBoundCoords[:,1].astype(int)), max=np.max(convertedBoundCoords[:,1].astype(int)), step=1,continuous_update=False), \\\n",
    "    zCoord=IntSlider(min=np.min(convertedBoundCoords[:,2].astype(int)), max=np.max(convertedBoundCoords[:,2].astype(int)), step=1,continuous_update=False))"
   ]
  },
  {
   "cell_type": "code",
   "execution_count": null,
   "metadata": {},
   "outputs": [],
   "source": []
  },
  {
   "cell_type": "code",
   "execution_count": null,
   "metadata": {},
   "outputs": [],
   "source": []
  }
 ],
 "metadata": {
  "kernelspec": {
   "display_name": "Python 3",
   "language": "python",
   "name": "python3"
  },
  "language_info": {
   "codemirror_mode": {
    "name": "ipython",
    "version": 3
   },
   "file_extension": ".py",
   "mimetype": "text/x-python",
   "name": "python",
   "nbconvert_exporter": "python",
   "pygments_lexer": "ipython3",
   "version": "3.7.5"
  }
 },
 "nbformat": 4,
 "nbformat_minor": 2
}
