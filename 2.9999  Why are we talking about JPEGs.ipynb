{
 "cells": [
  {
   "cell_type": "markdown",
   "metadata": {},
   "source": [
    "## Using jupyter notebooks\n",
    "\n",
    "\n",
    "\n",
    "Although the title of this collection of interactive lessons is WiMSE (White Matter Segmentation Education), our first several lessons will have us exploring JPEGs rather than brain images.  Why is that?\n",
    "\n",
    "Although our ultimate goal will be to develop an intuitive understanding of how to conduct digital investigations of white matter anatomy, it will be helpful to begin with a related topic that is more familiar to most users and which can serve as basis to scaffold future disscussions on.  As such we will begin exploring concepts related to image represntation using JPEGs (Joint Photographic Experts Group), a common storage format for many of the digital images we encounter on a daily basis.  We will use JPEGs to establish a number of analogies to the primary image type used in neuroimaging research, the T1.  It is not expected that individuals using this lesson set are particularly familiar with the brain imaging format, and so the various nuances of this data type will be discussed.  Again though, this may seem out of place given that our *actual* goal is to talk about white matter.  \n",
    "\n",
    "It turns out that the digital study of white matter is characterized by a number of difficulties.  The manner in which   our models of white matter are stored, classified, divided up is somewhat arcane and unintuitive.  This is likely the case even for individuals who have some familiarity with other modes of neuroimaging (structural MRI & fMRI).  Aithout establishing the appropriate background and context, it can be difficult to begin to explore the world of digitial neuroanatomy.  This is why a great deal of effort is expended in the following lessons on topics that are not explicitly focused on white matter anatomy.  In order to understand the tools and \"tricks\" being used to study white matter anatomy, it is necessary to have this build up a network of intuitions about our data, how to interact with it, and how it relates to the brain.\n",
    "\n",
    "Below you'll find a table that provides an outline of the similarities / analogies between the various data formats that will be discussed.  At the moment much (if not all) of this information may not make sense or seem particularly interrelated.  This is perfectly fine.  In the coming lessons we'll begin to crack this table a slow and gradual fashion.  At various points you may wish to return to this table to see how the topics being discussed related to topics that will be discussed later (or topics that have been discussed previously).  This is highly encouraged!  In the end it is hoped that the analogies suggested by this table are far more intuitive than they are now. \n",
    "\n",
    "|   | **Digital Photograph** | **Brain Image (T1)** | **Tractography** |\n",
    "| --- | --- | --- | --- |\n",
    "| _Object represented_ | visual scene | cranium / brain | white matter of brain |\n",
    "| _Source system_ | camera | MRI scanner | MRI scanner |\n",
    "| _Source phenomena_ | reflected light | water / magnetic properties | water movement |\n",
    "| _File extension_ | .jpg, .png ... | .nifti, nii.gz | .fg, .trk, .tck |\n",
    "| _Metadata_ | exif | header | ? |\n",
    "| _Data size_ | 100s kb - 1s MB | ~2.5 - 5 MB |  500 MB - 10 GB |\n",
    "| _Data dimensionality_ | &quot;2D&quot;(3 RGB layers) | 3D | 1D nested? |\n",
    "| _Data &quot;atoms&quot;_ | pixels | voxels | vectors (streamlines) |\n",
    "| _Data &quot;atom&quot; content_ | integer | float | ordered float sequence (nodes) |\n",
    "\n",
    "Lets begin with our first lesson:  an overview of a satellite jpeg\n",
    "\n",
    "### General framework\n"
   ]
  },
  {
   "cell_type": "code",
   "execution_count": null,
   "metadata": {},
   "outputs": [],
   "source": []
  }
 ],
 "metadata": {
  "kernelspec": {
   "display_name": "Python 3",
   "language": "python",
   "name": "python3"
  },
  "language_info": {
   "codemirror_mode": {
    "name": "ipython",
    "version": 3
   },
   "file_extension": ".py",
   "mimetype": "text/x-python",
   "name": "python",
   "nbconvert_exporter": "python",
   "pygments_lexer": "ipython3",
   "version": "3.7.5"
  }
 },
 "nbformat": 4,
 "nbformat_minor": 2
}
