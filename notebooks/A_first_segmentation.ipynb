{
 "cells": [
  {
   "cell_type": "markdown",
   "metadata": {},
   "source": [
    "# A first segmentation\n",
    "\n",
    "In the previous chapter we examined a single streamline.  In this chapter we will perform a \"segmentation\" of sorts, wherein we divide up the whole brain tractogram.  One of the challenges we experienced in the previous chapter was that the whole brain tractogram is unweildy and impenetrable.  What we need is the ability to look at specific sub-components of the tractogram in order to systematically make insights about our model of the brain's white matter.  But how would we do this?  We can find the answer to this by reflecting on our earlier work with satellite images. \n",
    "\n",
    "### Making a tractogram tractable\n",
    "\n",
    "**How could we systematically divide up the white matter?**\n",
    "\n",
    "As we seek to make our tractogram more managable we find ourselves in a position similar to the one we were in when considering the satellite images.  Although we have an intuitive understanding with the familiar geography depicted in the satellite image, we nonetheless needed to narrow our consideration of the available data in order to make good use of it.  In the satellite case we performed an ocean-based mask, and in the NiFTI case we used an existing parcellation.  But how would we do this with a whole brain tractogram?  \n",
    "\n",
    "Perhaps we can leverage the analogy we used earlier when we refered to the white matter as the \"highways of the brain\".  If we consider the various regions of the brain (e.g. the ones we find in a parcellation) to be like the states of the United States, and the white matter to be the roads that connect them an approach presents itself.  Perhaps we could do a pairwise matching between all the places that the highways (or streamlines) start and finish.  After all, both white matter tracts and roads have to begin and end somewhere.\n",
    "\n",
    "To to acheive our goal of tractogram sub-selection we can leverage the parcellation data we were looking at previously.  This data object assigns each voxel a label, and so we can--for each streamline--determine which labels its endpoints are closest to.  This will give us a mapping of streamlines which have ends in both regions A and B, A and C, C and B, and so on and so forth for all possible pairings of labels.\n",
    "\n",
    "To begin we'll need to load up a parcellation:"
   ]
  },
  {
   "cell_type": "code",
   "execution_count": 47,
   "metadata": {},
   "outputs": [
    {
     "data": {
      "text/html": [
       "<div>\n",
       "<style scoped>\n",
       "    .dataframe tbody tr th:only-of-type {\n",
       "        vertical-align: middle;\n",
       "    }\n",
       "\n",
       "    .dataframe tbody tr th {\n",
       "        vertical-align: top;\n",
       "    }\n",
       "\n",
       "    .dataframe thead th {\n",
       "        text-align: right;\n",
       "    }\n",
       "</style>\n",
       "<table border=\"1\" class=\"dataframe\">\n",
       "  <thead>\n",
       "    <tr style=\"text-align: right;\">\n",
       "      <th></th>\n",
       "      <th>#No.</th>\n",
       "      <th>LabelName:</th>\n",
       "      <th>R</th>\n",
       "      <th>G</th>\n",
       "      <th>B</th>\n",
       "      <th>A</th>\n",
       "    </tr>\n",
       "  </thead>\n",
       "  <tbody>\n",
       "    <tr>\n",
       "      <th>1120</th>\n",
       "      <td>12156</td>\n",
       "      <td>ctx_rh_S_interm_prim-Jensen</td>\n",
       "      <td>141</td>\n",
       "      <td>60</td>\n",
       "      <td>20</td>\n",
       "      <td>0</td>\n",
       "    </tr>\n",
       "    <tr>\n",
       "      <th>1121</th>\n",
       "      <td>12157</td>\n",
       "      <td>ctx_rh_S_intrapariet_and_P_trans</td>\n",
       "      <td>143</td>\n",
       "      <td>20</td>\n",
       "      <td>220</td>\n",
       "      <td>0</td>\n",
       "    </tr>\n",
       "    <tr>\n",
       "      <th>1122</th>\n",
       "      <td>12158</td>\n",
       "      <td>ctx_rh_S_oc_middle_and_Lunatus</td>\n",
       "      <td>101</td>\n",
       "      <td>60</td>\n",
       "      <td>220</td>\n",
       "      <td>0</td>\n",
       "    </tr>\n",
       "    <tr>\n",
       "      <th>1123</th>\n",
       "      <td>12159</td>\n",
       "      <td>ctx_rh_S_oc_sup_and_transversal</td>\n",
       "      <td>21</td>\n",
       "      <td>20</td>\n",
       "      <td>140</td>\n",
       "      <td>0</td>\n",
       "    </tr>\n",
       "    <tr>\n",
       "      <th>1124</th>\n",
       "      <td>12160</td>\n",
       "      <td>ctx_rh_S_occipital_ant</td>\n",
       "      <td>61</td>\n",
       "      <td>20</td>\n",
       "      <td>180</td>\n",
       "      <td>0</td>\n",
       "    </tr>\n",
       "    <tr>\n",
       "      <th>1125</th>\n",
       "      <td>12161</td>\n",
       "      <td>ctx_rh_S_oc-temp_lat</td>\n",
       "      <td>221</td>\n",
       "      <td>140</td>\n",
       "      <td>20</td>\n",
       "      <td>0</td>\n",
       "    </tr>\n",
       "    <tr>\n",
       "      <th>1126</th>\n",
       "      <td>12162</td>\n",
       "      <td>ctx_rh_S_oc-temp_med_and_Lingual</td>\n",
       "      <td>141</td>\n",
       "      <td>100</td>\n",
       "      <td>220</td>\n",
       "      <td>0</td>\n",
       "    </tr>\n",
       "    <tr>\n",
       "      <th>1127</th>\n",
       "      <td>12163</td>\n",
       "      <td>ctx_rh_S_orbital_lateral</td>\n",
       "      <td>221</td>\n",
       "      <td>100</td>\n",
       "      <td>20</td>\n",
       "      <td>0</td>\n",
       "    </tr>\n",
       "    <tr>\n",
       "      <th>1128</th>\n",
       "      <td>12164</td>\n",
       "      <td>ctx_rh_S_orbital_med-olfact</td>\n",
       "      <td>181</td>\n",
       "      <td>200</td>\n",
       "      <td>20</td>\n",
       "      <td>0</td>\n",
       "    </tr>\n",
       "    <tr>\n",
       "      <th>1129</th>\n",
       "      <td>12165</td>\n",
       "      <td>ctx_rh_S_orbital-H_Shaped</td>\n",
       "      <td>101</td>\n",
       "      <td>20</td>\n",
       "      <td>20</td>\n",
       "      <td>0</td>\n",
       "    </tr>\n",
       "    <tr>\n",
       "      <th>1130</th>\n",
       "      <td>12166</td>\n",
       "      <td>ctx_rh_S_parieto_occipital</td>\n",
       "      <td>101</td>\n",
       "      <td>100</td>\n",
       "      <td>180</td>\n",
       "      <td>0</td>\n",
       "    </tr>\n",
       "    <tr>\n",
       "      <th>1131</th>\n",
       "      <td>12167</td>\n",
       "      <td>ctx_rh_S_pericallosal</td>\n",
       "      <td>181</td>\n",
       "      <td>220</td>\n",
       "      <td>20</td>\n",
       "      <td>0</td>\n",
       "    </tr>\n",
       "    <tr>\n",
       "      <th>1132</th>\n",
       "      <td>12168</td>\n",
       "      <td>ctx_rh_S_postcentral</td>\n",
       "      <td>21</td>\n",
       "      <td>140</td>\n",
       "      <td>200</td>\n",
       "      <td>0</td>\n",
       "    </tr>\n",
       "    <tr>\n",
       "      <th>1133</th>\n",
       "      <td>12169</td>\n",
       "      <td>ctx_rh_S_precentral-inf-part</td>\n",
       "      <td>21</td>\n",
       "      <td>20</td>\n",
       "      <td>240</td>\n",
       "      <td>0</td>\n",
       "    </tr>\n",
       "    <tr>\n",
       "      <th>1134</th>\n",
       "      <td>12170</td>\n",
       "      <td>ctx_rh_S_precentral-sup-part</td>\n",
       "      <td>21</td>\n",
       "      <td>20</td>\n",
       "      <td>200</td>\n",
       "      <td>0</td>\n",
       "    </tr>\n",
       "    <tr>\n",
       "      <th>1135</th>\n",
       "      <td>12171</td>\n",
       "      <td>ctx_rh_S_suborbital</td>\n",
       "      <td>21</td>\n",
       "      <td>20</td>\n",
       "      <td>60</td>\n",
       "      <td>0</td>\n",
       "    </tr>\n",
       "    <tr>\n",
       "      <th>1136</th>\n",
       "      <td>12172</td>\n",
       "      <td>ctx_rh_S_subparietal</td>\n",
       "      <td>101</td>\n",
       "      <td>60</td>\n",
       "      <td>60</td>\n",
       "      <td>0</td>\n",
       "    </tr>\n",
       "    <tr>\n",
       "      <th>1137</th>\n",
       "      <td>12173</td>\n",
       "      <td>ctx_rh_S_temporal_inf</td>\n",
       "      <td>21</td>\n",
       "      <td>180</td>\n",
       "      <td>180</td>\n",
       "      <td>0</td>\n",
       "    </tr>\n",
       "    <tr>\n",
       "      <th>1138</th>\n",
       "      <td>12174</td>\n",
       "      <td>ctx_rh_S_temporal_sup</td>\n",
       "      <td>223</td>\n",
       "      <td>220</td>\n",
       "      <td>60</td>\n",
       "      <td>0</td>\n",
       "    </tr>\n",
       "    <tr>\n",
       "      <th>1139</th>\n",
       "      <td>12175</td>\n",
       "      <td>ctx_rh_S_temporal_transverse</td>\n",
       "      <td>221</td>\n",
       "      <td>60</td>\n",
       "      <td>60</td>\n",
       "      <td>0</td>\n",
       "    </tr>\n",
       "  </tbody>\n",
       "</table>\n",
       "</div>"
      ],
      "text/plain": [
       "       #No.                        LabelName:    R    G    B  A\n",
       "1120  12156       ctx_rh_S_interm_prim-Jensen  141   60   20  0\n",
       "1121  12157  ctx_rh_S_intrapariet_and_P_trans  143   20  220  0\n",
       "1122  12158    ctx_rh_S_oc_middle_and_Lunatus  101   60  220  0\n",
       "1123  12159   ctx_rh_S_oc_sup_and_transversal   21   20  140  0\n",
       "1124  12160            ctx_rh_S_occipital_ant   61   20  180  0\n",
       "1125  12161              ctx_rh_S_oc-temp_lat  221  140   20  0\n",
       "1126  12162  ctx_rh_S_oc-temp_med_and_Lingual  141  100  220  0\n",
       "1127  12163          ctx_rh_S_orbital_lateral  221  100   20  0\n",
       "1128  12164       ctx_rh_S_orbital_med-olfact  181  200   20  0\n",
       "1129  12165         ctx_rh_S_orbital-H_Shaped  101   20   20  0\n",
       "1130  12166        ctx_rh_S_parieto_occipital  101  100  180  0\n",
       "1131  12167             ctx_rh_S_pericallosal  181  220   20  0\n",
       "1132  12168              ctx_rh_S_postcentral   21  140  200  0\n",
       "1133  12169      ctx_rh_S_precentral-inf-part   21   20  240  0\n",
       "1134  12170      ctx_rh_S_precentral-sup-part   21   20  200  0\n",
       "1135  12171               ctx_rh_S_suborbital   21   20   60  0\n",
       "1136  12172              ctx_rh_S_subparietal  101   60   60  0\n",
       "1137  12173             ctx_rh_S_temporal_inf   21  180  180  0\n",
       "1138  12174             ctx_rh_S_temporal_sup  223  220   60  0\n",
       "1139  12175      ctx_rh_S_temporal_transverse  221   60   60  0"
      ]
     },
     "execution_count": 47,
     "metadata": {},
     "output_type": "execute_result"
    }
   ],
   "source": [
    "#this code ensures that we can navigate the WiMSE repo across multiple systems\n",
    "import subprocess\n",
    "import os\n",
    "#get top directory path of the current git repository, under the presumption that \n",
    "#the notebook was launched from within the repo directory\n",
    "gitRepoPath=subprocess.check_output(['git', 'rev-parse', '--show-toplevel']).decode('ascii').strip()\n",
    "\n",
    "#move to the top of the directory\n",
    "os.chdir(gitRepoPath)\n",
    "\n",
    "import nibabel as nib\n",
    "import numpy as np\n",
    "\n",
    "atlasPath=os.path.join(gitRepoPath,'exampleData','parc.nii.gz')\n",
    "#load it as an object\n",
    "atlasImg = nib.load(atlasPath)\n",
    "atlasData = atlasImg.get_fdata()\n",
    "#set the print option so it isn't printing in scientific notation\n",
    "np.set_printoptions(suppress=True)\n",
    "#condense to unique values\n",
    "uniqueAtlasEntries=np.unique(atlasData).astype(int)\n",
    "\n",
    "import pandas as pd\n",
    "FSTablePath=os.path.join(gitRepoPath,'exampleData','FreesurferLookup.csv')\n",
    "#read table using pandas\n",
    "FSTable=pd.read_csv(FSTablePath)\n",
    "#create a boolean vector for the indexes which are in uniqueAtlasEntries\n",
    "currentIndexesBool=FSTable['#No.'].isin(uniqueAtlasEntries)\n",
    "#create new data frame with the relevant entries\n",
    "currentParcellationEntries=FSTable.loc[currentIndexesBool]\n",
    "#reset the indexes, whicj were disrupted by the previous operation\n",
    "#currentParcellationEntries=currentParcellationEntries.reset_index(drop=True)\n",
    "currentParcellationEntries.tail(20)"
   ]
  },
  {
   "cell_type": "markdown",
   "metadata": {},
   "source": [
    "Now that we have the parcellation loaded, we can load our whole brain tractogram and perform the iterative assignment of streamlines to atlas labels.  In this way, each streamline will be assigned two numbers corresponding to the label number closest to its first and last node.  This method is at the heart of the burgeoning field of [connectomics](https://en.wikipedia.org/wiki/Connectomics).  As such, it is not surprising that a great deal of research and ingenuity has been applied to developing optimized software and algorithms for this approach.  In fact, [dipy](https://dipy.org/) has a very straightfoward function for this. \n",
    "\n",
    "Lets apply [this method](https://dipy.org/documentation/1.0.0./examples_built/streamline_tools/) now and look at the outputs.  We'll also plot an interactive visualization of the parcellation that can help serve as a reference for these sub-dividisions.\n",
    "(Note, this is a non-trivial set of computations, and so executing the next block will take a moment.  Be careful not to try and run it multiple times.)"
   ]
  },
  {
   "cell_type": "code",
   "execution_count": 48,
   "metadata": {},
   "outputs": [],
   "source": [
    "# load the tractography file into the streamsObjIN variable\n",
    "smallTractogramPath=os.path.join(gitRepoPath,'exampleData','smallTractogram.tck')\n",
    "streamsObjIN=nib.streamlines.load(smallTractogramPath)\n",
    "\n",
    "#because of how dipy does connectivity matrtricies, we have to relabel the atlas\n",
    "remappingFrame=currentParcellationEntries.reset_index(drop=True)\n",
    "#establish a copy\n",
    "relabeledAtlas=atlasData.copy()\n",
    "#iterate across unique label entries\n",
    "for iLabels in range(len(remappingFrame)):\n",
    "    #replace the current uniqueAtlasEntries value with the iLabels value\n",
    "    #constitutes a simple renumbering schema\n",
    "    relabeledAtlas[relabeledAtlas==uniqueAtlasEntries[iLabels]]=iLabels\n",
    "\n",
    "from dipy.tracking import utils\n",
    "#segment tractome into connectivity matrix from parcellation\n",
    "M, grouping=utils.connectivity_matrix(streamsObjIN.tractogram.streamlines, atlasImg.affine, label_volume=relabeledAtlas.astype(int),\n",
    "                        return_mapping=True,\n",
    "                        mapping_as_streamlines=False)"
   ]
  },
  {
   "cell_type": "markdown",
   "metadata": {},
   "source": [
    "Now that we have performed that lengthy segmentation, lets take a quantative look at how many streamlines are connecting each region.  We'll first do this using the standard method of of [connectomics](https://en.wikipedia.org/wiki/Connectomics), a connectivity matrix.  In brain connectivity matrix plot, each row/column corresponds to a brain area in a given parcellation.  Each entry (i.e. row X, column Y) is represented by a scaled color and corresponds to the measure of connectivity between those brain areas.  In the matrix we will plot below, that color value will correspond to the number of streamlines connecting those areas.\n",
    "\n",
    "As a warning, these plots are somewhat difficult to comprehend in that it is difficult to associate particular areas with a trend or insight.  Typically these plots are used to depict and infer genreal patterns in the overall connectivity arrangment of the brain."
   ]
  },
  {
   "cell_type": "code",
   "execution_count": 49,
   "metadata": {},
   "outputs": [
    {
     "data": {
      "text/plain": [
       "<matplotlib.axes._subplots.AxesSubplot at 0x124888390>"
      ]
     },
     "execution_count": 49,
     "metadata": {},
     "output_type": "execute_result"
    },
    {
     "data": {
      "image/png": "[encoded data removed]",
      "text/plain": [
       "<Figure size 432x288 with 2 Axes>"
      ]
     },
     "metadata": {
      "needs_background": "light"
     },
     "output_type": "display_data"
    }
   ],
   "source": [
    "import seaborn as sns\n",
    "sns.heatmap(np.log1p(M))"
   ]
  },
  {
   "cell_type": "markdown",
   "metadata": {},
   "source": [
    "Here we'll also present the dataframe containing the remapped numberings (in the index column) to reference with the above figure.  Remember, each row corresponds (and column) corresponds to a specific label in the parcellation.  Due to the renumbering we performed, the index column of the below table, indicates which label is associated with which row of the above matrix figure."
   ]
  },
  {
   "cell_type": "code",
   "execution_count": 50,
   "metadata": {},
   "outputs": [
    {
     "data": {
      "text/html": [
       "<div><table id=\"6c1ae1e1-fbac-460a-8ed9-d8c40cf14d4f\" class=\"display\"><thead>\n",
       "    <tr style=\"text-align: right;\">\n",
       "      \n",
       "      <th>index</th>\n",
       "      <th>#No.</th>\n",
       "      <th>LabelName:</th>\n",
       "      <th>R</th>\n",
       "      <th>G</th>\n",
       "      <th>B</th>\n",
       "      <th>A</th>\n",
       "    </tr>\n",
       "  </thead></table>\n",
       "<script type=\"text/javascript\">\n",
       "require([\"datatables\"], function (datatables) {\n",
       "    $(document).ready(function () {        \n",
       "        var dt_args = {\"paging\": true, \"columnDefs\": [{\"width\": \"70px\", \"targets\": \"_all\"}], \"data\": [[0, 0, \"Unknown\", 0, 0, 0, 0], [1, 2, \"Left-Cerebral-White-Matter\", 245, 245, 245, 0], [2, 3, \"Left-Cerebral-Cortex\", 205, 62, 78, 0], [3, 4, \"Left-Lateral-Ventricle\", 120, 18, 134, 0], [4, 5, \"Left-Inf-Lat-Vent\", 196, 58, 250, 0], [5, 7, \"Left-Cerebellum-White-Matter\", 220, 248, 164, 0], [6, 8, \"Left-Cerebellum-Cortex\", 230, 148, 34, 0], [7, 10, \"Left-Thalamus-Proper*\", 0, 118, 14, 0], [8, 11, \"Left-Caudate\", 122, 186, 220, 0], [9, 12, \"Left-Putamen\", 236, 13, 176, 0], [10, 13, \"Left-Pallidum\", 12, 48, 255, 0], [11, 14, \"3rd-Ventricle\", 204, 182, 142, 0], [12, 15, \"4th-Ventricle\", 42, 204, 164, 0], [13, 16, \"Brain-Stem\", 119, 159, 176, 0], [14, 17, \"Left-Hippocampus\", 220, 216, 20, 0], [15, 18, \"Left-Amygdala\", 103, 255, 255, 0], [16, 24, \"CSF\", 60, 60, 60, 0], [17, 26, \"Left-Accumbens-area\", 255, 165, 0, 0], [18, 28, \"Left-VentralDC\", 165, 42, 42, 0], [19, 30, \"Left-vessel\", 160, 32, 240, 0], [20, 31, \"Left-choroid-plexus\", 0, 200, 200, 0], [21, 41, \"Right-Cerebral-White-Matter\", 245, 245, 245, 0], [22, 42, \"Right-Cerebral-Cortex\", 205, 62, 78, 0], [23, 43, \"Right-Lateral-Ventricle\", 120, 18, 134, 0], [24, 44, \"Right-Inf-Lat-Vent\", 196, 58, 250, 0], [25, 46, \"Right-Cerebellum-White-Matter\", 220, 248, 164, 0], [26, 47, \"Right-Cerebellum-Cortex\", 230, 148, 34, 0], [27, 49, \"Right-Thalamus-Proper*\", 0, 118, 14, 0], [28, 50, \"Right-Caudate\", 122, 186, 220, 0], [29, 51, \"Right-Putamen\", 236, 13, 176, 0], [30, 52, \"Right-Pallidum\", 13, 48, 255, 0], [31, 53, \"Right-Hippocampus\", 220, 216, 20, 0], [32, 54, \"Right-Amygdala\", 103, 255, 255, 0], [33, 58, \"Right-Accumbens-area\", 255, 165, 0, 0], [34, 60, \"Right-VentralDC\", 165, 42, 42, 0], [35, 62, \"Right-vessel\", 160, 32, 240, 0], [36, 63, \"Right-choroid-plexus\", 0, 200, 221, 0], [37, 77, \"WM-hypointensities\", 200, 70, 255, 0], [38, 85, \"Optic-Chiasm\", 234, 169, 30, 0], [39, 251, \"CC_Posterior\", 0, 0, 64, 0], [40, 252, \"CC_Mid_Posterior\", 0, 0, 112, 0], [41, 253, \"CC_Central\", 0, 0, 160, 0], [42, 254, \"CC_Mid_Anterior\", 0, 0, 208, 0], [43, 255, \"CC_Anterior\", 0, 0, 255, 0], [44, 1000, \"ctx-lh-unknown\", 25, 5, 25, 0], [45, 2000, \"ctx-rh-unknown\", 25, 5, 25, 0], [46, 11101, \"ctx_lh_G_and_S_frontomargin\", 23, 220, 60, 0], [47, 11102, \"ctx_lh_G_and_S_occipital_inf\", 23, 60, 180, 0], [48, 11103, \"ctx_lh_G_and_S_paracentral\", 63, 100, 60, 0], [49, 11104, \"ctx_lh_G_and_S_subcentral\", 63, 20, 220, 0], [50, 11105, \"ctx_lh_G_and_S_transv_frontopol\", 13, 0, 250, 0], [51, 11106, \"ctx_lh_G_and_S_cingul-Ant\", 26, 60, 0, 0], [52, 11107, \"ctx_lh_G_and_S_cingul-Mid-Ant\", 26, 60, 75, 0], [53, 11108, \"ctx_lh_G_and_S_cingul-Mid-Post\", 26, 60, 150, 0], [54, 11109, \"ctx_lh_G_cingul-Post-dorsal\", 25, 60, 250, 0], [55, 11110, \"ctx_lh_G_cingul-Post-ventral\", 60, 25, 25, 0], [56, 11111, \"ctx_lh_G_cuneus\", 180, 20, 20, 0], [57, 11112, \"ctx_lh_G_front_inf-Opercular\", 220, 20, 100, 0], [58, 11113, \"ctx_lh_G_front_inf-Orbital\", 140, 60, 60, 0], [59, 11114, \"ctx_lh_G_front_inf-Triangul\", 180, 220, 140, 0], [60, 11115, \"ctx_lh_G_front_middle\", 140, 100, 180, 0], [61, 11116, \"ctx_lh_G_front_sup\", 180, 20, 140, 0], [62, 11117, \"ctx_lh_G_Ins_lg_and_S_cent_ins\", 23, 10, 10, 0], [63, 11118, \"ctx_lh_G_insular_short\", 225, 140, 140, 0], [64, 11119, \"ctx_lh_G_occipital_middle\", 180, 60, 180, 0], [65, 11120, \"ctx_lh_G_occipital_sup\", 20, 220, 60, 0], [66, 11121, \"ctx_lh_G_oc-temp_lat-fusifor\", 60, 20, 140, 0], [67, 11122, \"ctx_lh_G_oc-temp_med-Lingual\", 220, 180, 140, 0], [68, 11123, \"ctx_lh_G_oc-temp_med-Parahip\", 65, 100, 20, 0], [69, 11124, \"ctx_lh_G_orbital\", 220, 60, 20, 0], [70, 11125, \"ctx_lh_G_pariet_inf-Angular\", 20, 60, 220, 0], [71, 11126, \"ctx_lh_G_pariet_inf-Supramar\", 100, 100, 60, 0], [72, 11127, \"ctx_lh_G_parietal_sup\", 220, 180, 220, 0], [73, 11128, \"ctx_lh_G_postcentral\", 20, 180, 140, 0], [74, 11129, \"ctx_lh_G_precentral\", 60, 140, 180, 0], [75, 11130, \"ctx_lh_G_precuneus\", 25, 20, 140, 0], [76, 11131, \"ctx_lh_G_rectus\", 20, 60, 100, 0], [77, 11132, \"ctx_lh_G_subcallosal\", 60, 220, 20, 0], [78, 11133, \"ctx_lh_G_temp_sup-G_T_transv\", 60, 60, 220, 0], [79, 11134, \"ctx_lh_G_temp_sup-Lateral\", 220, 60, 220, 0], [80, 11135, \"ctx_lh_G_temp_sup-Plan_polar\", 65, 220, 60, 0], [81, 11136, \"ctx_lh_G_temp_sup-Plan_tempo\", 25, 140, 20, 0], [82, 11137, \"ctx_lh_G_temporal_inf\", 220, 220, 100, 0], [83, 11138, \"ctx_lh_G_temporal_middle\", 180, 60, 60, 0], [84, 11139, \"ctx_lh_Lat_Fis-ant-Horizont\", 61, 20, 220, 0], [85, 11140, \"ctx_lh_Lat_Fis-ant-Vertical\", 61, 20, 60, 0], [86, 11141, \"ctx_lh_Lat_Fis-post\", 61, 60, 100, 0], [87, 11143, \"ctx_lh_Pole_occipital\", 140, 20, 60, 0], [88, 11144, \"ctx_lh_Pole_temporal\", 220, 180, 20, 0], [89, 11145, \"ctx_lh_S_calcarine\", 63, 180, 180, 0], [90, 11146, \"ctx_lh_S_central\", 221, 20, 10, 0], [91, 11147, \"ctx_lh_S_cingul-Marginalis\", 221, 20, 100, 0], [92, 11148, \"ctx_lh_S_circular_insula_ant\", 221, 60, 140, 0], [93, 11149, \"ctx_lh_S_circular_insula_inf\", 221, 20, 220, 0], [94, 11150, \"ctx_lh_S_circular_insula_sup\", 61, 220, 220, 0], [95, 11151, \"ctx_lh_S_collat_transv_ant\", 100, 200, 200, 0], [96, 11152, \"ctx_lh_S_collat_transv_post\", 10, 200, 200, 0], [97, 11153, \"ctx_lh_S_front_inf\", 221, 220, 20, 0], [98, 11154, \"ctx_lh_S_front_middle\", 141, 20, 100, 0], [99, 11155, \"ctx_lh_S_front_sup\", 61, 220, 100, 0], [100, 11156, \"ctx_lh_S_interm_prim-Jensen\", 141, 60, 20, 0], [101, 11157, \"ctx_lh_S_intrapariet_and_P_trans\", 143, 20, 220, 0], [102, 11158, \"ctx_lh_S_oc_middle_and_Lunatus\", 101, 60, 220, 0], [103, 11159, \"ctx_lh_S_oc_sup_and_transversal\", 21, 20, 140, 0], [104, 11160, \"ctx_lh_S_occipital_ant\", 61, 20, 180, 0], [105, 11161, \"ctx_lh_S_oc-temp_lat\", 221, 140, 20, 0], [106, 11162, \"ctx_lh_S_oc-temp_med_and_Lingual\", 141, 100, 220, 0], [107, 11163, \"ctx_lh_S_orbital_lateral\", 221, 100, 20, 0], [108, 11164, \"ctx_lh_S_orbital_med-olfact\", 181, 200, 20, 0], [109, 11165, \"ctx_lh_S_orbital-H_Shaped\", 101, 20, 20, 0], [110, 11166, \"ctx_lh_S_parieto_occipital\", 101, 100, 180, 0], [111, 11167, \"ctx_lh_S_pericallosal\", 181, 220, 20, 0], [112, 11168, \"ctx_lh_S_postcentral\", 21, 140, 200, 0], [113, 11169, \"ctx_lh_S_precentral-inf-part\", 21, 20, 240, 0], [114, 11170, \"ctx_lh_S_precentral-sup-part\", 21, 20, 200, 0], [115, 11171, \"ctx_lh_S_suborbital\", 21, 20, 60, 0], [116, 11172, \"ctx_lh_S_subparietal\", 101, 60, 60, 0], [117, 11173, \"ctx_lh_S_temporal_inf\", 21, 180, 180, 0], [118, 11174, \"ctx_lh_S_temporal_sup\", 223, 220, 60, 0], [119, 11175, \"ctx_lh_S_temporal_transverse\", 221, 60, 60, 0], [120, 12101, \"ctx_rh_G_and_S_frontomargin\", 23, 220, 60, 0], [121, 12102, \"ctx_rh_G_and_S_occipital_inf\", 23, 60, 180, 0], [122, 12103, \"ctx_rh_G_and_S_paracentral\", 63, 100, 60, 0], [123, 12104, \"ctx_rh_G_and_S_subcentral\", 63, 20, 220, 0], [124, 12105, \"ctx_rh_G_and_S_transv_frontopol\", 13, 0, 250, 0], [125, 12106, \"ctx_rh_G_and_S_cingul-Ant\", 26, 60, 0, 0], [126, 12107, \"ctx_rh_G_and_S_cingul-Mid-Ant\", 26, 60, 75, 0], [127, 12108, \"ctx_rh_G_and_S_cingul-Mid-Post\", 26, 60, 150, 0], [128, 12109, \"ctx_rh_G_cingul-Post-dorsal\", 25, 60, 250, 0], [129, 12110, \"ctx_rh_G_cingul-Post-ventral\", 60, 25, 25, 0], [130, 12111, \"ctx_rh_G_cuneus\", 180, 20, 20, 0], [131, 12112, \"ctx_rh_G_front_inf-Opercular\", 220, 20, 100, 0], [132, 12113, \"ctx_rh_G_front_inf-Orbital\", 140, 60, 60, 0], [133, 12114, \"ctx_rh_G_front_inf-Triangul\", 180, 220, 140, 0], [134, 12115, \"ctx_rh_G_front_middle\", 140, 100, 180, 0], [135, 12116, \"ctx_rh_G_front_sup\", 180, 20, 140, 0], [136, 12117, \"ctx_rh_G_Ins_lg_and_S_cent_ins\", 23, 10, 10, 0], [137, 12118, \"ctx_rh_G_insular_short\", 225, 140, 140, 0], [138, 12119, \"ctx_rh_G_occipital_middle\", 180, 60, 180, 0], [139, 12120, \"ctx_rh_G_occipital_sup\", 20, 220, 60, 0], [140, 12121, \"ctx_rh_G_oc-temp_lat-fusifor\", 60, 20, 140, 0], [141, 12122, \"ctx_rh_G_oc-temp_med-Lingual\", 220, 180, 140, 0], [142, 12123, \"ctx_rh_G_oc-temp_med-Parahip\", 65, 100, 20, 0], [143, 12124, \"ctx_rh_G_orbital\", 220, 60, 20, 0], [144, 12125, \"ctx_rh_G_pariet_inf-Angular\", 20, 60, 220, 0], [145, 12126, \"ctx_rh_G_pariet_inf-Supramar\", 100, 100, 60, 0], [146, 12127, \"ctx_rh_G_parietal_sup\", 220, 180, 220, 0], [147, 12128, \"ctx_rh_G_postcentral\", 20, 180, 140, 0], [148, 12129, \"ctx_rh_G_precentral\", 60, 140, 180, 0], [149, 12130, \"ctx_rh_G_precuneus\", 25, 20, 140, 0], [150, 12131, \"ctx_rh_G_rectus\", 20, 60, 100, 0], [151, 12132, \"ctx_rh_G_subcallosal\", 60, 220, 20, 0], [152, 12133, \"ctx_rh_G_temp_sup-G_T_transv\", 60, 60, 220, 0], [153, 12134, \"ctx_rh_G_temp_sup-Lateral\", 220, 60, 220, 0], [154, 12135, \"ctx_rh_G_temp_sup-Plan_polar\", 65, 220, 60, 0], [155, 12136, \"ctx_rh_G_temp_sup-Plan_tempo\", 25, 140, 20, 0], [156, 12137, \"ctx_rh_G_temporal_inf\", 220, 220, 100, 0], [157, 12138, \"ctx_rh_G_temporal_middle\", 180, 60, 60, 0], [158, 12139, \"ctx_rh_Lat_Fis-ant-Horizont\", 61, 20, 220, 0], [159, 12140, \"ctx_rh_Lat_Fis-ant-Vertical\", 61, 20, 60, 0], [160, 12141, \"ctx_rh_Lat_Fis-post\", 61, 60, 100, 0], [161, 12143, \"ctx_rh_Pole_occipital\", 140, 20, 60, 0], [162, 12144, \"ctx_rh_Pole_temporal\", 220, 180, 20, 0], [163, 12145, \"ctx_rh_S_calcarine\", 63, 180, 180, 0], [164, 12146, \"ctx_rh_S_central\", 221, 20, 10, 0], [165, 12147, \"ctx_rh_S_cingul-Marginalis\", 221, 20, 100, 0], [166, 12148, \"ctx_rh_S_circular_insula_ant\", 221, 60, 140, 0], [167, 12149, \"ctx_rh_S_circular_insula_inf\", 221, 20, 220, 0], [168, 12150, \"ctx_rh_S_circular_insula_sup\", 61, 220, 220, 0], [169, 12151, \"ctx_rh_S_collat_transv_ant\", 100, 200, 200, 0], [170, 12152, \"ctx_rh_S_collat_transv_post\", 10, 200, 200, 0], [171, 12153, \"ctx_rh_S_front_inf\", 221, 220, 20, 0], [172, 12154, \"ctx_rh_S_front_middle\", 141, 20, 100, 0], [173, 12155, \"ctx_rh_S_front_sup\", 61, 220, 100, 0], [174, 12156, \"ctx_rh_S_interm_prim-Jensen\", 141, 60, 20, 0], [175, 12157, \"ctx_rh_S_intrapariet_and_P_trans\", 143, 20, 220, 0], [176, 12158, \"ctx_rh_S_oc_middle_and_Lunatus\", 101, 60, 220, 0], [177, 12159, \"ctx_rh_S_oc_sup_and_transversal\", 21, 20, 140, 0], [178, 12160, \"ctx_rh_S_occipital_ant\", 61, 20, 180, 0], [179, 12161, \"ctx_rh_S_oc-temp_lat\", 221, 140, 20, 0], [180, 12162, \"ctx_rh_S_oc-temp_med_and_Lingual\", 141, 100, 220, 0], [181, 12163, \"ctx_rh_S_orbital_lateral\", 221, 100, 20, 0], [182, 12164, \"ctx_rh_S_orbital_med-olfact\", 181, 200, 20, 0], [183, 12165, \"ctx_rh_S_orbital-H_Shaped\", 101, 20, 20, 0], [184, 12166, \"ctx_rh_S_parieto_occipital\", 101, 100, 180, 0], [185, 12167, \"ctx_rh_S_pericallosal\", 181, 220, 20, 0], [186, 12168, \"ctx_rh_S_postcentral\", 21, 140, 200, 0], [187, 12169, \"ctx_rh_S_precentral-inf-part\", 21, 20, 240, 0], [188, 12170, \"ctx_rh_S_precentral-sup-part\", 21, 20, 200, 0], [189, 12171, \"ctx_rh_S_suborbital\", 21, 20, 60, 0], [190, 12172, \"ctx_rh_S_subparietal\", 101, 60, 60, 0], [191, 12173, \"ctx_rh_S_temporal_inf\", 21, 180, 180, 0], [192, 12174, \"ctx_rh_S_temporal_sup\", 223, 220, 60, 0], [193, 12175, \"ctx_rh_S_temporal_transverse\", 221, 60, 60, 0]]};\n",
       "        dt_args = eval_functions(dt_args);\n",
       "        table = $('#6c1ae1e1-fbac-460a-8ed9-d8c40cf14d4f').DataTable(dt_args);\n",
       "    });\n",
       "})\n",
       "</script>\n",
       "</div>\n"
      ],
      "text/plain": [
       "<IPython.core.display.HTML object>"
      ]
     },
     "metadata": {},
     "output_type": "display_data"
    }
   ],
   "source": [
    "import itables\n",
    "resetTable=remappingFrame.reset_index()\n",
    "itables.show(resetTable,paging=True)"
   ]
  },
  {
   "cell_type": "markdown",
   "metadata": {},
   "source": [
    "In order to make the information in the matrix a bit more digestable, we can look at the information contained in each row/column as a bar graph.  Below we'll do this in an interactive fashion.  Be warned:  some rows have only a few connections and are fairly straightforward to view in this way, while others may have a large number of connections and may result in a particulalrly large bar plot."
   ]
  },
  {
   "cell_type": "code",
   "execution_count": 51,
   "metadata": {},
   "outputs": [
    {
     "data": {
      "application/vnd.jupyter.widget-view+json": {
       "model_id": "807ecc0e3f36454da6175026092dd45a",
       "version_major": 2,
       "version_minor": 0
      },
      "text/plain": [
       "interactive(children=(Dropdown(description='region1', index=1, options=(('Unknown', 0), ('Left-Cerebral-White-…"
      ]
     },
     "metadata": {},
     "output_type": "display_data"
    },
    {
     "data": {
      "text/plain": [
       "<function __main__.plotCurrentLabelCounts(currLabel)>"
      ]
     },
     "execution_count": 51,
     "metadata": {},
     "output_type": "execute_result"
    }
   ],
   "source": [
    "\n",
    "dropDownList=list(zip(currentParcellationEntries['LabelName:'].to_list(), currentParcellationEntries['#No.'].to_list()))\n",
    "\n",
    "def plotCurrentLabelCounts(currLabel):\n",
    "    import seaborn as sns\n",
    "    from itertools import compress\n",
    "    import matplotlib.pyplot as plt\n",
    "    #convert the input FS Label number to the renumbered index\n",
    "    currentRenumberIndex=resetTable['index'].loc[resetTable['#No.']==currLabel].values[0]    \n",
    "    if currentRenumberIndex in np.asarray(list(grouping.keys())): \n",
    "        #get name to label plot\n",
    "        currentInputName=currentParcellationEntries['LabelName:'].loc[currentParcellationEntries['#No.']==currLabel].values[0]\n",
    "        #turn the gouping keys (pairs of integers) into a dataframe\n",
    "        allKeysFrame=pd.DataFrame.from_dict(grouping.keys())\n",
    "        #extract from the keyList (of all pairings), a boolean vector corresponding those pairings where either value is the current label of interest\n",
    "        currentBool=np.logical_or(allKeysFrame[0]==currentRenumberIndex,allKeysFrame[1]==currentRenumberIndex)\n",
    "        #because the values are lists of streamline indexes, we can get the lenght of these lists to count the number of streamlines \n",
    "        streamCounts = [len(v) for v in grouping.values()]\n",
    "        #extract those index pairs via the boolean vector\n",
    "        currentPairs=allKeysFrame[currentBool].to_numpy()\n",
    "        #very janky method for obtaining current label of interest\n",
    "        #works because these are integers.  Can't currently think of an edge case for this.\n",
    "        currentLabelNums=np.sum(currentPairs,axis=1)-currentRenumberIndex\n",
    "        #get the names of the labels corresponding to the non currLabel labels \n",
    "        currentLabelNames=resetTable['LabelName:'].loc[currentLabelNums]\n",
    "        #extract the counts from the total counts list\n",
    "        currentCounts=list(compress(streamCounts,currentBool.values))\n",
    "        #create the data for a dataframe\n",
    "        currentFrameData={'labelNo':currentLabelNums,'LabelName':currentLabelNames.values,'streamCount':currentCounts}\n",
    "        #convert that into a dataframe\n",
    "        currentFrame=pd.DataFrame(currentFrameData)\n",
    "        #adaptively set dimensions\n",
    "        plotDim1=len(currentLabelNames)*.3\n",
    "        plt.figure(figsize=(5,plotDim1))\n",
    "        #plot it\n",
    "        ax = sns.barplot(y=\"LabelName\", x=\"streamCount\", data=currentFrameData)\n",
    "        #set logscale\n",
    "        ax.set_xscale(\"log\")\n",
    "        ax.set(title=\"streamline connections to \" + currentInputName, xlabel='log scale streamline count', ylabel='freesurfer label')\n",
    "     \n",
    "    else: \n",
    "        print('connections not present')\n",
    "        \n",
    "from ipywidgets import interact, interactive, fixed, interact_manual\n",
    "from ipywidgets import Dropdown\n",
    "\n",
    "#establish interactivity\n",
    "interact(plotCurrentLabelCounts, \n",
    "         currLabel=Dropdown(options=dropDownList, value=2, description=\"region1\"), \n",
    "        )"
   ]
  },
  {
   "cell_type": "markdown",
   "metadata": {},
   "source": [
    "Also, to help us remember the actual reference parcellation we'll plot the parcellaton in an interactive fashion below."
   ]
  },
  {
   "cell_type": "code",
   "execution_count": 52,
   "metadata": {},
   "outputs": [
    {
     "data": {
      "text/plain": [
       "<Figure size 432x288 with 0 Axes>"
      ]
     },
     "metadata": {},
     "output_type": "display_data"
    },
    {
     "data": {
      "application/vnd.jupyter.widget-view+json": {
       "model_id": "6975d7c458bd42148717a08b026f3c98",
       "version_major": 2,
       "version_minor": 0
      },
      "text/plain": [
       "interactive(children=(IntSlider(value=127, continuous_update=False, description='x', max=255), IntSlider(value…"
      ]
     },
     "metadata": {},
     "output_type": "display_data"
    }
   ],
   "source": [
    "renumberedAtlasNifti=nib.Nifti1Image(relabeledAtlas, atlasImg.affine, atlasImg.header)  \n",
    "\n",
    "atlas_widget = NiftiWidget(renumberedAtlasNifti)\n",
    "atlas_widget.nifti_plotter(colormap='nipy_spectral')"
   ]
  },
  {
   "cell_type": "markdown",
   "metadata": {},
   "source": [
    "Finally, lets allow ourselves to interact with streamlines between labels.  In the widget below you'll be able to select two labels from the freesurfer parcellation.  In some cases, the widget will inform you that there are not streamlines that connect those regions.  In other cases you'll be able to interact with the visualization for that collection of streamlines.  \n",
    "\n",
    "Be sure to zoom in, as the visualization tends to start from a distant position."
   ]
  },
  {
   "cell_type": "code",
   "execution_count": 54,
   "metadata": {},
   "outputs": [
    {
     "data": {
      "application/vnd.jupyter.widget-view+json": {
       "model_id": "f69772cb37324c2a8ee6d020934ac533",
       "version_major": 2,
       "version_minor": 0
      },
      "text/plain": [
       "interactive(children=(Dropdown(description='region1', index=1, options=(('Unknown', 0), ('Left-Cerebral-White-…"
      ]
     },
     "metadata": {},
     "output_type": "display_data"
    },
    {
     "data": {
      "text/plain": [
       "<function __main__.updateFunction(regionIndex1, regionIndex2)>"
      ]
     },
     "execution_count": 54,
     "metadata": {},
     "output_type": "execute_result"
    }
   ],
   "source": [
    "#get tractogram from the Tck holder\n",
    "sourceTractogram=streamsObjIN.tractogram\n",
    "\n",
    "#quick and dirty tractogram subsetter by Brad Caron\n",
    "#https://github.com/bacaron\n",
    "def extractSubTractogram(sourceTractogram,indexes):\n",
    "    #import relevant package\n",
    "    import nibabel as nib\n",
    "    #extrect the desired streamlines into a new streamline object\n",
    "    streamlines = sourceTractogram.streamlines[indexes]\n",
    "    #establish tractogram object\n",
    "    out_tractogram = nib.streamlines.tractogram.Tractogram(streamlines)\n",
    "    #adjust the relevant header fields\n",
    "    #don't bother for now, header is only relevant to Tck file\n",
    "    #for headerFields in ['total_count','count','nb_streamlines']:\n",
    "        #nb_streamlines is an int, whereas the others are strings, for some reason\n",
    "    #    if headerFields == 'nb_streamlines':\n",
    "    #        out_tractogram.header[headerFields] = len(streamlines)\n",
    "    #    else:\n",
    "    #        out_tractogram.header[headerFields] = '%s' %len(streamlines)\n",
    "    return out_tractogram\n",
    "\n",
    "#interactive plotting via niwidgets?  \n",
    "#widget within a widget doesn't seem to work\n",
    "def plotParcellationConnectionWidget(subTractogram):\n",
    "    #import widget\n",
    "    from niwidgets import StreamlineWidget\n",
    "    #set widget object\n",
    "    \n",
    "    sw = StreamlineWidget(streamlines=subTractogram)\n",
    "    #set plotting characteristics\n",
    "    style = {'axes': {'color': 'red',\n",
    "                  'label': {'color': 'white'},\n",
    "                  'ticklabel': {'color': 'white'},\n",
    "                  'visible': False},\n",
    "         'background-color': 'black',\n",
    "         'box': {'visible': False}}\n",
    "    #plot it\n",
    "    sw.plot(display_fraction=1, width=500, height=500, style=style, percentile=80)\n",
    "\n",
    "def plotTract(tractIn):\n",
    "    import numpy as np\n",
    "    from dipy.viz import window, actor\n",
    "    renderer = window.Scene()\n",
    "    stream_actor = actor.line(tractIn)\n",
    "    #renderer.set_camera(position=(-176.42, 118.52, 128.20),\n",
    "    #               focal_point=(113.30, 128.31, 76.56),\n",
    "    #                view_up=(0.18, 0.00, 0.98))\n",
    "    %matplotlib inline\n",
    "    renderer.add(stream_actor)\n",
    "    \n",
    "    window.show(renderer, size=(600, 600), reset_camera=True)\n",
    "\n",
    "def updateFunction(regionIndex1,regionIndex2):\n",
    "    currentRenumberIndex1=resetTable['index'].loc[resetTable['#No.']==regionIndex1].values[0]    \n",
    "    currentRenumberIndex2=resetTable['index'].loc[resetTable['#No.']==regionIndex2].values[0]    \n",
    " \n",
    "    \n",
    "    #check to make sure this pairing is actually in the connections\n",
    "    if (currentRenumberIndex1,currentRenumberIndex2) in grouping.keys(): \n",
    "        currentIndexes=grouping[currentRenumberIndex1,currentRenumberIndex2]\n",
    "        subTractogram=extractSubTractogram(sourceTractogram,currentIndexes)\n",
    "        %matplotlib inline\n",
    "        plotParcellationConnectionWidget(subTractogram.streamlines)\n",
    "    else:\n",
    "        print('connection not present')\n",
    "\n",
    "dropDownList=list(zip(currentParcellationEntries['LabelName:'].to_list(), currentParcellationEntries['#No.'].to_list()))\n",
    "\n",
    "from ipywidgets import interact, interactive, fixed, interact_manual\n",
    "from ipywidgets import Dropdown\n",
    "\n",
    "#establish interactivity\n",
    "interact(updateFunction, \n",
    "         regionIndex1=Dropdown(options=dropDownList, value=2, description=\"region1\"), \n",
    "         regionIndex2=Dropdown(options=dropDownList, value=2, description=\"region2\"),\n",
    "        )"
   ]
  },
  {
   "cell_type": "markdown",
   "metadata": {},
   "source": [
    "In the above figures and widgets we have depicted the source parcellation, and the resulting map of which streamlines connect to which areas in that parcellations.  There are a few overarching things we ought to note about this:\n",
    "\n",
    "- All streamlines are assigned:  There are no streamlines that are not associated with 2 labels (one per endpoint).\n",
    "- \"Accurate\" labeling of streamlines is **hugely** depandant on the streamline tractogram being appropriately aligned with the parcellation.  If there is a misalignment (i.e. a flip, or a translation on a particular dimension).\n",
    "- Given that a streamline is supposed to represent a collection of axons, a streamline must also subject to many of the same constraints that axons are.  Prime among these is that the streamline be **biologically plausable**.  This means that, among other things, it must terminate in reasonable areas and follow a sensible path as it traverses the brain.\n",
    "\n",
    "Lets explore this notion of **biological plausibility** in the next chapter, as it is key to a preliminary thresholding/cleaning that permits subsequent, anatomically guided segmentations."
   ]
  },
  {
   "cell_type": "code",
   "execution_count": null,
   "metadata": {},
   "outputs": [],
   "source": []
  }
 ],
 "metadata": {
  "kernelspec": {
   "display_name": "Python 3",
   "language": "python",
   "name": "python3"
  },
  "language_info": {
   "codemirror_mode": {
    "name": "ipython",
    "version": 3
   },
   "file_extension": ".py",
   "mimetype": "text/x-python",
   "name": "python",
   "nbconvert_exporter": "python",
   "pygments_lexer": "ipython3",
   "version": "3.7.5"
  }
 },
 "nbformat": 4,
 "nbformat_minor": 2
}
