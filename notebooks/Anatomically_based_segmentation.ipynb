{
 "cells": [
  {
   "cell_type": "markdown",
   "metadata": {},
   "source": [
    "# Anatomically based segmentation\n",
    "\n",
    "In the previous chapter we introduced the fundamental operation of digital white matter segmentation:  the application of an inclusion (or exclusion) ROI.  We began with the intuitive case of a planar ROI, which was used to assess the traversal of streamlines across a certian coordinate threshold.  We then demonstrated another example of ROI intersecton using a sphere.  These are both quite common applications of regions of interest to white matter segmentation, however they are by no means _exhaustive_ of our tools for segmenting.  Indeed, in keeping with the recurrent theme of repurposing existing tools and resources, one of our most powerful abilities turns out to be using anatomical parcellations (from structural data, e.g. [Freesurfer](https://surfer.nmr.mgh.harvard.edu/) to perform white matter segmentation.  As we shall see, this is _extremely_ similar to how we used state color data to mask the digital image of the United States, or parcellation data to mask.\n",
    "\n",
    "One thing that we should note before proceeding regards the topic of **biological plausibility**, which was discussed broadly in a previous chapter.  Specifically, we should think back to what most existing anatomical parcellations are:  grey matter segmentations.  This means that the areas that are being labeled are typically where neuronal cell bodies (and not mid to long-range mylenated axons) are located.  As such, if we take our tractome at face value, and assume that it is a _valid, accurate, and biologicall plausible_ model of white matter anatomy and trajectory, we won't typically find streamlines traversing these labeled volumes \n",
    "\n",
    "## The first step: using anatomical ROIs\n",
    "\n",
    "\n",
    "## Using parcellation ROIs to establish anatomically defined planar ROIS\n",
    "\n",
    "## Modifying parcellation ROIs using planar ROIs (i.e. cutting)\n",
    "\n",
    "## Modifying anatomically defined planar ROIs using other anatomically defined planar ROIs\n",
    "\n",
    "## Inflating parcellation regions of interest\n",
    "\n",
    "### "
   ]
  },
  {
   "cell_type": "code",
   "execution_count": null,
   "metadata": {},
   "outputs": [],
   "source": []
  }
 ],
 "metadata": {
  "kernelspec": {
   "display_name": "Python 3",
   "language": "python",
   "name": "python3"
  },
  "language_info": {
   "codemirror_mode": {
    "name": "ipython",
    "version": 3
   },
   "file_extension": ".py",
   "mimetype": "text/x-python",
   "name": "python",
   "nbconvert_exporter": "python",
   "pygments_lexer": "ipython3",
   "version": "3.7.5"
  }
 },
 "nbformat": 4,
 "nbformat_minor": 2
}
