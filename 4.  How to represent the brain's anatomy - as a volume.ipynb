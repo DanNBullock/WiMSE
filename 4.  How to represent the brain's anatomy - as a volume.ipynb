{
 "cells": [
  {
   "cell_type": "markdown",
   "metadata": {},
   "source": [
    "Not unlike the way that the satellite images of the the previous chapter were a \"picture\" of the world, so too is a T1 image a \"picture\" of a brain.  The specics of how the dimagnetic properties of water molecules are legeraged, along with the use of a superconducting magnet, to obtain these images are beyond the scope of this lesson book.  For now let us keep the analogy of the jpeg image in mind as we move into a consideration of the nifti itself.\n",
    "\n",
    "Lets begin by loading it into memory and considering its data size.  Whereas previously we were working with .jpg and .png files, we will now be working with .nifti files, which are typically stored as .nii.gz, which corresponds to a compressed state."
   ]
  },
  {
   "cell_type": "code",
   "execution_count": 2,
   "metadata": {},
   "outputs": [
    {
     "name": "stdout",
     "output_type": "stream",
     "text": [
      "T1 size (in bytes)\n",
      "3593891\n"
     ]
    }
   ],
   "source": [
    "#load the t1\n",
    "import os\n",
    "t1Path='/Users/plab/Documents/JupyerData/proj-5c50b6f12daf2e0032f880eb/sub-100206/dt-neuro-anat-t1w.tag-acpc_aligned.tag-brain_extracted.id-5c57072befbc2800526291bb/t1.nii.gz'\n",
    "T1fileinfo = os.stat(t1Path)\n",
    "print('T1 size (in bytes)')\n",
    "print(T1fileinfo.st_size)\n",
    "\n",
    "import nibabel as nib\n",
    "img = nib.load('/Users/plab/Documents/JupyerData/proj-5c50b6f12daf2e0032f880eb/sub-100206/dt-neuro-anat-t1w.tag-acpc_aligned.tag-brain_extracted.id-5c57072befbc2800526291bb/t1.nii.gz')"
   ]
  },
  {
   "cell_type": "markdown",
   "metadata": {},
   "source": [
    "The T1 nifti image we just loaded is about 3.6 MB in size, which is roughly close to a high resolution .jpeg file.  Given what we know about the jpeg image (every pixel has 3 to 4 *integer* values which correspond to its color characteristics), we can get a sense about the number of measurements contained within a nifti, and thus the general amount of \"information\" (a complex topic we won't go into here) that a nifti image contains about the brain.\n",
    "\n",
    "However, we don't yet know what the nifti is storing in each of it's voxels (the 3D equivalent of a pixel).  Is it using an integer, or perhps a float of some sort? Lets take a look.\n",
    "\n",
    "Quite helpfully, the nifti data type features a \"header\" which contains a great deal of metadata about the nifti image.  Think of it as being similar to the exif data of a normal image."
   ]
  },
  {
   "cell_type": "code",
   "execution_count": 3,
   "metadata": {},
   "outputs": [
    {
     "name": "stdout",
     "output_type": "stream",
     "text": [
      "<class 'nibabel.nifti1.Nifti1Header'> object, endian='<'\n",
      "sizeof_hdr      : 348\n",
      "data_type       : b''\n",
      "db_name         : b''\n",
      "extents         : 0\n",
      "session_error   : 0\n",
      "regular         : b'r'\n",
      "dim_info        : 0\n",
      "dim             : [  3 145 174 145   1   1   1   1]\n",
      "intent_p1       : 0.0\n",
      "intent_p2       : 0.0\n",
      "intent_p3       : 0.0\n",
      "intent_code     : none\n",
      "datatype        : float32\n",
      "bitpix          : 32\n",
      "slice_start     : 0\n",
      "pixdim          : [-1.    1.25  1.25  1.25  1.    0.    0.    0.  ]\n",
      "vox_offset      : 0.0\n",
      "scl_slope       : nan\n",
      "scl_inter       : nan\n",
      "slice_end       : 0\n",
      "slice_code      : unknown\n",
      "xyzt_units      : 10\n",
      "cal_max         : 0.0\n",
      "cal_min         : 0.0\n",
      "slice_duration  : 0.0\n",
      "toffset         : 0.0\n",
      "glmax           : 0\n",
      "glmin           : 0\n",
      "descrip         : b'5.0.11'\n",
      "aux_file        : b''\n",
      "qform_code      : mni\n",
      "sform_code      : mni\n",
      "quatern_b       : 0.0\n",
      "quatern_c       : 1.0\n",
      "quatern_d       : 0.0\n",
      "qoffset_x       : 90.0\n",
      "qoffset_y       : -126.0\n",
      "qoffset_z       : -72.0\n",
      "srow_x          : [-1.25  0.    0.   90.  ]\n",
      "srow_y          : [   0.      1.25    0.   -126.  ]\n",
      "srow_z          : [  0.     0.     1.25 -72.  ]\n",
      "intent_name     : b''\n",
      "magic           : b'n+1'\n"
     ]
    }
   ],
   "source": [
    "T1header = img.header\n",
    "print(T1header)  "
   ]
  },
  {
   "cell_type": "markdown",
   "metadata": {},
   "source": [
    "That's a lot of information!\n",
    "\n",
    "For now, we'll only briefly consider a few of these features, but will come back to each of these as we proceed through the lesson.\n",
    "\n",
    "dim:  This field displays the dimensions of the nifti image data object.  The first number (three in this case) indicates the number of dimensions, while the next values (equal to the number indicated to the first) correspond to the size of the objects dimensions.  Thus, in this case the first dimension has 145 entries, the second has 174 entires, and the third has 145 entries.  \n",
    "\n",
    "datatype:  This field corresponds to the type of numerical data type contained within each of the nifti image data object's entries.  Here we see that it is \"float32\".  This gives us two primary peices of information: (1) we now know that the numerical entries are *not* integers or whole numbers (and thus they can adopt values between 1,2,3, etc.)  and (2) we now know that each of these entries takes up about 4 bytes.  \n",
    "\n",
    "pixdim:  Ignoring the initial (-1) and last three values in this field (0. 0. 0.), we see the numbers 1.25 1.25 1.25 and 1.   These indicate the size of the real world entities that correspond to the nifti image data object's entries.  In the case of the map from the previous chapter, this would have corresponded roughly to hundreds (A complex issue given that the pixels dont correspond the same surface area size) of square miles.  In this case, we see that each of these values is 1.25 millimeters, which means that the number in any entry of the nifti represents a 1.25 by 1.25 by 1.25 (1.25^3 = 1.953125) cubic millimeter volume of the space.  The fifth value (1) isn't particularly relevant to this particular nifti, as our nifti data object is only 3 dimensional, but if it were 4 dimensional (as would be the case with a fmri data output or a dmri data output) this would indicate the number of measures in that axis. \n",
    "\n",
    "Also, its important to note that all three of these dimension measures are the same.  This need not be the case, and it could be that our voxels are actually representing units of space whose sides are not all equal.  In this case though, we can say that the voxels are \"isometric\", meaning that all faces are the same size.\n",
    "\n",
    "\n",
    "qform_code:  This field specifies the orientation schema that will be detailed in subsequent fields.  In the previous lesson we considered the prime maridian and equator as the two components of the major orientation schema we used (longitude and latitude).  But imagine that we instead used some other coordinate system to establish a \"zero\" point (or origin) of some sort.  We would then need to find a way to indicate that we were no longer using that latitude system.  This is a similar sort of characteristic for nifti data.  Here, we have some indicator (\"mni\" or \"talarach\", for example) that establish for us what we consider to be a common point of reference.  \"mni\" and \"talarach\" each correspond to the standard Montreal Neurological Institute [citation] and Talairach [citation] atlases.  Talairach  schema the (0,0,0) point corresponds to the anterior commisure [confirm this], while in the \"MNI\" schema the (0,0,0) point corresponds to the posterior commisure.\n",
    "\n",
    "\n",
    "qoffset_x, qoffset_y , qoffset_z:  These numbers are the transforms necessary to align this image to the reference specified in \"qform_code\".  Referring back to our previous lessons, you can think of these numbers as the shift needed to align the political map with the geographic map. Now though, we have three dimensions and need to align all three.  Furthermore, our primary goal when doing this alignment (in accordance with the specified \"mni\" coordinate scheme), is to make sure that the posterior comissure is located at (0,0,0) once the relvant shifts are performed.         \n",
    "\n",
    "Lets move on from the header information and take a look at the data object itself."
   ]
  },
  {
   "cell_type": "code",
   "execution_count": 4,
   "metadata": {
    "scrolled": true
   },
   "outputs": [
    {
     "name": "stdout",
     "output_type": "stream",
     "text": [
      "Data dimensions\n",
      "(How many data entries in each dimension)\n",
      "(145, 174, 145)\n"
     ]
    }
   ],
   "source": [
    "print('Data dimensions')\n",
    "print('(How many data entries in each dimension)')\n",
    "dataDimensions=img.shape\n",
    "print(dataDimensions)"
   ]
  },
  {
   "cell_type": "markdown",
   "metadata": {},
   "source": [
    "Here we are no longer indexing into the header, but we nontheless see that the size of the image data is (145,174,145), which is consistent with the information we obtained from the \"dim\" field of the header.\n",
    "\n",
    "We can also use the functionality of the nibabel python package to obtain the dimensions of the voxels in this nifti."
   ]
  },
  {
   "cell_type": "code",
   "execution_count": 5,
   "metadata": {},
   "outputs": [
    {
     "name": "stdout",
     "output_type": "stream",
     "text": [
      "Voxel dimensions for T1 (in mm)\n",
      "(1.25, 1.25, 1.25)\n"
     ]
    }
   ],
   "source": [
    "print('Voxel dimensions for T1 (in mm)')\n",
    "voxelDims=img.header.get_zooms()\n",
    "print(voxelDims)"
   ]
  },
  {
   "cell_type": "markdown",
   "metadata": {},
   "source": [
    "Now, given that we have the size of an individual voxel and the dimensions of the entire data block we can compute the amount of space that this nifti represents. "
   ]
  },
  {
   "cell_type": "code",
   "execution_count": 6,
   "metadata": {},
   "outputs": [
    {
     "name": "stdout",
     "output_type": "stream",
     "text": [
      "How much total space does this representation correspond to?\n",
      "\n",
      "181.25 mm by 217.5 mm by 181.25 mm\n"
     ]
    }
   ],
   "source": [
    "print('How much total space does this representation correspond to?')\n",
    "print('')\n",
    "print(f'{dataDimensions[0]*voxelDims[0]} mm by {dataDimensions[1]*voxelDims[1]} mm by {dataDimensions[2]*voxelDims[2]} mm' )"
   ]
  },
  {
   "cell_type": "markdown",
   "metadata": {},
   "source": [
    "Lets actually index into a specific voxel and see what information is stored there.  From the header, we know that it will be a float value, but we dont, as of yet, have a ballpark sense of what this value will be."
   ]
  },
  {
   "cell_type": "code",
   "execution_count": 7,
   "metadata": {},
   "outputs": [
    {
     "data": {
      "text/plain": [
       "851.6476440429688"
      ]
     },
     "execution_count": 7,
     "metadata": {},
     "output_type": "execute_result"
    }
   ],
   "source": [
    "data = img.get_fdata()\n",
    "data[96,86,57]"
   ]
  },
  {
   "cell_type": "markdown",
   "metadata": {},
   "source": [
    "That value gives a sense of what sort of numbers this nifti object contains, but what about all of the others, how can we get a sense of those?  Lets explore this by plotting a histogram of the T1 data values for each voxel.  In addition to this, we can also get a sense of what how many total voxels there are, how many are \"non-zero\" (in that they contain information), and what proportion of the total number of voxels this corresponds to. "
   ]
  },
  {
   "cell_type": "code",
   "execution_count": 8,
   "metadata": {
    "scrolled": false
   },
   "outputs": [
    {
     "name": "stdout",
     "output_type": "stream",
     "text": [
      "Total number of voxels\n",
      "3658350\n",
      "\n",
      "Minimum voxel value\n",
      "-31.94868278503418\n",
      "\n",
      "Maximum voxel value\n",
      "1591.8572998046875\n",
      "\n",
      "Number of voxel values less than or equal to zero\n",
      "2685933\n",
      "\n",
      "Number of voxel values greater than zero\n",
      "972417\n",
      "\n",
      "Proportion of entries greater than zero (i.e. containing data)\n",
      "0.2658075361843454\n",
      "\n"
     ]
    },
    {
     "data": {
      "text/plain": [
       "Text(0.5, 1.0, 'Distributon of voxel values  greater than zero')"
      ]
     },
     "execution_count": 8,
     "metadata": {},
     "output_type": "execute_result"
    },
    {
     "data": {
      "image/png": "[encoded data removed]",
      "text/plain": [
       "<Figure size 1332x756 with 2 Axes>"
      ]
     },
     "metadata": {
      "needs_background": "light"
     },
     "output_type": "display_data"
    }
   ],
   "source": [
    "import matplotlib.pyplot as plt\n",
    "import numpy as np\n",
    "%matplotlib inline\n",
    "unwrappedData=np.ndarray.flatten(data)\n",
    "\n",
    "\n",
    "print('Total number of voxels')\n",
    "voxTotal=dataDimensions[0]*dataDimensions[1]*dataDimensions[2]\n",
    "print(voxTotal)\n",
    "print('')\n",
    "\n",
    "print('Minimum voxel value')\n",
    "print(np.min(unwrappedData))\n",
    "print('')\n",
    "\n",
    "print('Maximum voxel value')\n",
    "print(np.max(unwrappedData))\n",
    "print('')\n",
    "\n",
    "splitPoint=0\n",
    "\n",
    "def smallVal(n): \n",
    "    return n<=splitPoint\n",
    "def largeVal(n):\n",
    "    return n>splitPoint\n",
    "\n",
    "result=map(smallVal,unwrappedData)\n",
    "smallBool=list(result)\n",
    "\n",
    "result=map(largeVal,unwrappedData)\n",
    "largeBool=list(result)\n",
    "\n",
    "print('Number of voxel values less than or equal to zero')\n",
    "print(sum(smallBool))\n",
    "print('')\n",
    "\n",
    "print('Number of voxel values greater than zero')\n",
    "print(sum(largeBool))\n",
    "print('')\n",
    "\n",
    "print('Proportion of entries greater than zero (i.e. containing data)')\n",
    "print(sum(largeBool)/voxTotal)\n",
    "print('')\n",
    "\n",
    "plt.subplot(1, 2, 1)\n",
    "plt.hist(unwrappedData[smallBool], bins=40)\n",
    "plt.xlabel('Voxel Data')\n",
    "plt.ylabel('Number of Voxels')\n",
    "plt.title('Distributon of voxel less than or equal to zero')\n",
    "fig = plt.gcf()\n",
    "fig.set_size_inches(18.5, 10.5)\n",
    "\n",
    "plt.subplot(1, 2, 2)\n",
    "plt.hist(unwrappedData[largeBool], bins=1000)\n",
    "plt.xlabel('Voxel Data')\n",
    "plt.ylabel('Number of Voxels')\n",
    "plt.title('Distributon of voxel values  greater than zero')"
   ]
  },
  {
   "cell_type": "markdown",
   "metadata": {},
   "source": [
    "It seems that about a quarter of the voxels contain data that we would consider to be reprsentatve of the brain.  Depending on whether or not this T1 has had the brain \"extracted\" (i.e. the brain isolated from the rest of the head, neck, and body), this proporation may also include non-brain tissues.  Furthermore, note how we had to split the histogram in two.  Had we not done this, the number of empty voxels would have overwhelmed the visualization and we wouldn't have been able to observe the distribution visible in the plot on the right.\n",
    "\n",
    "Now that we have a sense of the numerical variability of the data in this nifti, lets get a sense of how these values are laid out spatially.  Keep in mind that, just like a jpeg wherein the i,j entry of the data array represents a portion of space that spatially adjacent to the i,j-1 (or i,j+1, or i+1,j etc.), the i,j,k entry of a nifti is spatially adjacent to the i,j,k+1 entry."
   ]
  },
  {
   "cell_type": "code",
   "execution_count": 9,
   "metadata": {
    "scrolled": false
   },
   "outputs": [
    {
     "data": {
      "text/plain": [
       "<Figure size 432x288 with 0 Axes>"
      ]
     },
     "metadata": {},
     "output_type": "display_data"
    },
    {
     "data": {
      "application/vnd.jupyter.widget-view+json": {
       "model_id": "dad30b51a4f84bc8b669d7ebc0ae8657",
       "version_major": 2,
       "version_minor": 0
      },
      "text/plain": [
       "interactive(children=(IntSlider(value=72, continuous_update=False, description='x', max=144), IntSlider(value=…"
      ]
     },
     "metadata": {},
     "output_type": "display_data"
    }
   ],
   "source": [
    "from niwidgets import NiftiWidget\n",
    "from niwidgets import examplet1\n",
    "\n",
    "T1Path='/Users/plab/Documents/JupyerData/proj-5c50b6f12daf2e0032f880eb/sub-100206/dt-neuro-anat-t1w.tag-acpc_aligned.tag-brain_extracted.id-5c57072befbc2800526291bb/t1.nii.gz'\n",
    "\n",
    "\n",
    "test_widget = NiftiWidget(T1Path)\n",
    "\n",
    "test_widget.nifti_plotter()\n",
    "\n",
    "\n"
   ]
  },
  {
   "cell_type": "markdown",
   "metadata": {},
   "source": [
    "Take a moment to shift through the nifti image plotted above.  If you want a more standard visualization, feel free to switch the colormap to gray.  As a challenge, try and shift the x, y, and z slizes to cross at the posterior commisure, and take note of the coordinates of this point.  Right now, its worth noting that the left, posterior, inferior corner is the 0 coordinate.  The coordinate shift that results in the posterior commisure being at (0,0,0) occurs after the qoffset information has been applied.  After this shift has been performed locations in the left hemisphere are characterized by coorinates that have a negative first value (x coordinate)."
   ]
  },
  {
   "cell_type": "markdown",
   "metadata": {},
   "source": [
    "The notion of a shift gets a bit more complicated in three dimensions, as it is possible to have your data rotated or flipped along multiple dimensions.  With a standard 2d image this would have been quite obvious (you would notice if the world had been rotated 90% or flipped such that Russia was west of the US's \"east\" coast).  Although some of these changes are obvious in a nifti image (for example a 90 degree rotation), some are less obvious.  For example, as it turns out this brain is flipped in the x axis such that the right hemisphere is plotted on the left and the left hemisphere is plotted on the right.  Lets take a look at how we would know this."
   ]
  },
  {
   "cell_type": "code",
   "execution_count": 9,
   "metadata": {},
   "outputs": [
    {
     "name": "stdout",
     "output_type": "stream",
     "text": [
      "T1 voxel resolution (in mm)\n",
      "(1.25, 1.25, 1.25)\n",
      "\n",
      "T1 voxel affine\n",
      "[[  -1.25    0.      0.     90.  ]\n",
      " [   0.      1.25    0.   -126.  ]\n",
      " [   0.      0.      1.25  -72.  ]\n",
      " [   0.      0.      0.      1.  ]]\n",
      "\n",
      "Coordinates of posterior commisure\n",
      "[ 72.  100.8  57.6]\n",
      "\n"
     ]
    }
   ],
   "source": [
    "print('T1 voxel resolution (in mm)')\n",
    "print(img.header.get_zooms())\n",
    "print('')\n",
    "\n",
    "\n",
    "print('T1 voxel affine')\n",
    "imgAff=img.affine\n",
    "print(img.affine)\n",
    "print('')\n",
    "\n",
    "print('Coordinates of posterior commisure')\n",
    "imgSpatialTrans=np.abs([imgAff[0,3]/imgAff[0,0],imgAff[1,3]/imgAff[1,1],imgAff[2,3]/imgAff[2,2]])\n",
    "print(imgSpatialTrans)\n",
    "print('')\n",
    "\n"
   ]
  },
  {
   "cell_type": "markdown",
   "metadata": {},
   "source": [
    "Above we again see various components of information that could also have been found in the header.  From this, how do we know that the x dimension is flipped?  If we look at the first line of the affine we see that the 1.25 value is negative while the 90 is not which is in conflict with the other entires on the diagonal, and the other entries in the column on the right (excluding the 1 in the bottom right).  This tells us that the x dimension has been flipped.  Were they all the same sign, this would indicate that no single dimension had been flipped (and was thus out of place relative to the others).\n",
    "\n",
    "Now that we have a sense of "
   ]
  }
 ],
 "metadata": {
  "anaconda-cloud": {},
  "kernelspec": {
   "display_name": "Python 3",
   "language": "python",
   "name": "python3"
  },
  "language_info": {
   "codemirror_mode": {
    "name": "ipython",
    "version": 3
   },
   "file_extension": ".py",
   "mimetype": "text/x-python",
   "name": "python",
   "nbconvert_exporter": "python",
   "pygments_lexer": "ipython3",
   "version": "3.7.5"
  }
 },
 "nbformat": 4,
 "nbformat_minor": 1
}
