{
 "cells": [
  {
   "cell_type": "markdown",
   "metadata": {},
   "source": [
    "# What is a tract?\n",
    "\n",
    "\n",
    "##  Track Vs Tract\n",
    "\n",
    "## White Matter tract Vs Streamline Tract\n",
    "\n",
    "## unanswered questions\n",
    "\n",
    "### How many uncharacterized / undiscovered tracts are there?\n",
    "### What characterizes white matter that *is* part of a tract and what characterizes white mattter that *isn't* part of a tract?\n",
    "### Are all parts of the white matter part of a tract?\n"
   ]
  }
 ],
 "metadata": {
  "kernelspec": {
   "display_name": "Python 3",
   "language": "python",
   "name": "python3"
  },
  "language_info": {
   "codemirror_mode": {
    "name": "ipython",
    "version": 3
   },
   "file_extension": ".py",
   "mimetype": "text/x-python",
   "name": "python",
   "nbconvert_exporter": "python",
   "pygments_lexer": "ipython3",
   "version": "3.7.5"
  }
 },
 "nbformat": 4,
 "nbformat_minor": 2
}
