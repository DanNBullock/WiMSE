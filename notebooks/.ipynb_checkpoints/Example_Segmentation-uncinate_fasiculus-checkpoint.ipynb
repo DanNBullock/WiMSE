{
 "cells": [
  {
   "cell_type": "markdown",
   "metadata": {},
   "source": [
    "# Example Segmentation: uncinate fasciculus\n",
    "\n",
    "NOTE:  This segmentation is taken almost verbatim from a [recent version of the matlab-version of WMA segmentation](https://github.com/DanNBullock/wma_tools/blob/53a4d99b68b832257c55d5f1320dc7266cc8c270/Segmentations/bsc_segmentAntPostTracts_v4.m#L76-L207).\n",
    "\n",
    "## Beginning with practical considerations and limitations\n",
    "\n",
    "Before truly beginning the segmentation of the [Uncinate Fasciculus](https://en.wikipedia.org/wiki/Uncinate_fasciculus), there's some setup that we need to do.  Among these steps are the loading of the relevant atlas and candidate tractome(s).  Astute observers may note that the loading process we use here is decidedly more... convoluted than normal.  This is due to the use of a workaround related to github's limitation of a 100 MB file size limit.  As such, we'll be loading up 4 individual sub tractomes--divided up by streamline length--and then we'll combine them into one.  As a further note, traditionally when we segment we want to have a very rich tractome to segment from so that our segmented tracts can be as full as possible.  In this case though, we are somewhat constrained by our medium, and so the tracts that we segment will be _significantly_ less full than they would typically be. \n",
    "\n",
    "One additional consideration to keep in mind is the length of the target tract.  Traditional tractography generation methods have a very low minimum streamline length (e.g. 10 mm).  Due to the stochastic nature of streamline generation, it is more likely to generate small streamlines than it is to generate long ones, because each additional node increases the probability that the node is \"not viable\" and thus the streamline fails to complete the generation process (an example of a [conjunct probability](https://en.wikipedia.org/wiki/Conditional_probability)).  However, we aren't looking for just any streamline, we are looking for a streamline which could be a member of the Uncinate Fasciculus.  As such, we know the general range of streamlines we would be looking for (~40 to 100 mm).  This is something to keep in mind when generating one's candidate tractome:  **in most cases, for major white matter tracts, shorter streamlines will not contribute to better segmentation outcomes**.  Instead, they will simply add to the file size of the tractogram and increase computation time.\n",
    "\n",
    "Lets move to this piecewise loading process."
   ]
  },
  {
   "cell_type": "code",
   "execution_count": 9,
   "metadata": {},
   "outputs": [],
   "source": [
    "#this code ensures that we can navigate the WiMSE repo across multiple systems\n",
    "import subprocess\n",
    "import os\n",
    "import pandas as pd\n",
    "import seaborn as sns\n",
    "#get top directory path of the current git repository, under the presumption that \n",
    "#the notebook was launched from within the repo directory\n",
    "gitRepoPath=subprocess.check_output(['git', 'rev-parse', '--show-toplevel']).decode('ascii').strip()\n",
    "\n",
    "#establish path to the \n",
    "wma_toolsDirPath=os.path.join(gitRepoPath,'wma_pyTools')   \n",
    "\n",
    "#change to the wma_tools path, load the function set, then change back to the top directory\n",
    "os.chdir(wma_toolsDirPath)\n",
    "import WMA_pyFuncs\n",
    "os.chdir(gitRepoPath)\n",
    "\n",
    "import nibabel as nib\n",
    "import numpy as np\n",
    "\n",
    "grossAnatomyPath=os.path.join(gitRepoPath,'exampleData','GrossAnatomyLookup.csv')\n",
    "\n",
    "grossAnatTable=pd.read_csv(grossAnatomyPath)\n",
    "#load the atlas\n",
    "atlasPath=os.path.join(gitRepoPath,'exampleData','parc.nii.gz')\n",
    "#load it as an object\n",
    "atlasImg = nib.load(atlasPath)\n",
    "\n",
    "#get and copy the data\n",
    "grossAnatAtlas=atlasImg.get_fdata().copy()\n",
    "#get the labels to iterate over\n",
    "uniqueAtlasEntries=np.unique(atlasImg.get_fdata()).astype(int)\n",
    "#get the unique \n",
    "grossAnatList=grossAnatTable['GrossAnat'].unique()\n",
    "#iterate across unique label entries\n",
    "for iLabels in range(len(uniqueAtlasEntries)):\n",
    "    #print(np.isin(grossAnatTable['GrossAnat'].loc[grossAnatTable['#No.']==uniqueAtlasEntries[iLabels]],grossAnatList))\n",
    "    #replace the current uniqueAtlasEntries value with the label corresponding to the gross anat category\n",
    "    currentLabelReNum=np.where(np.isin(grossAnatList,grossAnatTable['GrossAnat'].loc[grossAnatTable['#No.']==uniqueAtlasEntries[iLabels]]))\n",
    "    grossAnatAtlas[atlasImg.get_fdata()==uniqueAtlasEntries[iLabels]]=currentLabelReNum[0]\n",
    "#set the gross anatomy nifti\n",
    "grossAnatNifti=nib.Nifti1Image(grossAnatAtlas, atlasImg.affine, atlasImg.header)  \n",
    "\n",
    "#now lets do the same thing again but for entire hemispheres\n",
    "#get and copy the data\n",
    "hemisphereAtlas=atlasImg.get_fdata().copy()\n",
    "#get the labels to iterate over\n",
    "uniqueAtlasEntries=np.unique(atlasImg.get_fdata()).astype(int)\n",
    "#get the unique \n",
    "hemisphereList=grossAnatTable['Hemi'].unique()\n",
    "#iterate across unique label entries\n",
    "for iLabels in range(len(uniqueAtlasEntries)):\n",
    "    #print(np.isin(grossAnatTable['GrossAnat'].loc[grossAnatTable['#No.']==uniqueAtlasEntries[iLabels]],grossAnatList))\n",
    "    #replace the current uniqueAtlasEntries value with the label corresponding to the gross anat category\n",
    "    currentLabelReNum=np.where(np.isin(hemisphereList,grossAnatTable['Hemi'].loc[grossAnatTable['#No.']==uniqueAtlasEntries[iLabels]]))\n",
    "    hemisphereAtlas[atlasImg.get_fdata()==uniqueAtlasEntries[iLabels]]=currentLabelReNum[0]\n",
    "#set the gross anatomy nifti\n",
    "hemisphereNifti=nib.Nifti1Image(hemisphereAtlas, atlasImg.affine, atlasImg.header)  \n",
    "\n",
    "# load the tractography file into the streamsObjIN variable\n",
    "#smallTractogramPath=os.path.join(gitRepoPath,'exampleData','smallTractogram.tck')\n",
    "TractogramPath1='/Users/plab/Downloads/30to50mmtrack.tck'\n",
    "TractogramPath2='/Users/plab/Downloads/50to70mmtrack.tck'\n",
    "TractogramPath3='/Users/plab/Downloads/70to100mmtrack.tck'\n",
    "\n",
    "streamsObjIN1=nib.streamlines.load(TractogramPath1)\n",
    "streamsObjIN2=nib.streamlines.load(TractogramPath2)\n",
    "streamsObjIN3=nib.streamlines.load(TractogramPath3)\n",
    "\n",
    "#get tractogram from the Tck holder\n",
    "allStreams=np.concatenate((streamsObjIN1.streamlines[:],streamsObjIN2.streamlines[:],streamsObjIN3.streamlines[:]))\n",
    "\n",
    "sourceTractogram= nib.streamlines.tractogram.Tractogram(streamlines=allStreams,  affine_to_rasmm=streamsObjIN1.header['voxel_to_rasmm'])\n",
    "\n",
    "\n",
    "from dipy.tracking import utils\n",
    "#segment tractome into connectivity matrix from parcellation\n",
    "M, grouping=utils.connectivity_matrix(sourceTractogram.streamlines, grossAnatNifti.affine, \\\n",
    "                        label_volume=grossAnatNifti.get_fdata().astype(int), \\\n",
    "                        return_mapping=True,\\\n",
    "                        symmetric=False,\\\n",
    "                        mapping_as_streamlines=False)\n",
    "\n",
    "#segment the tractome into a hemisphere based map (only a 3x3 matrix really)\n",
    "hemiM, hemiGrouping=utils.connectivity_matrix(sourceTractogram.streamlines, hemisphereNifti.affine, \\\n",
    "                        label_volume=hemisphereNifti.get_fdata().astype(int), \\\n",
    "                        return_mapping=True,\\\n",
    "                        symmetric=False,\\\n",
    "                        mapping_as_streamlines=False)"
   ]
  },
  {
   "cell_type": "markdown",
   "metadata": {},
   "source": [
    "## Establishing the category\n",
    "\n",
    "The Uncinate is definitionally a fronto-temporal tract.  Although we could be more specific than this, and note that it occupies the anterior temporal poles, we needn't actually be this specific for the purposes of applying a categorical segmentation.  Instead, we can simply use the existing fronto-temporal category.\n",
    "\n",
    "Below, we'll visualize the relevant category."
   ]
  },
  {
   "cell_type": "code",
   "execution_count": 17,
   "metadata": {
    "scrolled": true
   },
   "outputs": [
    {
     "data": {
      "application/vnd.jupyter.widget-view+json": {
       "model_id": "0057e762a7d74a13a6ecf9d6d2e651b9",
       "version_major": 2,
       "version_minor": 0
      },
      "text/plain": [
       "interactive(children=(Dropdown(description='region1', index=9, options=(('unknown', 0), ('wm', 1), ('ventricle…"
      ]
     },
     "metadata": {},
     "output_type": "display_data"
    }
   ],
   "source": [
    "#quick and dirty tractogram subsetter by Brad Caron\n",
    "#https://github.com/bacaron\n",
    "def extractSubTractogram(sourceTractogram,indexes):\n",
    "    #import relevant package\n",
    "    import nibabel as nib\n",
    "    #extrect the desired streamlines into a new streamline object\n",
    "    streamlines = sourceTractogram.streamlines[indexes]\n",
    "    #establish tractogram object\n",
    "    out_tractogram = nib.streamlines.tractogram.Tractogram(streamlines)\n",
    "    #adjust the relevant header fields\n",
    "    #don't bother for now, header is only relevant to Tck file\n",
    "    #for headerFields in ['total_count','count','nb_streamlines']:\n",
    "        #nb_streamlines is an int, whereas the others are strings, for some reason\n",
    "    #    if headerFields == 'nb_streamlines':\n",
    "    #        out_tractogram.header[headerFields] = len(streamlines)\n",
    "    #    else:\n",
    "    #        out_tractogram.header[headerFields] = '%s' %len(streamlines)\n",
    "    return out_tractogram\n",
    "\n",
    "#interactive plotting via niwidgets?  \n",
    "#widget within a widget doesn't seem to work\n",
    "def plotParcellationConnectionWidget(subTractogram):\n",
    "    #import widget\n",
    "    from niwidgets import StreamlineWidget\n",
    "    #set widget object\n",
    "    \n",
    "    sw = StreamlineWidget(streamlines=subTractogram)\n",
    "    #set plotting characteristics\n",
    "    style = {'axes': {'color': 'red',\n",
    "                  'label': {'color': 'white'},\n",
    "                  'ticklabel': {'color': 'white'},\n",
    "                  'visible': True},\n",
    "         'background-color': 'black',\n",
    "         'box': {'visible': True}}\n",
    "    #plot it\n",
    "    sw.plot(display_fraction=1, width=1000, height=1000, style=style, percentile=0)\n",
    "\n",
    "def plotTract(tractIn):\n",
    "    import numpy as np\n",
    "    from dipy.viz import window, actor\n",
    "    renderer = window.Scene()\n",
    "    stream_actor = actor.line(tractIn)\n",
    "    #renderer.set_camera(position=(-176.42, 118.52, 128.20),\n",
    "    #               focal_point=(113.30, 128.31, 76.56),\n",
    "    #                view_up=(0.18, 0.00, 0.98))\n",
    "    %matplotlib inline\n",
    "    renderer.add(stream_actor)\n",
    "    \n",
    "    window.show(renderer, size=(600, 600), reset_camera=True)\n",
    "\n",
    "def updateFunction(regionIndex1,regionIndex2):\n",
    "    currentRenumberIndex1=regionIndex1    \n",
    "    currentRenumberIndex2=regionIndex2   \n",
    " \n",
    "    \n",
    "    #check to make sure this pairing is actually in the connections\n",
    "    if np.logical_or((currentRenumberIndex1,currentRenumberIndex2) in grouping.keys(),(currentRenumberIndex1,currentRenumberIndex2) in grouping.keys()): \n",
    "        #if they are both there do it (dipy method may preclude this)\n",
    "        if np.logical_and((currentRenumberIndex1,currentRenumberIndex2) in grouping.keys(),(currentRenumberIndex1,currentRenumberIndex2) in grouping.keys()): \n",
    "            currentIndexes=np.concatenate((np.asarray(grouping[currentRenumberIndex1,currentRenumberIndex2]),np.asarray(grouping[currentRenumberIndex2,currentRenumberIndex1]))).astype(int)\n",
    "        elif (currentRenumberIndex1,currentRenumberIndex2) in grouping.keys():\n",
    "            currentIndexes=grouping[currentRenumberIndex1,currentRenumberIndex2]\n",
    "        elif (currentRenumberIndex2,currentRenumberIndex1) in grouping.keys():\n",
    "            currentIndexes=grouping[currentRenumberIndex2,currentRenumberIndex1]\n",
    "        #there are no other potential cases\n",
    "        subTractogram=extractSubTractogram(sourceTractogram,currentIndexes)\n",
    "        %matplotlib inline\n",
    "        plotParcellationConnectionWidget(subTractogram.streamlines)\n",
    "    else:\n",
    "        print('connection not present')\n",
    "\n",
    "dropDownList=list(zip(grossAnatList, range(len(grossAnatList))))\n",
    "\n",
    "from ipywidgets import interact, interactive, fixed, interact_manual\n",
    "from ipywidgets import Dropdown\n",
    "\n",
    "#establish interactivity\n",
    "interact(updateFunction, \n",
    "         regionIndex1=Dropdown(options=dropDownList, value=9, description=\"region1\"), \n",
    "         regionIndex2=Dropdown(options=dropDownList, value=12, description=\"region2\"),\n",
    "        )\n",
    "#create a boolean vector for the category outputs\n",
    "categoryBool=np.zeros(len(sourceTractogram.streamlines),dtype=int)\n",
    "leftBool=np.zeros(len(sourceTractogram.streamlines),dtype=int)\n",
    "rightBool=np.zeros(len(sourceTractogram.streamlines),dtype=int)\n",
    "\n",
    "categoryBool[np.union1d(grouping[9,12],grouping[12,9])]=True\n",
    "#1 is left hemisphere, 2 is right, 0 is both/neither/midline\n",
    "leftBool[hemiGrouping[1,1]]=True\n",
    "rightBool[hemiGrouping[2,2]]=True"
   ]
  },
  {
   "cell_type": "markdown",
   "metadata": {},
   "source": [
    "## Establish more specific endpoint criteria (loosely)\n",
    "In order to prevent certain spurious streamlines (potentially implausible, and certainly not part of the Uncinate) we can include some additional segmentation logic to exclude these streamlines *while also not being so strict as to make the segmentation [brittle](https://en.wikipedia.org/wiki/Brittle_system) or [overdetermined](https://en.wikipedia.org/wiki/Overdetermined_system)*.  Two of these loose endpoint criteria will be necessary for the Uncinate.  Given that we require the posterior cluster of streamlines to be located in the anterior temporal region we can implement criteria relative to the dorso-ventral axis and the rostro-caudal axis. \n",
    " \n",
    "###  Dorso-ventral endpoint criteria\n",
    "\n",
    "#### Dorso-ventral criteria - segmentation logic\n",
    "\n",
    "In general, the endpoints of the Uncinate are fairly low in the brain.\n",
    "Furthermore, we note that the arc of the Uncinate occurs relatively close to the amygdala.  Because the streamlines of the uncinate approach from the ventral side of the [amygdala](https://en.wikipedia.org/wiki/Amygdala) (as they then proceed anteriorly to the frontal lobes), and reach their apex at around the top of the amygdala, it is necessarily the case that at least one endpoint of these streamlines (namely the posterior/inferior endpoint) is _below_ the top of the amygdala.  Therefore, it is logically necessary that it is *not* the case that both streamline endpoints are superior to the top of the amygdala (or else it couldn't engage in the arcing behavior).  Lets translate this into segmentation logic.\n",
    "\n",
    "First we will begin by generating a plane from the top of the amygdala.  Then we find all streamlines that have **both** streamline endpoints above this plane (we'll negate this criteria later, to adhere to our logic). Note, using the plane in this way is different than requiring neither streamline to be above this plane.  **This logical operation still permits maximally one endpoint per streamline to be above this plane** ."
   ]
  },
  {
   "cell_type": "code",
   "execution_count": 18,
   "metadata": {},
   "outputs": [
    {
     "data": {
      "text/plain": [
       "[Text(0, 0.5, 'category'),\n",
       " None,\n",
       " Text(0.5, 0, 'streamline count (log)'),\n",
       " Text(0.5, 1.0, 'effect of endpoint dorso-ventral criteria')]"
      ]
     },
     "execution_count": 18,
     "metadata": {},
     "output_type": "execute_result"
    },
    {
     "data": {
      "image/png": "[encoded data removed]",
      "text/plain": [
       "<Figure size 432x288 with 1 Axes>"
      ]
     },
     "metadata": {
      "needs_background": "light"
     },
     "output_type": "display_data"
    }
   ],
   "source": [
    "# Begin by generating a plane from the top of the amygdala\n",
    "amygdalaTopPlane=WMA_pyFuncs.planarROIFromAtlasLabelBorder(atlasImg,18, 'superior')\n",
    "\n",
    "# find all streamlines that have both streamline endpoints above this plane (we'll negate this criteria later, to generate our logic)\n",
    "bothAboveAmygBool=WMA_pyFuncs.applyEndpointCriteria(sourceTractogram.streamlines,amygdalaTopPlane,'superior','both')\n",
    "\n",
    "#compute the effect on the connectivity matrix\n",
    "bothAboveAmygLogicMatrix=WMA_pyFuncs.maskMatrixByBoolVec(grouping,np.logical_not(bothAboveAmygBool))\n",
    "#sum across columns and make an array\n",
    "compareCriteriaArray=np.vstack((np.sum(M,axis=1),np.sum(bothAboveAmygLogicMatrix,axis=1)))\n",
    "#use pandas to create a dataframe for this\n",
    "comparisonFrame=pd.DataFrame(data=compareCriteriaArray,columns=grossAnatList,index=['pre-criteria','post-criteria'])\n",
    "meltedFrame=pd.melt(comparisonFrame.reset_index(),id_vars='index')\n",
    "\n",
    "criteriaBarPlot=sns.barplot(data=meltedFrame,y='variable',x='value',hue='index')\n",
    "criteriaBarPlot.set(xlabel='streamline count (log)', ylabel='category',xscale='log',title='effect of endpoint dorso-ventral criteria')"
   ]
  },
  {
   "cell_type": "markdown",
   "metadata": {},
   "source": [
    "####  Dorso-ventral criteria - observations\n",
    "\n",
    "From the bar plot above, we see that the application of this criteria impacted some categories of streamlines more than others.  Note that, when computing the impact of this criteria we negated the output (using [np.logical_not](https://numpy.org/doc/stable/reference/generated/numpy.logical_not.html)) just as we will do when we actually utilize this output boolean vector to compute the final segmentation.  The parietal, and frontal, and occipital categories all exhibit a reduction in streamlines, whereas the temporal category appears to maintain most of its members (as would be expected for the more ventral structure).\n",
    "\n",
    "### Rostro-caudal endpoint criteria\n",
    "\n",
    "####  Rostro-caudal criteria - segmentation logic\n",
    "\n",
    "In general, the endpoints of the Uncinate are fairly *anterior* in the brain as we noted above, the arc of the Uncinate occurs relatively close to the amygdala. This is true of the rostro-caudal axis as well. The streamlines of the Uncinate have all begun to arc forward anterior of the posterior of the border of the amygdala.  A consequence, similar to the one noted (in bold) in the dorso-ventral criteria discussion, is that it is *not* the case that both endpoints are posterior of this posterior amygdala border.  Lets translate this into segmentation logic.\n",
    "\n",
    "We will begin by generating a plane from the posterior of the amygdala.  Next, we will use this to find all streamlines that have both streamline endpoints posterior to this plane (we'll negate this criteria later, to adhere to our logic). Note, this is different than requiring _neither_ streamline to be anterior to this plane.  **This logical operation still permits maximally one endpoint per streamline to be posterior to\n",
    "this plane**."
   ]
  },
  {
   "cell_type": "code",
   "execution_count": 19,
   "metadata": {},
   "outputs": [
    {
     "data": {
      "text/plain": [
       "[Text(0, 0.5, 'category'),\n",
       " None,\n",
       " Text(0.5, 0, 'streamline count (log)'),\n",
       " Text(0.5, 1.0, 'effect of endpoint rostro-caudal criteria')]"
      ]
     },
     "execution_count": 19,
     "metadata": {},
     "output_type": "execute_result"
    },
    {
     "data": {
      "image/png": "[encoded data removed]",
      "text/plain": [
       "<Figure size 432x288 with 1 Axes>"
      ]
     },
     "metadata": {
      "needs_background": "light"
     },
     "output_type": "display_data"
    }
   ],
   "source": [
    "# Begin by generating a plane from the top of the amygdala\n",
    "amygdalaPosteriorPlane=WMA_pyFuncs.planarROIFromAtlasLabelBorder(atlasImg,18, 'posterior')\n",
    "\n",
    "# find all streamlines that have both streamline endpoints above this plane (we'll negate this criteria later, to generate our logic)\n",
    "bothPosteriorAmygBool=WMA_pyFuncs.applyEndpointCriteria(sourceTractogram.streamlines,amygdalaPosteriorPlane,'posterior','both')\n",
    "\n",
    "#compute the effect on the connectivity matrix\n",
    "bothPostAmygLogicMatrix=WMA_pyFuncs.maskMatrixByBoolVec(grouping,np.logical_not(bothPosteriorAmygBool))\n",
    "#sum across columns and make an array\n",
    "compareCriteriaArray=np.vstack((np.sum(M,axis=1),np.sum(bothPostAmygLogicMatrix,axis=1)))\n",
    "#use pandas to create a dataframe for this\n",
    "comparisonFrame=pd.DataFrame(data=compareCriteriaArray,columns=grossAnatList,index=['pre-criteria','post-criteria'])\n",
    "meltedFrame=pd.melt(comparisonFrame.reset_index(),id_vars='index')\n",
    "\n",
    "criteriaBarPlot=sns.barplot(data=meltedFrame,y='variable',x='value',hue='index')\n",
    "criteriaBarPlot.set(xlabel='streamline count (log)', ylabel='category',xscale='log',title='effect of endpoint rostro-caudal criteria')"
   ]
  },
  {
   "cell_type": "markdown",
   "metadata": {},
   "source": [
    "####  Rostro-caudal criteria - observations\n",
    "\n",
    "As with the dorso-ventral criteria, we've negated the boolean vector once more, such that we are considering those streamlines which **do not** have both endpoints posterior to the amygdala.\n",
    "\n",
    "The predominantly impacted categories in this instance are the occipital and cerebellar categories (and to a lesser extent, parietal).  This is consistent with our intent in using this criteria, because we are excluding streamlines confined to the posterior of the brain.\n",
    "\n",
    "## Other anatomical criteria\n",
    "\n",
    "### midpoint rostro-caudal criteria \n",
    "\n",
    "#### midpoint rostro-caudal criteria - segmentation logic\n",
    "\n",
    "If the arc of the Uncinate occurs anterior to the posterior border of the amygdala, it stands to reason that the midpoint of those streamlines would also occur anterior to this border.  Even in the case of more [sigmoidally](https://en.wikipedia.org/wiki/Sigmoid_function) shaped streamlines (as opposed to u or j shaped), which do occur and have their endpoints potentially posterior to the posterior of the amygdala, the midpoint would still be anterior of this border if the anterior endpoint is to terminate in the anterior frontal lobes.  This can rather straightforwardly be translated into segmentation logic."
   ]
  },
  {
   "cell_type": "code",
   "execution_count": 20,
   "metadata": {},
   "outputs": [
    {
     "data": {
      "text/plain": [
       "[Text(0, 0.5, 'category'),\n",
       " None,\n",
       " Text(0.5, 0, 'streamline count (log)'),\n",
       " Text(0.5, 1.0, 'effect of midpoint rostro-caudal criteria')]"
      ]
     },
     "execution_count": 20,
     "metadata": {},
     "output_type": "execute_result"
    },
    {
     "data": {
      "image/png": "[encoded data removed]",
      "text/plain": [
       "<Figure size 432x288 with 1 Axes>"
      ]
     },
     "metadata": {
      "needs_background": "light"
     },
     "output_type": "display_data"
    }
   ],
   "source": [
    "# Now we find all streamlines that the midpoint anterior of the same posterior amigdala plane we made earlier.\n",
    "midpointAntOfPosteriorAmygBool=WMA_pyFuncs.applyMidpointCriteria(sourceTractogram.streamlines,amygdalaPosteriorPlane,'anterior');\n",
    "\n",
    "#compute the effect on the connectivity matrix\n",
    "midpointAntAmygLogicMatrix=WMA_pyFuncs.maskMatrixByBoolVec(grouping,midpointAntOfPosteriorAmygBool)\n",
    "#sum across columns and make an array\n",
    "compareCriteriaArray=np.vstack((np.sum(M,axis=1),np.sum(midpointAntAmygLogicMatrix,axis=1)))\n",
    "#use pandas to create a dataframe for this\n",
    "comparisonFrame=pd.DataFrame(data=compareCriteriaArray,columns=grossAnatList,index=['pre-criteria','post-criteria'])\n",
    "meltedFrame=pd.melt(comparisonFrame.reset_index(),id_vars='index')\n",
    "\n",
    "criteriaBarPlot=sns.barplot(data=meltedFrame,y='variable',x='value',hue='index')\n",
    "criteriaBarPlot.set(xlabel='streamline count (log)', ylabel='category',xscale='log',title='effect of midpoint rostro-caudal criteria')"
   ]
  },
  {
   "cell_type": "markdown",
   "metadata": {},
   "source": [
    "#### midpoint rostro-caudal criteria - observations\n",
    "\n",
    "Note that, in this case, we **did not** negate the outcome of the boolean vector.  This is because the output we obtained (midpoints anterior of the posterior amygdala) **is** what we want.  The primarily impacted categories are occipital and cerebellar (by a wide margin), but also parietal and temporal, to a lesser extent.\n",
    "\n",
    "### posterior non-traversal criteria\n",
    "\n",
    "#### posterior non-traversal criteria - segmentation logic\n",
    "\n",
    "As it should have been clear by now the category segmentation is insufficient to isolate the Uncinate.  You can refer back to the category visualization from earlier in this chapter to confirm this for yourself.  Note that the majority of the non-Uncinate streamlines in the fronto-temporal category appear to be streamlines of the [Arcuate Fasciculus](https://en.wikipedia.org/wiki/Arcuate_fasciculus).  How can we exclude these streamlines?  By applying a plane that selectively targets the Arcuate streamlines.\n",
    "\n",
    "Subcortical structures, like the [Thalamus](https://en.wikipedia.org/wiki/Thalamus) (and amygdala), tend to be relatively invariant in their location across subjects.  This is likely due to their proximity to the [anterior commissure](https://en.wikipedia.org/wiki/Anterior_commissure) (which serves as a central orientation point) and their comparative cross-subject [homology](https://en.wikipedia.org/wiki/Homology_(biology)) (as compared to the gyri and sulci of the cortex).  This is fortunate for us, because it looks like all of the Arcuate-like streamlines extend *past* the posterior of the thalamus.  Lets generate a planar ROI that we can use as an exclusion criterion."
   ]
  },
  {
   "cell_type": "code",
   "execution_count": 21,
   "metadata": {},
   "outputs": [
    {
     "data": {
      "text/plain": [
       "[Text(0, 0.5, 'category'),\n",
       " None,\n",
       " Text(0.5, 0, 'streamline count (log)'),\n",
       " Text(0.5, 1.0, 'effect of posterior non-traversal criteria')]"
      ]
     },
     "execution_count": 21,
     "metadata": {},
     "output_type": "execute_result"
    },
    {
     "data": {
      "image/png": "[encoded data removed]",
      "text/plain": [
       "<Figure size 432x288 with 1 Axes>"
      ]
     },
     "metadata": {
      "needs_background": "light"
     },
     "output_type": "display_data"
    }
   ],
   "source": [
    "posteriorThalPlane=WMA_pyFuncs.planarROIFromAtlasLabelBorder(atlasImg,10, 'posterior')\n",
    "\n",
    "posteriorThalBool=WMA_pyFuncs.applyNiftiCriteriaToTract(sourceTractogram.streamlines, posteriorThalPlane, True, 'any')\n",
    "\n",
    "posteriorThalLogicMatrix=WMA_pyFuncs.maskMatrixByBoolVec(grouping,np.logical_not(posteriorThalBool))\n",
    "#sum across columns and make an array\n",
    "compareCriteriaArray=np.vstack((np.sum(M,axis=1),np.sum(posteriorThalLogicMatrix,axis=1)))\n",
    "#use pandas to create a dataframe for this\n",
    "comparisonFrame=pd.DataFrame(data=compareCriteriaArray,columns=grossAnatList,index=['pre-criteria','post-criteria'])\n",
    "meltedFrame=pd.melt(comparisonFrame.reset_index(),id_vars='index')\n",
    "\n",
    "criteriaBarPlot=sns.barplot(data=meltedFrame,y='variable',x='value',hue='index')\n",
    "criteriaBarPlot.set(xlabel='streamline count (log)', ylabel='category',xscale='log',title='effect of posterior non-traversal criteria')"
   ]
  },
  {
   "cell_type": "markdown",
   "metadata": {},
   "source": [
    "#### posterior non-traversal criteria - observations\n",
    "\n",
    "Interestingly, this criteria doesn't appear to have much of an effect.  Basically all we have done is excluded any streamline that crosses a specific plane (the posterior border of the thalamus), and as it turns out the overwhelming majority of streamlines don't do this.  In truth though, this criteria was targeting a very specific structure: the [Arcuate Fasciculus](https://en.wikipedia.org/wiki/Arcuate_fasciculus), which was partially visible in the fronto-temporal category at the start of this chapter.  Only a limited number of streamlines correspond to this, but it's nonetheless important that we exclude them, in order to get a good segmentation.\n",
    "\n",
    "## Combine criteria and visualize\n",
    "\n",
    "Below, we will selectively apply the criteria we have created and visualize the output.  You'll notice that this is a different widget than we have used previously.  To toggle a specific criteria from the list press control and click on the associated criteria name.  You can also shift click to select a range of criteria at once.  Also note that, because this is a widget within a widget, this visualization may take a moment to update when you change options.\n",
    "\n",
    "The default criteria selection for this visualization results in the plotting of the right Uncinate Fasciculus.  You can switch between the left and right hemisphere criteria, but note that if both are activated then no streamlines will be plotted (by definition, there are no streamlines that are in both hemispheres that are also contained entirely within a single hemisphere).  It is interesting to observe just how close the pairing of the category criteria and the posterior traversal criteria get to segmenting this tract, however additional criteria are necessary to exclude those few fibers which remain dorsal to the Uncinate."
   ]
  },
  {
   "cell_type": "code",
   "execution_count": 22,
   "metadata": {},
   "outputs": [
    {
     "data": {
      "application/vnd.jupyter.widget-view+json": {
       "model_id": "63813c347ce8449e89fe5ca426cf9847",
       "version_major": 2,
       "version_minor": 0
      },
      "text/plain": [
       "interactive(children=(SelectMultiple(description='criteria', index=(0, 1, 2, 3, 4, 5), options=('Dorso-ventral…"
      ]
     },
     "metadata": {},
     "output_type": "display_data"
    },
    {
     "data": {
      "text/plain": [
       "<function __main__.updateSeg(commandIn)>"
      ]
     },
     "execution_count": 22,
     "metadata": {},
     "output_type": "execute_result"
    }
   ],
   "source": [
    "from ipywidgets import interact, interactive, fixed, interact_manual\n",
    "from ipywidgets import SelectMultiple\n",
    "\n",
    "criteriaList=['Dorso-ventral endpoint','Rostro-caudal endpoint','Rostro-caudal midpoint','Posterior non-traversal','Category','Right hemisphere','Left hemisphere']\n",
    "\n",
    "def interpretCriteria(x):\n",
    "    #might do some weird stuff for equal values\n",
    "    import numpy as np\n",
    "    return {\n",
    "            'Dorso-ventral endpoint': np.logical_not(bothAboveAmygBool),\n",
    "            'Rostro-caudal endpoint': np.logical_not(bothPosteriorAmygBool),\n",
    "            'Rostro-caudal midpoint':  midpointAntOfPosteriorAmygBool,\n",
    "            'Posterior non-traversal': np.logical_not(posteriorThalBool),\n",
    "            'Category': categoryBool,\n",
    "            'Right hemisphere': rightBool,\n",
    "            'Left hemisphere': leftBool,\n",
    "        }[x]\n",
    "\n",
    "def updateSeg(commandIn):\n",
    "    import numpy as np\n",
    "    if len(commandIn)>0:\n",
    "        criteriaOutArray=np.asarray(list(map(interpretCriteria,commandIn)))\n",
    "        currentIndexes=np.concatenate(np.where(np.all(criteriaOutArray,axis=0)))\n",
    "        \n",
    "        subTractogram=extractSubTractogram(sourceTractogram,currentIndexes)\n",
    "        %matplotlib inline\n",
    "        if len(subTractogram.streamlines)>0:\n",
    "            plotParcellationConnectionWidget(subTractogram.streamlines)\n",
    "        else:\n",
    "            print('no streamlines meet specified criteria')\n",
    "\n",
    "#establish interactivity\n",
    "interact(updateSeg, commandIn=SelectMultiple(options=criteriaList,value=criteriaList[0:-1], description='criteria',continuous_update=False,disabled=False))\n",
    "\n"
   ]
  },
  {
   "cell_type": "markdown",
   "metadata": {},
   "source": [
    "## Quantitative assessment\n",
    "\n",
    "In the plot below, you'll be able to select whatever combination of criteria you chose and view their impact on the overall count of streamlines in each category.  As was discussed in the chapter on categorical segmentations, you'll notice that the application of the category-specific criteria has the largest effect.  However, designing segmentations isn't just about quantity (of streamlines excluded) it's also about quality, which is why we need the other criteria as well."
   ]
  },
  {
   "cell_type": "code",
   "execution_count": 23,
   "metadata": {},
   "outputs": [
    {
     "data": {
      "application/vnd.jupyter.widget-view+json": {
       "model_id": "41d5b1fe0eb44af595d2fe8381b1fa4a",
       "version_major": 2,
       "version_minor": 0
      },
      "text/plain": [
       "interactive(children=(SelectMultiple(description='criteria', options=('Dorso-ventral endpoint', 'Rostro-caudal…"
      ]
     },
     "metadata": {},
     "output_type": "display_data"
    },
    {
     "data": {
      "text/plain": [
       "<function __main__.barPlotCriteria(commandIn)>"
      ]
     },
     "execution_count": 23,
     "metadata": {},
     "output_type": "execute_result"
    }
   ],
   "source": [
    "def barPlotCriteria(commandIn):\n",
    "    import numpy as np\n",
    "    import seaborn as sns\n",
    "    if len(commandIn)>0:\n",
    "        criteriaOutArray=np.asarray(list(map(interpretCriteria,commandIn)))\n",
    "        \n",
    "        combinedCriteriaMatrix=WMA_pyFuncs.maskMatrixByBoolVec(grouping,np.all(criteriaOutArray,axis=0))\n",
    "        #sum across columns and make an array\n",
    "        compareCriteriaArray=np.vstack((np.sum(M,axis=1),np.sum(combinedCriteriaMatrix,axis=1)))\n",
    "        #use pandas to create a dataframe for this\n",
    "        comparisonFrame=pd.DataFrame(data=compareCriteriaArray,columns=grossAnatList,index=['pre-criteria','post-criteria'])\n",
    "        meltedFrame=pd.melt(comparisonFrame.reset_index(),id_vars='index')\n",
    "\n",
    "        criteriaBarPlot=sns.barplot(data=meltedFrame,y='variable',x='value',hue='index')\n",
    "        criteriaBarPlot.set(xlabel='streamline count (log)', ylabel='category',xscale='log',title='effect of selected criteria')\n",
    "    else:\n",
    "        print('no commands entered')\n",
    "#establish interactivity\n",
    "interact(barPlotCriteria, commandIn=SelectMultiple(options=criteriaList,description='criteria',disabled=False))"
   ]
  },
  {
   "cell_type": "markdown",
   "metadata": {},
   "source": [
    "## Designing for edge cases\n",
    "\n",
    "In many cases, after the application of only a few criteria, most of the non-target streamlines will be removed **however** aberrant streamlines may still remain.  In order to remove these, the inclusion of additional, carefully targeted criteria should be applied.  These criteria should be designed in such a way that they are generalizable to all subjects and would be an accurate criteria for the target tract **whether or not** the aberrant streamlines are present in a particular case.  This is why, in some cases, it may appear that \"pointless\" criteria have been included: in previous cases and/or in other subjects, aberrant streamlines needed to be excluded.  Unfortunately this turns out to be one of the tricker (and unending) parts of designing segmentations.\n",
    "\n",
    "As was noted in the section on biological plausibility, the more biologically plausible your input tractome is, the easier time you'll have segmenting.  This is because, as the traversal patterns and general architecture of streamlines becomes less constrained, more and more edge cases with unusual or aberrant streamlines will occur.  As such, it is difficult to know when a segmentation has been \"finalized\"--it's always a possibility that you will encounter a particularly wild or unruly tractome with unexpected streamlines that need to be contended with.  A particularly devious individual will almost always be able to come up with a counter example streamline which meets your currently implemented criteria, but still doesn't correspond to your structure of interest. Generally speaking though, it's possible to develop broadly effective segmentations using a finite (typically around six or so) number of criteria.\n",
    "\n",
    "##  Moving on\n",
    "\n",
    "In the next chapter we will take a look at another example segmentation, this time of the [inferior fronto-occipital fasciculus (IFOF)](https://en.wikipedia.org/wiki/Occipitofrontal_fasciculus)"
   ]
  }
 ],
 "metadata": {
  "kernelspec": {
   "display_name": "Python 3",
   "language": "python",
   "name": "python3"
  },
  "language_info": {
   "codemirror_mode": {
    "name": "ipython",
    "version": 3
   },
   "file_extension": ".py",
   "mimetype": "text/x-python",
   "name": "python",
   "nbconvert_exporter": "python",
   "pygments_lexer": "ipython3",
   "version": "3.7.5"
  }
 },
 "nbformat": 4,
 "nbformat_minor": 2
}
