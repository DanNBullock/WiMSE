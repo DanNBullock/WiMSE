{
 "cells": [
  {
   "cell_type": "markdown",
   "metadata": {},
   "source": [
    "# Segmenting Tracts - Conceptualy\n",
    "\n",
    "\n",
    "## What do you mean by \"segmentation\"\n",
    "\n",
    "Its worth reflecting on what what we mean when we talk about \"segmentation\".  In a certian sense we're using this term way as we would \"mapping\".  Specifically, in either case are discussing a rule based process for assigning identities to the discrete elements of a composite object.  There's a slight ambiguity in this though, in that its possible we could be referring to a specific segmentation process (in the sense of a method) or we could be using it to refer to a specific resultant product (in the sense of of what the method returns or obtains).  This may seem pedantic, but there are real consequences to this distinction.  For example, if someone were to say \"This segmentation is faulty\" they could mean quite different things.  In one case they may be indicating that the ouput of a segmentation process was not consistent with what was intended or expected.  In another case they may mean that there is something systematically wrong with the process itself.  In subsequent discussions we will endeavor to make our intended meaning clear.  Beyond \"faulty\" though, there are other important conceptual characteristics we might wish to ascribe to segmentations.\n",
    "\n",
    "## A conceptual framework for segmentations\n",
    "\n",
    "As we will later see, there are many different kinds of segmentations, any of which could be preferable depending on one's goals.  In order to help navigate these options it will be useful provide a conceptual framework.\n",
    "\n",
    "### Complete and incomplete segmentation methods\n",
    "\n",
    "When we describe a segmentation process (i.e. a set of rules) as being either \"complete\" (as opposed to \"incomplete\") what we mean is that the rule process results in a _meaningful_ identity ascription for each constituitive element.  Notably, labeling an element as \"Unknown\" or \"Unlabeled\" would not constitute a meaningful designations, and so segmentation methods which result in this would be incomplete.\n",
    "\n",
    "#### Examples of complete segmentation methods\n",
    "\n",
    "What are some examples of complete segmentations?  The process used in the \"A first segmentation\" chapter was complete.  This is because each streamline was assigned a label (via the termination of its two endpoints).  Likewise, any standard masking operation would be a complete (though extremely basic) segmentation, in that the elements would either be labled as having the desired trait present or not present.  An example of this in a tractome would be selecting all streamlines longer than 50 millimeters.  Alternatively, you could select (via a method we won't go into yet) streamlines which cross some specific spatial plane in the brain.  This latter example is extremely important and ends up being one of the fundamental steps of many popular segmentations.  Note that, in such a case, no element (in this case, streamlines) fails to be assessed--either it does meet criteria for crossing the plane or it does not.  A potentially unintuitive example of a complete segmentation method would be an algorithm that clusters streamlines by their distance from one another.  This would result in labeled groupings of streamlines based on the similarity of their shape and traversal paths.  This is precisely the logic behind [dipy's RecoBundles](https://www.dipy.org/documentation/1.0.0./examples_built/bundle_extraction/).\n",
    "\n",
    "#### Examples of incomplete segmentations\n",
    "\n",
    "standard segmentations\n",
    "\n",
    "\n",
    "# Why segment a tract\n",
    "\n",
    "\n",
    "##  Track Vs Tract\n",
    "\n",
    "## White Matter tract Vs Streamline Tract\n",
    "\n",
    "## unanswered questions\n",
    "\n",
    "### How many uncharacterized / undiscovered tracts are there?\n",
    "### What characterizes white matter that *is* part of a tract and what characterizes white mattter that *isn't* part of a tract?\n",
    "### Are all parts of the white matter part of a tract?\n"
   ]
  },
  {
   "cell_type": "code",
   "execution_count": null,
   "metadata": {},
   "outputs": [],
   "source": []
  }
 ],
 "metadata": {
  "kernelspec": {
   "display_name": "Python 3",
   "language": "python",
   "name": "python3"
  },
  "language_info": {
   "codemirror_mode": {
    "name": "ipython",
    "version": 3
   },
   "file_extension": ".py",
   "mimetype": "text/x-python",
   "name": "python",
   "nbconvert_exporter": "python",
   "pygments_lexer": "ipython3",
   "version": "3.7.5"
  }
 },
 "nbformat": 4,
 "nbformat_minor": 2
}
