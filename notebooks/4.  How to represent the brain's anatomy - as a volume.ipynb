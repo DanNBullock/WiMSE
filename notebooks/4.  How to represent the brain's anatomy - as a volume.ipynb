{
 "cells": [
  {
   "cell_type": "markdown",
   "metadata": {},
   "source": [
    "Not unlike the way that the satellite images of the the previous chapters were a \"picture\" of the world, a T1 image can be thought of as a \"picture\" of a brain in a similar fashion.  The specics of how the dimagnetic properties of water molecules are legeraged, along with the use of a superconducting magnet, to obtain these images are beyond the scope of this lesson book.  For now let us keep the analogy of the jpeg image in mind as we move into a consideration of the nifti itself.\n",
    "\n",
    "Lets begin by loading it into memory and considering its data size.  Whereas previously we were working with .jpg and .png files, we will now be working with .nifti files, which are typically stored as .nii.gz, which corresponds to a compressed state."
   ]
  },
  {
   "cell_type": "code",
   "execution_count": 2,
   "metadata": {},
   "outputs": [
    {
     "name": "stdout",
     "output_type": "stream",
     "text": [
      "T1 size (in bytes)\n",
      "20971872\n"
     ]
    }
   ],
   "source": [
    "#this code ensures that we can navigate the WiMSE repo across multiple systems\n",
    "import subprocess\n",
    "import os\n",
    "#get top directory path of the current git repository, under the presumption that \n",
    "#the notebook was launched from within the repo directory\n",
    "gitRepoPath=subprocess.check_output(['git', 'rev-parse', '--show-toplevel']).decode('ascii').strip()\n",
    "\n",
    "#move to the top of the directory\n",
    "os.chdir(gitRepoPath)\n",
    "\n",
    "#set path to T1\n",
    "t1Path=os.path.join(gitRepoPath,'exampleData','t1.nii.gz')\n",
    "#obtain file information about the t1 file\n",
    "T1fileinfo = os.stat(t1Path)\n",
    "\n",
    "#print out some of the ifo\n",
    "print('T1 size (in bytes)')\n",
    "print(T1fileinfo.st_size)"
   ]
  },
  {
   "cell_type": "markdown",
   "metadata": {},
   "source": [
    "The T1 NIfTI image we just loaded is about 3.6 MB in size, which is roughly close to a high resolution digital image file.  Given what we know about digital image (every pixel has 3 to 4 *integer* values which correspond to its color characteristics), we can get a rough sense about the number data entries contained within a NIfTI, and--by extension--the general amount of \"information\" (a complex topic we won't go into here) that a NIfTI image contains about volume of space it is represents.\n",
    "\n",
    "Quite helpfully, the NIfTI data type features a \"header\" which contains a great deal of [metadata](https://en.wikipedia.org/wiki/Metadata) about the associated image data.  Think of it as being analagous to the [Exif](https://en.wikipedia.org/wiki/Exif) data of a typical digital image."
   ]
  },
  {
   "cell_type": "code",
   "execution_count": 3,
   "metadata": {},
   "outputs": [
    {
     "ename": "ImageFileError",
     "evalue": "Cannot work out file type of \"/Users/plab/Documents/ipynb/exampleData/t1.nii.gz\"",
     "output_type": "error",
     "traceback": [
      "\u001b[0;31m---------------------------------------------------------------------------\u001b[0m",
      "\u001b[0;31mImageFileError\u001b[0m                            Traceback (most recent call last)",
      "\u001b[0;32m<ipython-input-3-71871f482a70>\u001b[0m in \u001b[0;36m<module>\u001b[0;34m\u001b[0m\n\u001b[1;32m      2\u001b[0m \u001b[0;32mimport\u001b[0m \u001b[0mnibabel\u001b[0m \u001b[0;32mas\u001b[0m \u001b[0mnib\u001b[0m\u001b[0;34m\u001b[0m\u001b[0;34m\u001b[0m\u001b[0m\n\u001b[1;32m      3\u001b[0m \u001b[0;31m#import the data\u001b[0m\u001b[0;34m\u001b[0m\u001b[0;34m\u001b[0m\u001b[0;34m\u001b[0m\u001b[0m\n\u001b[0;32m----> 4\u001b[0;31m \u001b[0mimg\u001b[0m \u001b[0;34m=\u001b[0m \u001b[0mnib\u001b[0m\u001b[0;34m.\u001b[0m\u001b[0mload\u001b[0m\u001b[0;34m(\u001b[0m\u001b[0mt1Path\u001b[0m\u001b[0;34m)\u001b[0m\u001b[0;34m\u001b[0m\u001b[0;34m\u001b[0m\u001b[0m\n\u001b[0m\u001b[1;32m      5\u001b[0m \u001b[0;34m\u001b[0m\u001b[0m\n\u001b[1;32m      6\u001b[0m \u001b[0;31m#extract the header info\u001b[0m\u001b[0;34m\u001b[0m\u001b[0;34m\u001b[0m\u001b[0;34m\u001b[0m\u001b[0m\n",
      "\u001b[0;32m~/anaconda/envs/currpy/lib/python3.7/site-packages/nibabel/loadsave.py\u001b[0m in \u001b[0;36mload\u001b[0;34m(filename, **kwargs)\u001b[0m\n\u001b[1;32m     51\u001b[0m \u001b[0;34m\u001b[0m\u001b[0m\n\u001b[1;32m     52\u001b[0m     raise ImageFileError('Cannot work out file type of \"%s\"' %\n\u001b[0;32m---> 53\u001b[0;31m                          filename)\n\u001b[0m\u001b[1;32m     54\u001b[0m \u001b[0;34m\u001b[0m\u001b[0m\n\u001b[1;32m     55\u001b[0m \u001b[0;34m\u001b[0m\u001b[0m\n",
      "\u001b[0;31mImageFileError\u001b[0m: Cannot work out file type of \"/Users/plab/Documents/ipynb/exampleData/t1.nii.gz\""
     ]
    }
   ],
   "source": [
    "#begin process of loading file as a T1 nifti using nibabel\n",
    "import nibabel as nib\n",
    "#import the data\n",
    "img = nib.load(t1Path)\n",
    "\n",
    "#extract the header info\n",
    "T1header = img.header\n",
    "#print the output\n",
    "print(T1header)  "
   ]
  },
  {
   "cell_type": "markdown",
   "metadata": {},
   "source": [
    "That's a lot of information!\n",
    "\n",
    "For now, we'll only briefly consider a few of these features, but we'll to each of these as we necessary as we proceed through the next set of lessons.\n",
    "\n",
    "[**dim**](https://nifti.nimh.nih.gov/nifti-1/documentation/nifti1fields/nifti1fields_pages/dim.html/document_view):  This field displays the dimensions of the NIfTI image data object.  The first number (3, in this case) indicates the total number of dimensions occupied by the data.  The next several values (as many as indicated by the first number in this vector) correspond to the span of each of those dimensions.  Thus, in this case the first dimension spans 145 entries, the second spans 174 entires, and the third spans 145 entries.  \n",
    "\n",
    "[**datatype**](https://nifti.nimh.nih.gov/nifti-1/documentation/nifti1fields/nifti1fields_pages/datatype.html):  This field corresponds to the [*type* of numerical data](https://en.wikipedia.org/wiki/Computer_number_format)  contained within each of the nifti image data object's entries.  Here we see that it is \"float32\".  This gives us two primary peices of information: (1) we now know that the numerical entries are *not* integers or whole numbers (and thus they can adopt values *between* 1,2,3, etc.)  and (2) we now know that each of these entries [takes up about 4 bytes](https://en.wikipedia.org/wiki/Single-precision_floating-point_format).  \n",
    "\n",
    "[**pixdim**](https://nifti.nimh.nih.gov/nifti-1/documentation/nifti1fields/nifti1fields_pages/pixdim.html/document_view):  Ignoring the initial (-1) and last four values in this field (1. 0. 0. 0.), we see the numbers 1.25 1.25 1.25.   These indicate the size of the real world entities that correspond to the nifti image data object's entries.  In the case of the map from the previous chapter, this would have corresponded roughly to hundreds of square miles (though the exact quantity would be complex issue given that the pixels dont correspond the same surface area size).  In this case, we see that each of these values is 1.25 millimeters, which means that the data in any entry of the NIfTI represents a 1.25 by 1.25 by 1.25 = 1.953125 cubic millimeter volume of space.  The fifth value (1) isn't particularly relevant to this particular nifti, as our nifti data object is only 3 dimensional.  If we were examining fMRI data, this value would indicate the timestep used for the data. \n",
    "\n",
    "Also, its important to note that all three of the spatial dimension measures examined above are the same.  This need not be the case, and it could be that our voxels are actually representing units of space whose sides are not all equal.  In this case though, we can say that the voxels are \"isometric\", meaning that all faces are the same size.\n",
    "\n",
    "\n",
    "[**qform_code**](https://nifti.nimh.nih.gov/nifti-1/documentation/nifti1fields/nifti1fields_pages/qsform.html):  This field specifies the orientation schema that will be detailed in subsequent fields.  In the previous lesson we considered the intersection of the [prime maridian](https://en.wikipedia.org/wiki/IERS_Reference_Meridian) and [equator](https://en.wikipedia.org/wiki/Equator) as the \"origin\" of the major orientation schema we used, and endeavored to overlay these locations when we aligned global satellite images.  But imagine that we instead used some other coordinate system to establish a different origin point.  Alternatively, what if we stopped using degrees as our unit of measure or that we flipped our labeling convention for east and west? In any of these cases, we would need to find a way to indicate what our refrence frame was.  This need for specification of orientation system is reflected in the **qform_code** of the NIfTI header.  Here, we have some indicator (\"mni\" or \"talarach\", for example) that establish a common refrence frame for orienting the image data.  \"mni\" and \"talarach\" respectively correspond to the standard Montreal Neurological Institute [citation] and Talairach [citation] atlases.  These and other neuroimaging reference frames are well described [elsewhere](http://www.fieldtriptoolbox.org/faq/how_are_the_different_head_and_mri_coordinate_systems_defined/).\n",
    "\n",
    "[**qoffset_x, qoffset_y , qoffset_z**](https://nifti.nimh.nih.gov/nifti-1/documentation/nifti1fields/nifti1fields_pages/qsform.html) (see \"METHOD 2\"):  These numbers are the transforms necessary to align this image to the reference specified in \"qform_code\".  Referring back to our previous lessons, you can think of these numbers as the shift needed to align the political map with the geographic map. Now though, we have three dimensions (as opposed to two) and need to align each of them.  Typically our goals when aligning MRI images  are threefold:  (1) that the images share matching scales, (2) that the images exhibit the same orientation (e.g. top -> top, left -> left, etc.), and (3) that the images points share the same \"origin\".         \n",
    "\n",
    "We have now looked at some important features of the [NIfTI header](https://nifti.nimh.nih.gov/pub/dist/src/niftilib/nifti1.h).  However, we haven't yet taken a look the actual data component of a NIfTI, as we did with digital images in previous lessons.  Lets move forward at take a look at this now."
   ]
  },
  {
   "cell_type": "code",
   "execution_count": 10,
   "metadata": {
    "scrolled": true
   },
   "outputs": [
    {
     "name": "stdout",
     "output_type": "stream",
     "text": [
      "Data dimensions\n",
      "(How many data entries are spanned across each dimension)\n",
      "(145, 174, 145)\n"
     ]
    }
   ],
   "source": [
    "print('Data dimensions')\n",
    "print('(How many data entries are spanned across each dimension)')\n",
    "#extract data dimensions and store in DataDimensions variable\n",
    "dataDimensions=img.shape\n",
    "print(dataDimensions)"
   ]
  },
  {
   "cell_type": "markdown",
   "metadata": {},
   "source": [
    "Here we are no longer indexing into the header, but we nontheless see that the size of the image data is (145,174,145), which is consistent with the information we obtained from the \"dim\" field of the header.  In theory, the metadata contained should always be consistent with the actual data, but it is possible for these to become inconsistent due to improper file generation or manipulation.\n",
    "\n",
    "It's also worth noting that the [nibabel](https://nipy.org/nibabel/) offers a number of methods for extracting *specific* information from the header.  For example, we can extract the information specific to the spatial dimensions of the image we are looking at.  This capability can be helpful when performing series of computations or developing your own sets of functions."
   ]
  },
  {
   "cell_type": "code",
   "execution_count": 11,
   "metadata": {},
   "outputs": [
    {
     "name": "stdout",
     "output_type": "stream",
     "text": [
      "Voxel dimensions for T1 (in mm)\n",
      "(1.25, 1.25, 1.25)\n"
     ]
    }
   ],
   "source": [
    "print('Voxel dimensions for T1 (in mm)')\n",
    "#extract dimensions and store in voxelDims variable\n",
    "voxelDims=img.header.get_zooms()\n",
    "print(voxelDims)"
   ]
  },
  {
   "cell_type": "markdown",
   "metadata": {},
   "source": [
    "Here, we obtain a result that matches what we saw by looking at the entire header.  Now though we have stored this specific information in a variable.  Now, by taking the size of an individual voxel and the dimensions of the entire data block we can compute the amount of space that this nifti represents. "
   ]
  },
  {
   "cell_type": "code",
   "execution_count": 12,
   "metadata": {},
   "outputs": [
    {
     "name": "stdout",
     "output_type": "stream",
     "text": [
      "How much total space does this representation correspond to?\n",
      "\n",
      "181.25 mm by 217.5 mm by 181.25 mm\n"
     ]
    }
   ],
   "source": [
    "print('How much total space does this representation correspond to?')\n",
    "print('')\n",
    "print(f'{dataDimensions[0]*voxelDims[0]} mm by {dataDimensions[1]*voxelDims[1]} mm by {dataDimensions[2]*voxelDims[2]} mm' )"
   ]
  },
  {
   "cell_type": "markdown",
   "metadata": {},
   "source": [
    "For those more comfortable with imperial measurements, this corresponds to a volume of space that is slightly more than half a foot wide (~.6 feet), almost three quarters of a foot tall (~.71 feet), and slightly more than half a foot deep (~.6 feet).  This information gives us a sense of the gross scale of the data contained within a NIfTI.  But what about the data contained within a specific entry?  Whats in a voxel?\n",
    "\n",
    "Lets actually index into a specific voxel and see what information is stored there.  From the header, we know that it will be a float value, but we dont, as of yet, have a ballpark sense of what this value will be.  We'll just arbitrarily pick a value."
   ]
  },
  {
   "cell_type": "code",
   "execution_count": 13,
   "metadata": {},
   "outputs": [
    {
     "data": {
      "text/plain": [
       "851.6476440429688"
      ]
     },
     "execution_count": 13,
     "metadata": {},
     "output_type": "execute_result"
    }
   ],
   "source": [
    "#extract the actual data into the variable data\n",
    "data = img.get_fdata()\n",
    "#arbitrarily index into the item the 96 X, 86 Y, 57 Z location and read it out\n",
    "data[96,86,57]"
   ]
  },
  {
   "cell_type": "markdown",
   "metadata": {},
   "source": [
    "851.6476440429688.  We don't really know what this number means, whether it is a lot or a little, or if it is un usual, but it at least gives us some sense of the kind of numbers this NIfTI object contains.  What about all of the others though?  How can we get a comprehensive and informative sense of those?  Lets take a hint from our digital image lessons and explore this NIfTI data by plotting a histogram of the data values for each voxel.  In a certian sense, we're lucky (relative to the digital image case) because we can plot a sensible histogram for this information, as there aren't 3 distinct color channels to worry about (which would make it difficult to interpret a histogram or set of histograms).  Additionally, we can get a sense of what how many total voxels there are, how many are \"non-zero\" (in that they contain a measure distinct from zero), and what proportion of the total number of voxels this corresponds to. Lets do that now."
   ]
  },
  {
   "cell_type": "code",
   "execution_count": 14,
   "metadata": {
    "scrolled": false
   },
   "outputs": [
    {
     "name": "stdout",
     "output_type": "stream",
     "text": [
      "Total number of voxels\n",
      "3658350\n",
      "\n",
      "Minimum voxel value\n",
      "-31.94868278503418\n",
      "\n",
      "Maximum voxel value\n",
      "1591.8572998046875\n",
      "\n",
      "Number of voxel values less than or equal to zero\n",
      "2685933\n",
      "\n",
      "Number of voxel values greater than zero\n",
      "972417\n",
      "\n",
      "Proportion of entries greater than zero (i.e. containing data)\n",
      "0.2658075361843454\n",
      "\n"
     ]
    },
    {
     "data": {
      "text/plain": [
       "Text(0.5, 1.0, 'Distributon of voxel values greater than zero')"
      ]
     },
     "execution_count": 14,
     "metadata": {},
     "output_type": "execute_result"
    },
    {
     "data": {
      "image/png": "[encoded data removed]",
      "text/plain": [
       "<Figure size 1332x756 with 2 Axes>"
      ]
     },
     "metadata": {
      "needs_background": "light"
     },
     "output_type": "display_data"
    }
   ],
   "source": [
    "import matplotlib.pyplot as plt\n",
    "import numpy as np\n",
    "#necessary for plotting\n",
    "%matplotlib inline\n",
    "#transform data array for use\n",
    "unwrappedData=np.ndarray.flatten(data)\n",
    "\n",
    "print('Total number of voxels')\n",
    "#compute total number of voxels via straightforward multiplication\n",
    "voxTotal=dataDimensions[0]*dataDimensions[1]*dataDimensions[2]\n",
    "print(voxTotal)\n",
    "print('')\n",
    "\n",
    "print('Minimum voxel value')\n",
    "print(np.min(unwrappedData))\n",
    "print('')\n",
    "\n",
    "print('Maximum voxel value')\n",
    "print(np.max(unwrappedData))\n",
    "print('')\n",
    "\n",
    "#set value at which to split the data\n",
    "#Operating under the assumption that negative values are not viable\n",
    "splitPoint=0\n",
    "\n",
    "#define two functions for obtaining boolean vectors for numerical comparison\n",
    "def smallVal(n): \n",
    "    return n<=splitPoint\n",
    "def largeVal(n):\n",
    "    return n>splitPoint\n",
    "\n",
    "#apply the function to the unwrapped data\n",
    "result=map(smallVal,unwrappedData)\n",
    "#convert the output to a usable format \n",
    "smallBool=list(result)\n",
    "\n",
    "#apply the function to the unwrapped data\n",
    "result=map(largeVal,unwrappedData)\n",
    "#convert the output to a usable format \n",
    "largeBool=list(result)\n",
    "\n",
    "print('Number of voxel values less than or equal to zero')\n",
    "print(sum(smallBool))\n",
    "print('')\n",
    "\n",
    "print('Number of voxel values greater than zero')\n",
    "print(sum(largeBool))\n",
    "print('')\n",
    "\n",
    "print('Proportion of entries greater than zero (i.e. containing data)')\n",
    "print(sum(largeBool)/voxTotal)\n",
    "print('')\n",
    "\n",
    "#perform plotting of zero/negative values\n",
    "plt.subplot(1, 2, 1)\n",
    "plt.hist(unwrappedData[smallBool], bins=40)\n",
    "plt.xlabel('Voxel Data')\n",
    "plt.ylabel('Number of Voxels')\n",
    "plt.title('Distributon of voxel less than or equal to zero')\n",
    "fig = plt.gcf()\n",
    "fig.set_size_inches(18.5, 10.5)\n",
    "\n",
    "#perform plotting of positive values\n",
    "plt.subplot(1, 2, 2)\n",
    "plt.hist(unwrappedData[largeBool], bins=1000)\n",
    "plt.xlabel('Voxel Data')\n",
    "plt.ylabel('Number of Voxels')\n",
    "plt.title('Distributon of voxel values greater than zero')"
   ]
  },
  {
   "cell_type": "markdown",
   "metadata": {},
   "source": [
    "It seems that about a quarter of the voxels contain data that we would consider to be reprsentatve of the brain, with the assumption that \"empty\" voxels correspond to background and/or uninformative voxels.  Depending on whether or not this T1 has had the brain \"extracted\" (i.e. the brain isolated from the rest of the head, neck, and body, via a masking process), this proporation may also include non-brain tissues.  Indeed, given that we took a look at this very same T1 image in the previous lesson, we know that this is the case an that the brian has been isolated from non brain tissues.  Furthermore, note how we had to split the histogram in two.  Had we not done this, the number of empty voxels would have overwhelmed the visualization and we wouldn't have been able to observe the distribution visible in the plot on the right due to the extreme number of values right below 0.\n",
    "\n",
    "Now that we have a sense of the numerical variability of the data in this nifti, lets get a sense of how these values are laid out spatially.  Keep in mind that, just like a digital image wherein the i,j entry of the data array represents a portion of space that spatially adjacent to the i,j-1 (or i,j+1, or i+1,j etc.), the i,j,k entry of a NIfTI is spatially adjacent to the i,j,k+1 entry.  We can get a better sense of this by interacting with the NIfTI using a [niwidget](https://nipy.org/niwidgets/)."
   ]
  },
  {
   "cell_type": "code",
   "execution_count": 15,
   "metadata": {
    "scrolled": false
   },
   "outputs": [
    {
     "data": {
      "text/plain": [
       "<Figure size 432x288 with 0 Axes>"
      ]
     },
     "metadata": {},
     "output_type": "display_data"
    },
    {
     "data": {
      "application/vnd.jupyter.widget-view+json": {
       "model_id": "b73f85e1079b4cd1b05a9821d58e024c",
       "version_major": 2,
       "version_minor": 0
      },
      "text/plain": [
       "interactive(children=(IntSlider(value=72, continuous_update=False, description='x', max=144), IntSlider(value=…"
      ]
     },
     "metadata": {},
     "output_type": "display_data"
    }
   ],
   "source": [
    "from niwidgets import NiftiWidget\n",
    "\n",
    "t1Widget = NiftiWidget(t1Path)\n",
    "\n",
    "t1Widget.nifti_plotter(colormap='gray')"
   ]
  },
  {
   "cell_type": "markdown",
   "metadata": {},
   "source": [
    "Take a moment to shift through the NIfTI image plotted above.  If you want a more standard visualization, feel free to switch the colormap to gray.  **As a challenge, try and shift the x, y, and z sliders to cross at the posterior commisure, and take note of the coordinates of this point**.  Take note that the left, posterior, inferior corner is the 0 coordinate.  The coordinate shift that results in the posterior commisure being at (0,0,0) occurs after the previously qoffset information has been applied.  After this transform has been applied, locations in the left hemisphere are characterized by coorinates that have a negative first value (x coordinate).\n",
    "\n",
    "As an alternative to trying to find the posterior commisure manually, we can also use the information in the header (assuming its accurate) to compute its location in this image data."
   ]
  },
  {
   "cell_type": "code",
   "execution_count": 16,
   "metadata": {},
   "outputs": [
    {
     "name": "stdout",
     "output_type": "stream",
     "text": [
      "T1 voxel resolution (in mm)\n",
      "(1.25, 1.25, 1.25)\n",
      "\n",
      "T1 voxel affine\n",
      "[[  -1.25    0.      0.     90.  ]\n",
      " [   0.      1.25    0.   -126.  ]\n",
      " [   0.      0.      1.25  -72.  ]\n",
      " [   0.      0.      0.      1.  ]]\n",
      "\n",
      "Coordinates of posterior commisure\n",
      "[ 72.  100.8  57.6]\n",
      "\n"
     ]
    }
   ],
   "source": [
    "print('T1 voxel resolution (in mm)')\n",
    "print(img.header.get_zooms())\n",
    "print('')\n",
    "\n",
    "print('T1 voxel affine')\n",
    "imgAff=img.affine\n",
    "print(img.affine)\n",
    "print('')\n",
    "\n",
    "print('Coordinates of posterior commisure')\n",
    "#force absolute value in order to perform the math correctly\n",
    "imgSpatialTrans=np.abs([imgAff[0,3]/imgAff[0,0],imgAff[1,3]/imgAff[1,1],imgAff[2,3]/imgAff[2,2]])\n",
    "print(imgSpatialTrans)\n",
    "print('')"
   ]
  },
  {
   "cell_type": "markdown",
   "metadata": {},
   "source": [
    "If you move the slider coordinates to the value specified under \"Coordinates of posterior commisure\", your crosshair should directly target the posterior commisure.  Note though, that the coordinates specified are actually real numbers, rather than interger values.  This is interesting because the indexes of the sliders correspond to data structure indexes of the currently visualized \"slices\"--which can't actually take on non-integer values.  We can't actually navigate to the 100.8 Y or 57.6 Z slices.  This illustrates how the header information, by selecting an *exact* coordinate to represent the posterior commisure, can specify a location with precision that exceeds the actual information contained within the data.  Lets consider in a bit more detail the actual transform we had to apply to make this calculation.\n",
    "\n",
    "Admittedly, the notion of a shift or transform gets a bit more complicated in three dimensions, where it is possible to have your data rotated or flipped along multiple dimensions.  With a standard 2d image this would have been quite obvious upon inspection--you would notice if the world had been rotated 90% or flipped such that Russia was west of the US's \"east\" coast!  Although some of these changes are obvious in a NIfTI image (for example a 90 degree rotation), some are less obvious.  For example, as it turns out, **this brain data is flipped in its x axis!**. Because of this the right hemisphere data is stored in indexes smaller than the X coordinate of the posterior commissure (72) while the left hemisphere data is stored in indexes that are larger than the X coordinate of the posterior commissure.  This is contrary to standard orientation schemas.  Lets take a look at how we could come to know this by taking a look at the [affine transform matrix].(https://en.wikipedia.org/wiki/Affine_transformation) again."
   ]
  },
  {
   "cell_type": "code",
   "execution_count": 17,
   "metadata": {},
   "outputs": [
    {
     "name": "stdout",
     "output_type": "stream",
     "text": [
      "T1 voxel affine\n",
      "[[  -1.25    0.      0.     90.  ]\n",
      " [   0.      1.25    0.   -126.  ]\n",
      " [   0.      0.      1.25  -72.  ]\n",
      " [   0.      0.      0.      1.  ]]\n",
      "\n"
     ]
    }
   ],
   "source": [
    "print('T1 voxel affine')\n",
    "imgAff=img.affine\n",
    "print(img.affine)\n",
    "print('')"
   ]
  },
  {
   "cell_type": "markdown",
   "metadata": {},
   "source": [
    "You'll notice that the upper left hand value (-1.25), which specifies the voxel resolution of the Y dimension, is negative.  This is as opposed to the values found for the Y and Z dimension resolutions, which are postitive.  Considered in conjunction with the information in the first three rows for the rightmost column (the **qoffset_** information from the header), this indicates that a flip in the X dimension is present.  This is why the *np.abs* function was used earlier when computing the posterior commisure location (NOTE: this strategy will not work for all affine flip cases, but did work in this case).  For more detailed examinations and considerations of affine transforms for neuroimaging data [links]\n",
    "\n",
    "Now that we have developed a good sense of the information stored in a T1 NIfTI image, lets follow in the footsteps of our lessons looking at two dimensional digital images, and see how a **parcellation** can be implemented using three dimensional NIfTI data."
   ]
  }
 ],
 "metadata": {
  "anaconda-cloud": {},
  "kernelspec": {
   "display_name": "Python 3",
   "language": "python",
   "name": "python3"
  },
  "language_info": {
   "codemirror_mode": {
    "name": "ipython",
    "version": 3
   },
   "file_extension": ".py",
   "mimetype": "text/x-python",
   "name": "python",
   "nbconvert_exporter": "python",
   "pygments_lexer": "ipython3",
   "version": "3.7.5"
  }
 },
 "nbformat": 4,
 "nbformat_minor": 1
}
