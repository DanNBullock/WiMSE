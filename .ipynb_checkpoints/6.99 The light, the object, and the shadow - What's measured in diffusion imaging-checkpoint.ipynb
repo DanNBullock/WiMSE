{
 "cells": [
  {
   "cell_type": "markdown",
   "metadata": {},
   "source": [
    "**Extending the logic of a data structure** \n",
    "\n",
    "_Stretching a data object across another dimension_\n",
    "\n",
    "Previously, when we discussed the data structure of a T1 we noted that it was a 3 dimensional data structure representing a 3 dimensional object.  Likewise we noted that jpeg imgaes were a 2 (ish, in the case of color) dimensional data represenetation.  In a manner of speaking, the 3-dimensional data structure is just an extension of the same data representation practice as the 2D image.  In short, we can extend the general framework of our data structure to create a new and augmented data structure which captures a more complex aspect of the object/phenomena being measuered.  In the case of 2D images we can extend them across the temporal dimension to create a movie (think of this as a stack of 2 dimenional data objects stacked along a third dimension).  In doing so we are able to see the scene (or more technically, light reflected by the objects in the scene) chagne with time.  In the case of MRI data, we could also extend this data object across the temporal dimension to obtain something like a 3 dimensional movie, which is, to some extent, the idea behind fMRI.  There's a pretty important caviot to this, similar to the previous sentence's caviot indicating that it's _actualy_ the scene's reflectance properties that we're seeing, but we'll come back to that later.  For now though, its enough to know that we can extend those data types we are familiar with (i.e. images/JPEGs and MRI Volumes/NIFTIs.  But this isn't the only manner in which we can extend them.\n",
    "\n",
    "**Rather than taking a sequence of images across time, what if we simply rotated the object in place?**\n",
    "\n",
    "Lets consider this possibility in the case of 2D images and, for the sake of consistency with our previous examples, lets use the world as an example.  In this (imagined) case, we'll pretend that we've placed a sattilite in orbit around the equator _but_ it's \"stationary\" such that Earth appears to be rotating at such a speed that it completes a full rotation every 24 hours.  In a sense, this is basically the same effect as rotating a stationary object in front of a camera.  As the world rotates, we take an image every so often until one full rotation has been made.  In this way, we have compiled a sequence of images that depict the same object from a number of angles and, in doing so, we are able to make some decent inferences about the structure of the 3D object from the compilation of 2D images.\n",
    "\n",
    "Lets go ahead and explore this notion by looking at the images from a gif depicting a rotating earth.  Run the next block of code, which contains some code needed to explore a gif, and then use the interactive slider in the subsequent block to rotate around the Earth and get a sense of how a sequence of 2D images can give you information about the structure of a 3D object."
   ]
  },
  {
   "cell_type": "code",
   "execution_count": 7,
   "metadata": {},
   "outputs": [],
   "source": [
    "# this section of code is necessary in order to extract specific frames from a gif sequence\n",
    "# go ahead and run it and move to the next section\n",
    "\n",
    "import os\n",
    "from PIL import Image\n",
    "# from https://gist.github.com/almost/d2832d0998ad9dfec2cacef934e7d247\n",
    "# Based on https://gist.github.com/BigglesZX/4016539 (but adapted to be a\n",
    "# generator that yields frames instead of a function that saves out frames)\n",
    "\n",
    "'''\n",
    "I searched high and low for solutions to the \"extract animated GIF frames in Python\"\n",
    "problem, and after much trial and error came up with the following solution based\n",
    "on several partial examples around the web (mostly Stack Overflow).\n",
    "There are two pitfalls that aren't often mentioned when dealing with animated GIFs -\n",
    "firstly that some files feature per-frame local palettes while some have one global\n",
    "palette for all frames, and secondly that some GIFs replace the entire image with\n",
    "each new frame ('full' mode in the code below), and some only update a specific\n",
    "region ('partial').\n",
    "This code deals with both those cases by examining the palette and redraw\n",
    "instructions of each frame. In the latter case this requires a preliminary (usually\n",
    "partial) iteration of the frames before processing, since the redraw mode needs to\n",
    "be consistently applied across all frames. I found a couple of examples of\n",
    "partial-mode GIFs containing the occasional full-frame redraw, which would result\n",
    "in bad renders of those frames if the mode assessment was only done on a\n",
    "single-frame basis.\n",
    "Nov 2012\n",
    "'''\n",
    "\n",
    "\n",
    "def analyseImage(im):\n",
    "    '''\n",
    "    Pre-process pass over the image to determine the mode (full or additive).\n",
    "    Necessary as assessing single frames isn't reliable. Need to know the mode\n",
    "    before processing all frames.\n",
    "    '''\n",
    "    results = {\n",
    "        'size': im.size,\n",
    "        'mode': 'full',\n",
    "    }\n",
    "    try:\n",
    "        while True:\n",
    "            if im.tile:\n",
    "                tile = im.tile[0]\n",
    "                update_region = tile[1]\n",
    "                update_region_dimensions = update_region[2:]\n",
    "                if update_region_dimensions != im.size:\n",
    "                    results['mode'] = 'partial'\n",
    "                    break\n",
    "            im.seek(im.tell() + 1)\n",
    "    except EOFError:\n",
    "        pass\n",
    "    im.seek(0)\n",
    "    return results\n",
    "\n",
    "\n",
    "def getFrames(im):\n",
    "    '''\n",
    "    Iterate the GIF, extracting each frame.\n",
    "    '''\n",
    "    mode = analyseImage(im)['mode']\n",
    "\n",
    "    p = im.getpalette()\n",
    "    last_frame = im.convert('RGBA')\n",
    "\n",
    "    try:\n",
    "        while True:\n",
    "            '''\n",
    "            If the GIF uses local colour tables, each frame will have its own palette.\n",
    "            If not, we need to apply the global palette to the new frame.\n",
    "            '''\n",
    "            if not im.getpalette():\n",
    "                im.putpalette(p)\n",
    "\n",
    "            new_frame = Image.new('RGBA', im.size)\n",
    "\n",
    "            '''\n",
    "            Is this file a \"partial\"-mode GIF where frames update a region of a different size to the entire image?\n",
    "            If so, we need to construct the new frame by pasting it on top of the preceding frames.\n",
    "            '''\n",
    "            if mode == 'partial':\n",
    "                new_frame.paste(last_frame)\n",
    "\n",
    "            new_frame.paste(im, (0,0), im.convert('RGBA'))\n",
    "            yield new_frame\n",
    "\n",
    "            last_frame = new_frame\n",
    "            im.seek(im.tell() + 1)\n",
    "    except EOFError:\n",
    "        pass\n",
    "\n",
    "\n",
    "def processImage(path):\n",
    "    im = Image.open(path)\n",
    "    for (i, frame) in enumerate(getFrames(im)):\n",
    "        print(\"saving %s frame %d, %s %s\" % (path, i, im.size, im.tile))\n",
    "        frame.save('%s-%d.png' % (''.join(os.path.basename(path).split('.')[:-1]), i), 'PNG')"
   ]
  },
  {
   "cell_type": "code",
   "execution_count": 21,
   "metadata": {},
   "outputs": [
    {
     "name": "stdout",
     "output_type": "stream",
     "text": [
      "240.66666666666666\n"
     ]
    },
    {
     "data": {
      "application/vnd.jupyter.widget-view+json": {
       "model_id": "01963c73498c4f7ab2d18e733de9b4dc",
       "version_major": 2,
       "version_minor": 0
      },
      "text/plain": [
       "interactive(children=(IntSlider(value=1, continuous_update=False, description='frameSelect', max=722, min=1), …"
      ]
     },
     "metadata": {},
     "output_type": "display_data"
    },
    {
     "data": {
      "text/plain": [
       "<function __main__.update(frameSelect)>"
      ]
     },
     "execution_count": 21,
     "metadata": {},
     "output_type": "execute_result"
    }
   ],
   "source": [
    "from PIL import Image\n",
    "from PIL import GifImagePlugin\n",
    "from ipywidgets import interact, interactive, fixed, interact_manual\n",
    "from ipywidgets import IntSlider\n",
    "import itertools\n",
    "import matplotlib\n",
    "from matplotlib.pyplot import imshow\n",
    "\n",
    "\n",
    "worldGif = Image.open('/Users/plab/Documents/ipynb/images/Blue_Marble_rotating.gif')\n",
    "\n",
    "gifFrameNum=worldGif.n_frames\n",
    "\n",
    "print(gifFrameNum/3)\n",
    "\n",
    "framesGenerator=getFrames(worldGif)\n",
    "\n",
    "def update(frameSelect):\n",
    "    caughtFrame=next(itertools.islice(framesGenerator, frameSelect, None))\n",
    "    %matplotlib inline\n",
    "    imshow(caughtFrame)\n",
    "\n",
    "\n",
    "frameSelect=IntSlider(min=1, max=gifFrameNum, step=1,continuous_update=False)    \n",
    "\n",
    "interact(update, frameSelect=frameSelect)\n"
   ]
  },
  {
   "cell_type": "markdown",
   "metadata": {},
   "source": []
  },
  {
   "cell_type": "code",
   "execution_count": null,
   "metadata": {},
   "outputs": [],
   "source": []
  }
 ],
 "metadata": {
  "kernelspec": {
   "display_name": "Python 3",
   "language": "python",
   "name": "python3"
  },
  "language_info": {
   "codemirror_mode": {
    "name": "ipython",
    "version": 3
   },
   "file_extension": ".py",
   "mimetype": "text/x-python",
   "name": "python",
   "nbconvert_exporter": "python",
   "pygments_lexer": "ipython3",
   "version": "3.7.5"
  }
 },
 "nbformat": 4,
 "nbformat_minor": 2
}
