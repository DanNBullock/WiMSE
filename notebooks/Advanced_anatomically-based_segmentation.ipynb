{
 "cells": [
  {
   "cell_type": "markdown",
   "metadata": {},
   "source": [
    "# Advanced anatomically-based segmentation\n",
    "\n",
    "Now that we have established how to use ROIs and anatomical information _independently_ of one another, its time to legerage these capabilities in conjunction with one another.  To begin, we'll start by reflecting on our ability to extract labeled volumes of a parcellation as an ROI.\n",
    "\n",
    "## The first step: extracting a given ROI\n",
    "\n",
    "Below, we'll demonstrate essentially the same widget and capability as we observed in the \"ROIs_as_tools\" chapter.  This will allow you to familiarize yourself with the various anatomical labels featured in the DK2009 atlas and their locations in the example brain."
   ]
  },
  {
   "cell_type": "code",
   "execution_count": 7,
   "metadata": {},
   "outputs": [
    {
     "data": {
      "application/vnd.jupyter.widget-view+json": {
       "model_id": "5fe47cc073434ab7aa4bc7ff6a9b97f9",
       "version_major": 2,
       "version_minor": 0
      },
      "text/plain": [
       "interactive(children=(Dropdown(description='anatomicalLabel', index=1, options=(('Unknown', 0), ('Left-Cerebra…"
      ]
     },
     "metadata": {},
     "output_type": "display_data"
    },
    {
     "data": {
      "text/plain": [
       "<function __main__.rotateAndPlotWrapper(roiNum, xCoord, yCoord, zCoord)>"
      ]
     },
     "execution_count": 7,
     "metadata": {},
     "output_type": "execute_result"
    }
   ],
   "source": [
    "#this code ensures that we can navigate the WiMSE repo across multiple systems\n",
    "import subprocess\n",
    "import os\n",
    "#get top directory path of the current git repository, under the presumption that \n",
    "#the notebook was launched from within the repo directory\n",
    "gitRepoPath=subprocess.check_output(['git', 'rev-parse', '--show-toplevel']).decode('ascii').strip()\n",
    "\n",
    "#establish path to the \n",
    "wma_toolsDirPath=os.path.join(gitRepoPath,'wma_pyTools')   \n",
    "\n",
    "#change to the wma_tools path, load the function set, then change back to the top directory\n",
    "os.chdir(wma_toolsDirPath)\n",
    "import WMA_pyFuncs\n",
    "os.chdir(gitRepoPath)\n",
    "\n",
    "import nibabel as nib\n",
    "import numpy as np\n",
    "\n",
    "#establish path to t1\n",
    "atlasPath=os.path.join(gitRepoPath,'exampleData','parc.nii.gz')\n",
    "#load it as an object\n",
    "atlasImg = nib.load(atlasPath)\n",
    "atlasData = atlasImg.get_fdata()\n",
    "#set the print option so it isn't printing in scientific notation\n",
    "np.set_printoptions(suppress=True)\n",
    "#condense to unique values\n",
    "uniqueAtlasEntries=np.unique(atlasData).astype(int)\n",
    "\n",
    "import pandas as pd\n",
    "FSTablePath=os.path.join(gitRepoPath,'exampleData','FreesurferLookup.csv')\n",
    "#read table using pandas\n",
    "FSTable=pd.read_csv(FSTablePath)\n",
    "#create a boolean vector for the indexes which are in uniqueAtlasEntries\n",
    "currentIndexesBool=FSTable['#No.'].isin(uniqueAtlasEntries)\n",
    "#create new data frame with the relevant entries\n",
    "currentParcellationEntries=FSTable.loc[currentIndexesBool]\n",
    "\n",
    "dropDownList=list(zip(currentParcellationEntries['LabelName:'].to_list(), currentParcellationEntries['#No.'].to_list()))\n",
    "\n",
    "#establish path to t1\n",
    "t1Path=os.path.join(gitRepoPath,'exampleData','t1.nii.gz')   \n",
    "\n",
    "#import the data\n",
    "t1img = nib.load(t1Path)\n",
    "#done to establish bounds of image in acpc space\n",
    "fullMask = nib.nifti1.Nifti1Image(np.ones(t1img.get_fdata().shape), t1img.affine, t1img.header)\n",
    "#pass full mask to boundary function\n",
    "t1DimBounds=WMA_pyFuncs.returnMaskBoundingBoxVoxelIndexes(fullMask)\n",
    "#convert the coords to subject space in order set max min values for interactive visualization\n",
    "convertedBoundCoords=nib.affines.apply_affine(t1img.affine,t1DimBounds)\n",
    "\n",
    "#load up the tractogram ahead of time\n",
    "smallTractogramPath=os.path.join(gitRepoPath,'exampleData','smallTractogram.tck')\n",
    "streamsObjIN=nib.streamlines.load(smallTractogramPath)\n",
    "\n",
    "#get tractogram from the Tck holder\n",
    "sourceTractogram=streamsObjIN.tractogram\n",
    "\n",
    "def rotateAndPlotWrapper(roiNum,xCoord,yCoord,zCoord):\n",
    "    from nilearn import plotting\n",
    "    import nibabel as nib\n",
    "    import numpy as np\n",
    "    \n",
    "    anatomicalROI=WMA_pyFuncs.multiROIrequestToMask(atlasImg,roiNum)\n",
    "    \n",
    "    %matplotlib inline\n",
    "    plotting.plot_roi(roi_img=WMA_pyFuncs.alignROItoReference(anatomicalROI,t1img), bg_img=t1img, cut_coords=[xCoord,yCoord,zCoord])\n",
    "    \n",
    "from ipywidgets import Dropdown\n",
    "from ipywidgets import interact, interactive, fixed, interact_manual\n",
    "from ipywidgets import IntSlider\n",
    "\n",
    "interact(rotateAndPlotWrapper, \\\n",
    "    roiNum=Dropdown(options=dropDownList, value=2, description=\"anatomicalLabel\"), \\\n",
    "    xCoord=IntSlider(min=np.min(convertedBoundCoords[:,0].astype(int)), max=np.max(convertedBoundCoords[:,0].astype(int)), step=1,continuous_update=False),  \\\n",
    "    yCoord=IntSlider(min=np.min(convertedBoundCoords[:,1].astype(int)), max=np.max(convertedBoundCoords[:,1].astype(int)), step=1,continuous_update=False), \\\n",
    "    zCoord=IntSlider(min=np.min(convertedBoundCoords[:,2].astype(int)), max=np.max(convertedBoundCoords[:,2].astype(int)), step=1,continuous_update=False))"
   ]
  },
  {
   "cell_type": "markdown",
   "metadata": {},
   "source": [
    "## Translation errors\n",
    "\n",
    "In previous chapters you may have noticed that we often selected locations for our ROIs (in particular planar ROIs) by referring to nearby, reference anatomical structures.  Despite this, even though we were chosing where to planar the planar ROIs in relation to these structures, we were nonetheless manually entering cordinates (based on trial and error or our best guesses).  This is less than ideal for several reasons.\n",
    "\n",
    "First of all, it is difficult to communicate and have intuitions about these coordinates.  In the previous examples we were using ACPC coordinates which specify the milimeter offset from the [anterior commisure](https://en.wikipedia.org/wiki/Anterior_commissure).  This is is nice because it is subject specific and the units themsleves are quite familiar.  Alternatively, in some of the literature, [MNI coordinates](https://neuroimage.usc.edu/brainstorm/CoordinateSystems#MNI_coordinates) are used, which has the benefit of being standardized, but necessarily incurs an additional source of spatial error on top of all the many other sources of error in this field.  This hints at a second trouble as well.\n",
    "\n",
    "If we're going to leave other investigators to their own devices on how to implment an interpretation of the relative anatomical description, then we have compounded the number of opportunities for \"noise\" to be added to our segmentation specification.  In doing so we make our segmentation less reliable overall.  But what if we didn't have to do this?  What if, instead, we were able to _directly_ use those anatomical structures to define our regions of interest?  How could we do that?\n",
    "\n",
    "Lets try that.  Below, you'll be able to select a anatomical structure **and** which of its borders to use to generate a planar ROI.  Of particular note should be the potential utility of subcortical structures in providing planar ROIs for our future white matter segmentations."
   ]
  },
  {
   "cell_type": "code",
   "execution_count": 2,
   "metadata": {},
   "outputs": [
    {
     "data": {
      "application/vnd.jupyter.widget-view+json": {
       "model_id": "e9c718dcfbd34bbbb7596c4bfc5da8c7",
       "version_major": 2,
       "version_minor": 0
      },
      "text/plain": [
       "interactive(children=(Dropdown(description='anatomicalLabel', index=6, options=(('Unknown', 0), ('Left-Cerebra…"
      ]
     },
     "metadata": {},
     "output_type": "display_data"
    },
    {
     "data": {
      "text/plain": [
       "<function __main__.anatomyPlanePlotWrapper(roiNum, relativeBorder, xCoord, yCoord, zCoord)>"
      ]
     },
     "execution_count": 2,
     "metadata": {},
     "output_type": "execute_result"
    }
   ],
   "source": [
    "#this code ensures that we can navigate the WiMSE repo across multiple systems\n",
    "import subprocess\n",
    "import os\n",
    "#get top directory path of the current git repository, under the presumption that \n",
    "#the notebook was launched from within the repo directory\n",
    "gitRepoPath=subprocess.check_output(['git', 'rev-parse', '--show-toplevel']).decode('ascii').strip()\n",
    "\n",
    "#establish path to the \n",
    "wma_toolsDirPath=os.path.join(gitRepoPath,'wma_pyTools')   \n",
    "\n",
    "#change to the wma_tools path, load the function set, then change back to the top directory\n",
    "os.chdir(wma_toolsDirPath)\n",
    "import WMA_pyFuncs\n",
    "os.chdir(gitRepoPath)\n",
    "\n",
    "import nibabel as nib\n",
    "import numpy as np\n",
    "\n",
    "#establish path to t1\n",
    "atlasPath=os.path.join(gitRepoPath,'exampleData','parc.nii.gz')\n",
    "#load it as an object\n",
    "atlasImg = nib.load(atlasPath)\n",
    "atlasData = atlasImg.get_fdata()\n",
    "#set the print option so it isn't printing in scientific notation\n",
    "np.set_printoptions(suppress=True)\n",
    "#condense to unique values\n",
    "uniqueAtlasEntries=np.unique(atlasData).astype(int)\n",
    "\n",
    "import pandas as pd\n",
    "FSTablePath=os.path.join(gitRepoPath,'exampleData','FreesurferLookup.csv')\n",
    "#read table using pandas\n",
    "FSTable=pd.read_csv(FSTablePath)\n",
    "#create a boolean vector for the indexes which are in uniqueAtlasEntries\n",
    "currentIndexesBool=FSTable['#No.'].isin(uniqueAtlasEntries)\n",
    "#create new data frame with the relevant entries\n",
    "currentParcellationEntries=FSTable.loc[currentIndexesBool]\n",
    "\n",
    "dropDownList=list(zip(currentParcellationEntries['LabelName:'].to_list(), currentParcellationEntries['#No.'].to_list()))\n",
    "portionList=list(['posterior','anterior','caudal','rostral', 'medial','lateral','left', 'right','inferior','superior'])\n",
    "\n",
    "#establish path to t1\n",
    "t1Path=os.path.join(gitRepoPath,'exampleData','t1.nii.gz')   \n",
    "\n",
    "#import the data\n",
    "t1img = nib.load(t1Path)\n",
    "#done to establish bounds of image in acpc space\n",
    "fullMask = nib.nifti1.Nifti1Image(np.ones(t1img.get_fdata().shape), t1img.affine, t1img.header)\n",
    "#pass full mask to boundary function\n",
    "t1DimBounds=WMA_pyFuncs.returnMaskBoundingBoxVoxelIndexes(fullMask)\n",
    "#convert the coords to subject space in order set max min values for interactive visualization\n",
    "convertedBoundCoords=nib.affines.apply_affine(t1img.affine,t1DimBounds)\n",
    "\n",
    "\n",
    "def anatomyPlanePlotWrapper(roiNum,relativeBorder,xCoord,yCoord,zCoord):\n",
    "    from nilearn import plotting\n",
    "    import nibabel as nib\n",
    "    import numpy as np\n",
    "    \n",
    "    anatomicalROI=WMA_pyFuncs.multiROIrequestToMask(atlasImg,roiNum)\n",
    "    \n",
    "    borderPlane=WMA_pyFuncs.planeAtMaskBorder(anatomicalROI,relativeBorder)\n",
    "    \n",
    "    %matplotlib inline\n",
    "    plotting.plot_roi(roi_img=borderPlane, bg_img=t1img, cut_coords=[xCoord,yCoord,zCoord])\n",
    "    \n",
    "from ipywidgets import Dropdown\n",
    "from ipywidgets import interact, interactive, fixed, interact_manual\n",
    "from ipywidgets import IntSlider\n",
    "\n",
    "interact(anatomyPlanePlotWrapper, \\\n",
    "    roiNum=Dropdown(options=dropDownList, value=10, description=\"anatomicalLabel\"), \\\n",
    "    relativeBorder=Dropdown(options=portionList, value='superior', description=\"labelBound\"), \\\n",
    "    xCoord=IntSlider(min=np.min(convertedBoundCoords[:,0].astype(int)), max=np.max(convertedBoundCoords[:,0].astype(int)), step=1,continuous_update=False), \\\n",
    "    yCoord=IntSlider(min=np.min(convertedBoundCoords[:,1].astype(int)), max=np.max(convertedBoundCoords[:,1].astype(int)), step=1,continuous_update=False), \\\n",
    "    zCoord=IntSlider(min=np.min(convertedBoundCoords[:,2].astype(int)), max=np.max(convertedBoundCoords[:,2].astype(int)), step=1,continuous_update=False))"
   ]
  },
  {
   "cell_type": "markdown",
   "metadata": {},
   "source": [
    "## But wait, there's more!\n",
    "\n",
    "At this point we _could_ demonstrate the use of these full planar, anatomically defined ROIs to apply a single segmentation criteria (e.g. \"intersect\" or \"not intersect\" with the plane).  However, in practice, the segmentations resulting from the application of a single, anatomically defined, full planar ROI are not qualatatively different than previous applications of comparable, manually placed ROIs.  While previously, we were manually specifying where to place the planar ROI using (via selection of an ACPC coordinate), by using anatomically defined ROIs, were specifying a coordinate _implicitly_ by selecting a given border of an anatomical region (i.e. superior, lateral, anterior, etc.).  The true pratcical utility (and complexity) comes from modifying anatomically defined ROIs _using other anatomically defined ROIs_ (as we shall see next) and using multiple such ROIs to compose a segmentation algorithm for a full tract (as we shall see in the next chapter).\n",
    "\n",
    "As a warning, the interface may get a bit complicated here, but this is to be expected for advanced, anatomically-based segmentations.  After defining your modified planar ROI, we'll use it as a segmentation criterion."
   ]
  },
  {
   "cell_type": "code",
   "execution_count": 3,
   "metadata": {},
   "outputs": [
    {
     "data": {
      "application/vnd.jupyter.widget-view+json": {
       "model_id": "6e0f0da308f944dd91fb63de2b2835a0",
       "version_major": 2,
       "version_minor": 0
      },
      "text/plain": [
       "interactive(children=(Dropdown(description='primaryPlane', index=6, options=(('Unknown', 0), ('Left-Cerebral-W…"
      ]
     },
     "metadata": {},
     "output_type": "display_data"
    },
    {
     "data": {
      "text/plain": [
       "<function __main__.anatomyPlanePlotWrapper(primaryRoiNum, relativeBorder, cutRoiNum, cutBorder, keepPortion, xCoord, yCoord, zCoord)>"
      ]
     },
     "execution_count": 3,
     "metadata": {},
     "output_type": "execute_result"
    }
   ],
   "source": [
    "portionList=list(['posterior','anterior','caudal','rostral', 'medial','lateral','left', 'right','inferior','superior'])\n",
    "\n",
    "def anatomyPlanePlotWrapper(primaryRoiNum,relativeBorder,cutRoiNum,cutBorder,keepPortion, xCoord,yCoord,zCoord):\n",
    "    from nilearn import plotting\n",
    "    import nibabel as nib\n",
    "    import numpy as np\n",
    "    \n",
    "\n",
    "    borderPlane=WMA_pyFuncs.planarROIFromAtlasLabelBorder(atlasImg,primaryRoiNum, relativeBorder)\n",
    "    \n",
    "    cutPlane=WMA_pyFuncs.planarROIFromAtlasLabelBorder(atlasImg,cutRoiNum, cutBorder)\n",
    "    \n",
    "    outPlane=WMA_pyFuncs.sliceROIwithPlane(borderPlane,cutPlane,keepPortion)\n",
    "    \n",
    "    %matplotlib inline\n",
    "    plotting.plot_roi(roi_img=outPlane, bg_img=t1img, cut_coords=[xCoord,yCoord,zCoord])\n",
    "    \n",
    "from ipywidgets import Dropdown\n",
    "from ipywidgets import interact, interactive, fixed, interact_manual\n",
    "from ipywidgets import IntSlider\n",
    "\n",
    "primaryRoiNum=Dropdown(options=dropDownList, value=10, description=\"primaryPlane\")\n",
    "relativeBorder=Dropdown(options=portionList, value='anterior', description=\"relative border\")\n",
    "cutRoiNum=Dropdown(options=dropDownList, value=255, description=\"cutPlane\")\n",
    "cutBorder=Dropdown(options=portionList, value='superior', description=\"relative border\")\n",
    "keepPortion=Dropdown(options=portionList, value='superior', description=\"portion2keep\")\n",
    "\n",
    "interact(anatomyPlanePlotWrapper, \\\n",
    "    primaryRoiNum=primaryRoiNum, \\\n",
    "    relativeBorder=relativeBorder, \\\n",
    "    cutRoiNum = cutRoiNum, \\\n",
    "    cutBorder= cutBorder, \\\n",
    "    keepPortion=keepPortion, \\\n",
    "    xCoord=IntSlider(min=np.min(convertedBoundCoords[:,0].astype(int)), max=np.max(convertedBoundCoords[:,0].astype(int)), step=1,continuous_update=False), \\\n",
    "    yCoord=IntSlider(min=np.min(convertedBoundCoords[:,1].astype(int)), max=np.max(convertedBoundCoords[:,1].astype(int)), step=1,continuous_update=False), \\\n",
    "    zCoord=IntSlider(min=np.min(convertedBoundCoords[:,2].astype(int)), max=np.max(convertedBoundCoords[:,2].astype(int)), step=1,continuous_update=False))"
   ]
  },
  {
   "cell_type": "code",
   "execution_count": 8,
   "metadata": {},
   "outputs": [
    {
     "data": {
      "application/vnd.jupyter.widget-view+json": {
       "model_id": "6200f469d90c4d47963490eefef81ac8",
       "version_major": 2,
       "version_minor": 0
      },
      "text/plain": [
       "VBox(children=(Figure(camera=PerspectiveCamera(fov=46.0, position=(0.0, 0.0, 2.0), quaternion=(0.0, 0.0, 0.0, …"
      ]
     },
     "metadata": {},
     "output_type": "display_data"
    },
    {
     "data": {
      "application/vnd.jupyter.widget-view+json": {
       "model_id": "12078152305d4881ad0125d3efb964c0",
       "version_major": 2,
       "version_minor": 0
      },
      "text/plain": [
       "interactive(children=(FloatSlider(value=9.713516235351562, continuous_update=False, description='threshold', m…"
      ]
     },
     "metadata": {},
     "output_type": "display_data"
    }
   ],
   "source": [
    "#Segmentation application:  Segments the tractogram using the previously generated ROI\n",
    "\n",
    "#create initial border plane\n",
    "borderPlane=WMA_pyFuncs.planarROIFromAtlasLabelBorder(atlasImg,primaryRoiNum.value, relativeBorder.value)\n",
    "#create cut plane\n",
    "cutPlane=WMA_pyFuncs.planarROIFromAtlasLabelBorder(atlasImg,cutRoiNum.value, cutBorder.value)\n",
    "#cut the intitial border plane with the cut plane\n",
    "outPlane=WMA_pyFuncs.sliceROIwithPlane(borderPlane,cutPlane,keepPortion.value)\n",
    " \n",
    "#quick and dirty tractogram subsetter by Brad Caron\n",
    "#https://github.com/bacaron\n",
    "def extractSubTractogram(sourceTractogram,indexes):\n",
    "    #import relevant package\n",
    "    import nibabel as nib\n",
    "    #extrect the desired streamlines into a new streamline object\n",
    "    streamlines = sourceTractogram.streamlines[indexes]\n",
    "    #establish tractogram object\n",
    "    out_tractogram = nib.streamlines.tractogram.Tractogram(streamlines)\n",
    "    #adjust the relevant header fields\n",
    "    #don't bother for now, header is only relevant to Tck file\n",
    "    #for headerFields in ['total_count','count','nb_streamlines']:\n",
    "        #nb_streamlines is an int, whereas the others are strings, for some reason\n",
    "    #    if headerFields == 'nb_streamlines':\n",
    "    #        out_tractogram.header[headerFields] = len(streamlines)\n",
    "    #    else:\n",
    "    #        out_tractogram.header[headerFields] = '%s' %len(streamlines)\n",
    "    return out_tractogram\n",
    "\n",
    "#interactive plotting via niwidgets?  \n",
    "#widget within a widget doesn't seem to work\n",
    "def plotSegmentedStreamsWidget(subTractogram):\n",
    "    #import widget\n",
    "    from niwidgets import StreamlineWidget\n",
    "    #set widget object\n",
    "    \n",
    "    sw = StreamlineWidget(streamlines=subTractogram)\n",
    "    #set plotting characteristics\n",
    "    style = {'axes': {'color': 'red',\n",
    "                  'label': {'color': 'white'},\n",
    "                  'ticklabel': {'color': 'white'},\n",
    "                  'visible': True},\n",
    "         'background-color': 'black',\n",
    "         'box': {'visible': True}}\n",
    "    #plot it\n",
    "    sw.plot(display_fraction=1, width=1000, height=1000, style=style, percentile=0)\n",
    "    #sw.plot(display_fraction=1, width=1000, height=1000, percentile=0)\n",
    "\n",
    "    \n",
    "import numpy as np\n",
    "import matplotlib.pyplot as plt  \n",
    "\n",
    "#use the criteria application function to find the relevant streamlines\n",
    "streamBool=WMA_pyFuncs.applyNiftiCriteriaToTract(sourceTractogram.streamlines, outPlane, True , 'any')\n",
    "    \n",
    "streamsToPlot=extractSubTractogram(sourceTractogram,np.where(streamBool)[0])\n",
    "    \n",
    "plotSegmentedStreamsWidget(streamsToPlot.streamlines)"
   ]
  },
  {
   "cell_type": "code",
   "execution_count": 4,
   "metadata": {},
   "outputs": [],
   "source": []
  },
  {
   "cell_type": "code",
   "execution_count": null,
   "metadata": {},
   "outputs": [],
   "source": []
  },
  {
   "cell_type": "code",
   "execution_count": null,
   "metadata": {},
   "outputs": [],
   "source": []
  }
 ],
 "metadata": {
  "kernelspec": {
   "display_name": "Python 3",
   "language": "python",
   "name": "python3"
  },
  "language_info": {
   "codemirror_mode": {
    "name": "ipython",
    "version": 3
   },
   "file_extension": ".py",
   "mimetype": "text/x-python",
   "name": "python",
   "nbconvert_exporter": "python",
   "pygments_lexer": "ipython3",
   "version": "3.7.5"
  }
 },
 "nbformat": 4,
 "nbformat_minor": 2
}
