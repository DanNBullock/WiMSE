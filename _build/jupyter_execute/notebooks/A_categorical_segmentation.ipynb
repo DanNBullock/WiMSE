{
 "cells": [
  {
   "cell_type": "code",
   "execution_count": 1,
   "metadata": {
    "collapsed": true
   },
   "outputs": [],
   "source": [
    "#from the WMQL website:\"Import the freesurfer label definitions from the Desikan atlas (Desikan et al 2006)\"\n",
    "#You're actually importing the full FS look up table: https://surfer.nmr.mgh.harvard.edu/fswiki/FsTutorial/AnatomicalROI/FreeSurferColorLUT\n",
    "#The FreeSurfer.qry contents are listed at https://github.com/demianw/tract_querier/blob/master/tract_querier/data/FreeSurfer.qry\n",
    "#import FreeSurfer.qry\n",
    "\n",
    "#lets leverage the matlab implementation from wma_tools found at:\n",
    "#https://github.com/DanNBullock/wma_tools/blob/master/bsc_streamlineCategoryPriors_v6.m\n",
    "\n",
    "#https://github.com/DanNBullock/wma_tools/blob/a0c430694a1e39d1975dac372347733c7cd69d0e/bsc_streamlineCategoryPriors_v6.m#L35\n",
    "#subcortical.side |= (\n",
    "#        (Thalamus_Proper.side or Caudate.side or Putamen.side or\n",
    "#         Pallidum.side or Hippocampus.side or Amygdala.side or\n",
    "#         Insula.side or Operculum.side or Accumbens_area.side\n",
    "#         Substancia_Nigra.side)  \n",
    "#     )\n",
    "\n",
    "#https://github.com/DanNBullock/wma_tools/blob/a0c430694a1e39d1975dac372347733c7cd69d0e/bsc_streamlineCategoryPriors_v6.m#L36\n",
    "#spine |= (\n",
    "#        (Brain_Stem or VentralDC.left or VentralDC.right)  \n",
    "#     )\n",
    "\n",
    "#https://github.com/DanNBullock/wma_tools/blob/a0c430694a1e39d1975dac372347733c7cd69d0e/bsc_streamlineCategoryPriors_v6.m#L37\n",
    "#cerebellum.side |= (\n",
    "#        (Cerebellum_White_Matter.side or Cerebellum_Cortex.side)  \n",
    "#     )\n",
    "\n",
    "#https://github.com/DanNBullock/wma_tools/blob/a0c430694a1e39d1975dac372347733c7cd69d0e/bsc_streamlineCategoryPriors_v6.m#L38\n",
    "#ventricles|= (\n",
    "#        (choroid_plexus.left or choroid_plexus.right or \n",
    "#         Lateral_Ventricle.left or Lateral_Ventricle.right \n",
    "#         third_Ventricle or fourth_Ventricle  or CSF\n",
    "#         Inf_Lat_Vent.left or Inf_Lat_Vent.right\n",
    "#         vessel.left or vessel.right or\n",
    "#         fifth_Ventricle or non_WM_hypointensities or\n",
    "#         non_WM_hypointensities.left or non_WM_hypointensities.right)  \n",
    "#     )\n",
    "\n",
    "#https://github.com/DanNBullock/wma_tools/blob/a0c430694a1e39d1975dac372347733c7cd69d0e/bsc_streamlineCategoryPriors_v6.m#L39\n",
    "#whiteMatter.side |= (\n",
    "#        (Cerebral_White_Matter.side)  \n",
    "#     )"
   ]
  }
 ],
 "metadata": {
  "anaconda-cloud": {},
  "kernelspec": {
   "display_name": "Python 3",
   "language": "python",
   "name": "python3"
  },
  "language_info": {
   "codemirror_mode": {
    "name": "ipython",
    "version": 3
   },
   "file_extension": ".py",
   "mimetype": "text/x-python",
   "name": "python",
   "nbconvert_exporter": "python",
   "pygments_lexer": "ipython3",
   "version": "3.7.5"
  }
 },
 "nbformat": 4,
 "nbformat_minor": 1
}