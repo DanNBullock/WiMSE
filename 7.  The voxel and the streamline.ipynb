{
 "cells": [
  {
   "cell_type": "markdown",
   "metadata": {},
   "source": [
    "[align them in their goal to represent anatomy]"
   ]
  },
  {
   "cell_type": "code",
   "execution_count": null,
   "metadata": {
    "collapsed": true
   },
   "outputs": [],
   "source": [
    "#whats in a voxel"
   ]
  },
  {
   "cell_type": "code",
   "execution_count": null,
   "metadata": {
    "collapsed": true
   },
   "outputs": [],
   "source": [
    "#whats in a streamline"
   ]
  },
  {
   "cell_type": "markdown",
   "metadata": {},
   "source": [
    "How many streamlines / voxels would it take to reprsent the brain on a cellular / axonal level"
   ]
  },
  {
   "cell_type": "code",
   "execution_count": 12,
   "metadata": {},
   "outputs": [
    {
     "name": "stdout",
     "output_type": "stream",
     "text": [
      "Voxel dimensions for T1 (in mm)\n",
      "(1.25, 1.25, 1.25)\n",
      "\n",
      "Number of data occupied voxels\n",
      "972417\n"
     ]
    }
   ],
   "source": [
    "#preloading and processing\n",
    "import nibabel as nib\n",
    "import numpy as np\n",
    "t1Path='/Users/plab/Documents/JupyerData/proj-5c50b6f12daf2e0032f880eb/sub-100206/dt-neuro-anat-t1w.tag-acpc_aligned.tag-brain_extracted.id-5c57072befbc2800526291bb/t1.nii.gz'\n",
    "img = nib.load(t1Path)\n",
    "print('Voxel dimensions for T1 (in mm)')\n",
    "voxelDims=img.header.get_zooms()\n",
    "print(voxelDims)\n",
    "print('')\n",
    "\n",
    "volData = img.get_fdata()\n",
    "unwrappedData=np.ndarray.flatten(volData)\n",
    "\n",
    "def largeVal(n):\n",
    "    return n>0\n",
    "\n",
    "result=map(largeVal,unwrappedData)\n",
    "largeBool=list(result)\n",
    "largeNum=sum(largeBool)\n",
    "print('Number of data occupied voxels')\n",
    "print(largeNum)\n",
    "\n"
   ]
  },
  {
   "cell_type": "code",
   "execution_count": 17,
   "metadata": {},
   "outputs": [
    {
     "name": "stdout",
     "output_type": "stream",
     "text": [
      "Estimated number neurons\n",
      "100000000000\n",
      "\n",
      "Estimated number of glia\n",
      "1000000000000\n",
      "\n",
      "Number of cells per voxel (estimate)\n",
      "1131201.9431992653\n",
      "Number of cells per cubic mm (estimate)\n",
      "579175.3949180238\n",
      "\n",
      "Current data storage usage for T1\n",
      "3593891 bytes\n",
      "0.0033470718190073967 gigabytes\n",
      "\n",
      "Current data storage usage for T1\n",
      "8800000000000.0 bytes\n",
      "8195.638656616211 gigabytes\n"
     ]
    }
   ],
   "source": [
    "#lets assume all cells are layed out in a latice matrix (i.e. they are all orthogonal to each other and they can thus be represented as a matrix.)\n",
    "print('Estimated number neurons')\n",
    "#citation\n",
    "neuronNum=100000000000\n",
    "print(neuronNum)\n",
    "print('')\n",
    "\n",
    "print('Estimated number of glia')\n",
    "gliaNum=neuronNum*10\n",
    "print(gliaNum)\n",
    "print('')\n",
    "\n",
    "\n",
    "\n",
    "\n",
    "#neuronBodySize=25*10^-6\n",
    "#gliaBodySize=15*10^-6\n",
    "\n",
    "#neuronVolume=[neuronBodySize^3]*neuronNum\n",
    "#gliaVolume=[gliaBodySize^3]*gliaNum\n",
    "\n",
    "totalCellNum=neuronNum+gliaNum\n",
    "\n",
    "print('Number of cells per voxel (estimate)')\n",
    "cellPerVox=totalCellNum/largeNum\n",
    "print(cellPerVox)\n",
    "\n",
    "\n",
    "print('Number of cells per cubic mm (estimate)')\n",
    "cellPerMM=cellPerVox/(voxelDims[0]*voxelDims[1]*voxelDims[2])\n",
    "print(cellPerMM)\n",
    "print('')\n",
    "\n",
    "axonNum=neuronNum\n",
    "\n",
    "print('Current data storage usage for T1')\n",
    "import os\n",
    "statinfo = os.stat(t1Path)\n",
    "T1bytes=statinfo.st_size\n",
    "print(f'{T1bytes} bytes' )\n",
    "T1gigabytes=T1bytes/1073741824\n",
    "print(f'{T1gigabytes} gigabytes' )\n",
    "print('')\n",
    "\n",
    "print('Current data storage usage for T1')\n",
    "percellT1bytes=cellPerVox*largeNum*8\n",
    "print(f'{percellT1bytes} bytes' )\n",
    "percellT1gigabytes=percellT1bytes/1073741824\n",
    "print(f'{percellT1gigabytes} gigabytes' )\n",
    "\n",
    "\n",
    "\n"
   ]
  },
  {
   "cell_type": "code",
   "execution_count": null,
   "metadata": {
    "collapsed": true
   },
   "outputs": [],
   "source": []
  }
 ],
 "metadata": {
  "kernelspec": {
   "display_name": "Python 3",
   "language": "python",
   "name": "python3"
  },
  "language_info": {
   "codemirror_mode": {
    "name": "ipython",
    "version": 3
   },
   "file_extension": ".py",
   "mimetype": "text/x-python",
   "name": "python",
   "nbconvert_exporter": "python",
   "pygments_lexer": "ipython3",
   "version": "3.7.5"
  }
 },
 "nbformat": 4,
 "nbformat_minor": 2
}
