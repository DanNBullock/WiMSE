{
 "cells": [
  {
   "cell_type": "markdown",
   "metadata": {},
   "source": [
    "# Advanced anatomically-based segmentation\n",
    "\n",
    "Now that we have established how to use ROIs and anatomical information _independently_ of one another, its time to legerage these capabilities in conjunction with one another.  To begin, we'll start by reflecting on our ability to extract labeled volumes of a parcellation as an ROI.\n",
    "\n",
    "## The first step: extracting a given ROI\n",
    "\n",
    "Below, we'll demonstrate essentially the same widget and capability as we observed in the \"ROIs_as_tools\" chapter.  This will allow you to familiarize yourself with the various anatomical labels featured in the DK2009 atlas and their locations in the example brain."
   ]
  },
  {
   "cell_type": "code",
   "execution_count": 1,
   "metadata": {},
   "outputs": [
    {
     "data": {
      "application/vnd.jupyter.widget-view+json": {
       "model_id": "3c9e7083a7654c3e82545f3de6c31e1d",
       "version_major": 2,
       "version_minor": 0
      },
      "text/plain": [
       "interactive(children=(Dropdown(description='anatomicalLabel', index=1, options=(('Unknown', 0), ('Left-Cerebra…"
      ]
     },
     "metadata": {},
     "output_type": "display_data"
    },
    {
     "data": {
      "text/plain": [
       "<function __main__.rotateAndPlotWrapper(roiNum, xCoord, yCoord, zCoord)>"
      ]
     },
     "execution_count": 1,
     "metadata": {},
     "output_type": "execute_result"
    }
   ],
   "source": [
    "#this code ensures that we can navigate the WiMSE repo across multiple systems\n",
    "import subprocess\n",
    "import os\n",
    "#get top directory path of the current git repository, under the presumption that \n",
    "#the notebook was launched from within the repo directory\n",
    "gitRepoPath=subprocess.check_output(['git', 'rev-parse', '--show-toplevel']).decode('ascii').strip()\n",
    "\n",
    "#establish path to the \n",
    "wma_toolsDirPath=os.path.join(gitRepoPath,'wma_pyTools')   \n",
    "\n",
    "#change to the wma_tools path, load the function set, then change back to the top directory\n",
    "os.chdir(wma_toolsDirPath)\n",
    "import WMA_pyFuncs\n",
    "os.chdir(gitRepoPath)\n",
    "\n",
    "import nibabel as nib\n",
    "import numpy as np\n",
    "\n",
    "#establish path to t1\n",
    "atlasPath=os.path.join(gitRepoPath,'exampleData','parc.nii.gz')\n",
    "#load it as an object\n",
    "atlasImg = nib.load(atlasPath)\n",
    "atlasData = atlasImg.get_fdata()\n",
    "#set the print option so it isn't printing in scientific notation\n",
    "np.set_printoptions(suppress=True)\n",
    "#condense to unique values\n",
    "uniqueAtlasEntries=np.unique(atlasData).astype(int)\n",
    "\n",
    "import pandas as pd\n",
    "FSTablePath=os.path.join(gitRepoPath,'exampleData','FreesurferLookup.csv')\n",
    "#read table using pandas\n",
    "FSTable=pd.read_csv(FSTablePath)\n",
    "#create a boolean vector for the indexes which are in uniqueAtlasEntries\n",
    "currentIndexesBool=FSTable['#No.'].isin(uniqueAtlasEntries)\n",
    "#create new data frame with the relevant entries\n",
    "currentParcellationEntries=FSTable.loc[currentIndexesBool]\n",
    "\n",
    "dropDownList=list(zip(currentParcellationEntries['LabelName:'].to_list(), currentParcellationEntries['#No.'].to_list()))\n",
    "\n",
    "#establish path to t1\n",
    "t1Path=os.path.join(gitRepoPath,'exampleData','t1.nii.gz')   \n",
    "\n",
    "#import the data\n",
    "t1img = nib.load(t1Path)\n",
    "#done to establish bounds of image in acpc space\n",
    "fullMask = nib.nifti1.Nifti1Image(np.ones(t1img.get_fdata().shape), t1img.affine, t1img.header)\n",
    "#pass full mask to boundary function\n",
    "t1DimBounds=WMA_pyFuncs.returnMaskBoundingBoxVoxelIndexes(fullMask)\n",
    "#convert the coords to subject space in order set max min values for interactive visualization\n",
    "convertedBoundCoords=nib.affines.apply_affine(t1img.affine,t1DimBounds)\n",
    "\n",
    "def rotateAndPlotWrapper(roiNum,xCoord,yCoord,zCoord):\n",
    "    from nilearn import plotting\n",
    "    import nibabel as nib\n",
    "    import numpy as np\n",
    "    \n",
    "    anatomicalROI=WMA_pyFuncs.multiROIrequestToMask(atlasImg,roiNum)\n",
    "    \n",
    "    %matplotlib inline\n",
    "    plotting.plot_roi(roi_img=WMA_pyFuncs.alignROItoReference(anatomicalROI,t1img), bg_img=t1img, cut_coords=[xCoord,yCoord,zCoord])\n",
    "    \n",
    "from ipywidgets import Dropdown\n",
    "from ipywidgets import interact, interactive, fixed, interact_manual\n",
    "from ipywidgets import IntSlider\n",
    "\n",
    "interact(rotateAndPlotWrapper, \\\n",
    "    roiNum=Dropdown(options=dropDownList, value=2, description=\"anatomicalLabel\"), \\\n",
    "    xCoord=IntSlider(min=np.min(convertedBoundCoords[:,0].astype(int)), max=np.max(convertedBoundCoords[:,0].astype(int)), step=1,continuous_update=False),  \\\n",
    "    yCoord=IntSlider(min=np.min(convertedBoundCoords[:,1].astype(int)), max=np.max(convertedBoundCoords[:,1].astype(int)), step=1,continuous_update=False), \\\n",
    "    zCoord=IntSlider(min=np.min(convertedBoundCoords[:,2].astype(int)), max=np.max(convertedBoundCoords[:,2].astype(int)), step=1,continuous_update=False))"
   ]
  },
  {
   "cell_type": "markdown",
   "metadata": {},
   "source": [
    "## Using parcellation ROIs to establish anatomically defined planar ROIS\n",
    "\n",
    "In previous chapters you may have noticed that we often selected locations for our ROIs (in particular planar ROIs).  But, what if we were able to _directly_ use those anatomical structures to define our regions of interest?  How could we do that?\n",
    "\n",
    "What if, using what we learned from previous lessons, we used atlas label ROIs to create a planar ROI?\n",
    "\n",
    "Lets try that.  Below, you'll be able to select a anatomical structure **and** which of its borders to use to generate a planar ROI.  Of particular note should be the potential utility of subcortical structures in providing planar ROIs for our future white matter segmentations."
   ]
  },
  {
   "cell_type": "code",
   "execution_count": 2,
   "metadata": {},
   "outputs": [
    {
     "data": {
      "application/vnd.jupyter.widget-view+json": {
       "model_id": "202cdf9726ed4dbb8812ed538ecc4fa4",
       "version_major": 2,
       "version_minor": 0
      },
      "text/plain": [
       "interactive(children=(Dropdown(description='anatomicalLabel', index=6, options=(('Unknown', 0), ('Left-Cerebra…"
      ]
     },
     "metadata": {},
     "output_type": "display_data"
    },
    {
     "data": {
      "text/plain": [
       "<function __main__.anatomyPlanePlotWrapper(roiNum, relativeBorder, xCoord, yCoord, zCoord)>"
      ]
     },
     "execution_count": 2,
     "metadata": {},
     "output_type": "execute_result"
    }
   ],
   "source": [
    "#this code ensures that we can navigate the WiMSE repo across multiple systems\n",
    "import subprocess\n",
    "import os\n",
    "#get top directory path of the current git repository, under the presumption that \n",
    "#the notebook was launched from within the repo directory\n",
    "gitRepoPath=subprocess.check_output(['git', 'rev-parse', '--show-toplevel']).decode('ascii').strip()\n",
    "\n",
    "#establish path to the \n",
    "wma_toolsDirPath=os.path.join(gitRepoPath,'wma_pyTools')   \n",
    "\n",
    "#change to the wma_tools path, load the function set, then change back to the top directory\n",
    "os.chdir(wma_toolsDirPath)\n",
    "import WMA_pyFuncs\n",
    "os.chdir(gitRepoPath)\n",
    "\n",
    "import nibabel as nib\n",
    "import numpy as np\n",
    "\n",
    "#establish path to t1\n",
    "atlasPath=os.path.join(gitRepoPath,'exampleData','parc.nii.gz')\n",
    "#load it as an object\n",
    "atlasImg = nib.load(atlasPath)\n",
    "atlasData = atlasImg.get_fdata()\n",
    "#set the print option so it isn't printing in scientific notation\n",
    "np.set_printoptions(suppress=True)\n",
    "#condense to unique values\n",
    "uniqueAtlasEntries=np.unique(atlasData).astype(int)\n",
    "\n",
    "import pandas as pd\n",
    "FSTablePath=os.path.join(gitRepoPath,'exampleData','FreesurferLookup.csv')\n",
    "#read table using pandas\n",
    "FSTable=pd.read_csv(FSTablePath)\n",
    "#create a boolean vector for the indexes which are in uniqueAtlasEntries\n",
    "currentIndexesBool=FSTable['#No.'].isin(uniqueAtlasEntries)\n",
    "#create new data frame with the relevant entries\n",
    "currentParcellationEntries=FSTable.loc[currentIndexesBool]\n",
    "\n",
    "dropDownList=list(zip(currentParcellationEntries['LabelName:'].to_list(), currentParcellationEntries['#No.'].to_list()))\n",
    "portionList=list(['posterior','anterior','caudal','rostral', 'medial','lateral','left', 'right','inferior','superior'])\n",
    "\n",
    "\n",
    "\n",
    "#establish path to t1\n",
    "t1Path=os.path.join(gitRepoPath,'exampleData','t1.nii.gz')   \n",
    "\n",
    "#import the data\n",
    "t1img = nib.load(t1Path)\n",
    "#done to establish bounds of image in acpc space\n",
    "fullMask = nib.nifti1.Nifti1Image(np.ones(t1img.get_fdata().shape), t1img.affine, t1img.header)\n",
    "#pass full mask to boundary function\n",
    "t1DimBounds=WMA_pyFuncs.returnMaskBoundingBoxVoxelIndexes(fullMask)\n",
    "#convert the coords to subject space in order set max min values for interactive visualization\n",
    "convertedBoundCoords=nib.affines.apply_affine(t1img.affine,t1DimBounds)\n",
    "\n",
    "\n",
    "def anatomyPlanePlotWrapper(roiNum,relativeBorder,xCoord,yCoord,zCoord):\n",
    "    from nilearn import plotting\n",
    "    import nibabel as nib\n",
    "    import numpy as np\n",
    "    \n",
    "    anatomicalROI=WMA_pyFuncs.multiROIrequestToMask(atlasImg,roiNum)\n",
    "    \n",
    "    borderPlane=WMA_pyFuncs.planeAtMaskBorder(anatomicalROI,relativeBorder)\n",
    "    \n",
    "    %matplotlib inline\n",
    "    plotting.plot_roi(roi_img=borderPlane, bg_img=t1img, cut_coords=[xCoord,yCoord,zCoord])\n",
    "    \n",
    "from ipywidgets import Dropdown\n",
    "from ipywidgets import interact, interactive, fixed, interact_manual\n",
    "from ipywidgets import IntSlider\n",
    "\n",
    "interact(anatomyPlanePlotWrapper, \\\n",
    "    roiNum=Dropdown(options=dropDownList, value=10, description=\"anatomicalLabel\"), \\\n",
    "    relativeBorder=Dropdown(options=portionList, value='superior', description=\"labelBound\"), \\\n",
    "    xCoord=IntSlider(min=np.min(convertedBoundCoords[:,0].astype(int)), max=np.max(convertedBoundCoords[:,0].astype(int)), step=1,continuous_update=False), \\\n",
    "    yCoord=IntSlider(min=np.min(convertedBoundCoords[:,1].astype(int)), max=np.max(convertedBoundCoords[:,1].astype(int)), step=1,continuous_update=False), \\\n",
    "    zCoord=IntSlider(min=np.min(convertedBoundCoords[:,2].astype(int)), max=np.max(convertedBoundCoords[:,2].astype(int)), step=1,continuous_update=False))"
   ]
  },
  {
   "cell_type": "markdown",
   "metadata": {},
   "source": [
    "### But wait, there's more!\n",
    "\n",
    "At this point we could demonstrate the use of these anatomically defined ROIs.  However, conceputally, this is not that different than previous applications of manually placed ROIs.  The true utility (and complexity) comes from modifying anatomically defined ROIs _using other anatomically defined ROIs_.\n",
    "\n",
    "As a warning, the interface may get a bit complicated here, but this is to be expected for advanced, anatomically-based segmentations"
   ]
  },
  {
   "cell_type": "code",
   "execution_count": 3,
   "metadata": {},
   "outputs": [
    {
     "data": {
      "application/vnd.jupyter.widget-view+json": {
       "model_id": "d8016839b36a46f6a7119ce06046fdc1",
       "version_major": 2,
       "version_minor": 0
      },
      "text/plain": [
       "interactive(children=(Dropdown(description='primaryPlane', index=6, options=(('Unknown', 0), ('Left-Cerebral-W…"
      ]
     },
     "metadata": {},
     "output_type": "display_data"
    },
    {
     "data": {
      "text/plain": [
       "<function __main__.anatomyPlanePlotWrapper(primaryRoiNum, relativeBorder, cutRoiNum, cutBorder, keepPortion, xCoord, yCoord, zCoord)>"
      ]
     },
     "execution_count": 3,
     "metadata": {},
     "output_type": "execute_result"
    }
   ],
   "source": [
    "portionList=list(['posterior','anterior','caudal','rostral', 'medial','lateral','left', 'right','inferior','superior'])\n",
    "\n",
    "def anatomyPlanePlotWrapper(primaryRoiNum,relativeBorder,cutRoiNum,cutBorder,keepPortion, xCoord,yCoord,zCoord):\n",
    "    from nilearn import plotting\n",
    "    import nibabel as nib\n",
    "    import numpy as np\n",
    "    \n",
    "\n",
    "    borderPlane=WMA_pyFuncs.planarROIFromAtlasLabelBorder(atlasImg,primaryRoiNum, relativeBorder)\n",
    "    \n",
    "    cutPlane=WMA_pyFuncs.planarROIFromAtlasLabelBorder(atlasImg,cutRoiNum, cutBorder)\n",
    "    \n",
    "    outPlane=WMA_pyFuncs.sliceROIwithPlane(borderPlane,cutPlane,keepPortion)\n",
    "    \n",
    "    %matplotlib inline\n",
    "    plotting.plot_roi(roi_img=outPlane, bg_img=t1img, cut_coords=[xCoord,yCoord,zCoord])\n",
    "    \n",
    "from ipywidgets import Dropdown\n",
    "from ipywidgets import interact, interactive, fixed, interact_manual\n",
    "from ipywidgets import IntSlider\n",
    "\n",
    "primaryRoiNum=Dropdown(options=dropDownList, value=10, description=\"primaryPlane\")\n",
    "relativeBorder=Dropdown(options=portionList, value='anterior', description=\"relative border\")\n",
    "cutRoiNum=Dropdown(options=dropDownList, value=255, description=\"cutPlane\")\n",
    "cutBorder=Dropdown(options=portionList, value='superior', description=\"relative border\")\n",
    "keepPortion=Dropdown(options=portionList, value='superior', description=\"portion2keep\")\n",
    "\n",
    "interact(anatomyPlanePlotWrapper, \\\n",
    "    primaryRoiNum=primaryRoiNum, \\\n",
    "    relativeBorder=relativeBorder, \\\n",
    "    cutRoiNum = cutRoiNum, \\\n",
    "    cutBorder= cutBorder, \\\n",
    "    keepPortion=keepPortion, \\\n",
    "    xCoord=IntSlider(min=np.min(convertedBoundCoords[:,0].astype(int)), max=np.max(convertedBoundCoords[:,0].astype(int)), step=1,continuous_update=False), \\\n",
    "    yCoord=IntSlider(min=np.min(convertedBoundCoords[:,1].astype(int)), max=np.max(convertedBoundCoords[:,1].astype(int)), step=1,continuous_update=False), \\\n",
    "    zCoord=IntSlider(min=np.min(convertedBoundCoords[:,2].astype(int)), max=np.max(convertedBoundCoords[:,2].astype(int)), step=1,continuous_update=False))"
   ]
  },
  {
   "cell_type": "code",
   "execution_count": null,
   "metadata": {},
   "outputs": [],
   "source": []
  },
  {
   "cell_type": "code",
   "execution_count": 4,
   "metadata": {},
   "outputs": [],
   "source": [
    "## Modifying parcellation ROIs using planar ROIs (i.e. cutting)\n",
    "\n",
    "## Modifying anatomically defined planar ROIs using other anatomically defined planar ROIs\n",
    "\n",
    "## Inflating parcellation regions of interest\n",
    "\n",
    "### "
   ]
  },
  {
   "cell_type": "code",
   "execution_count": null,
   "metadata": {},
   "outputs": [],
   "source": []
  },
  {
   "cell_type": "code",
   "execution_count": null,
   "metadata": {},
   "outputs": [],
   "source": []
  }
 ],
 "metadata": {
  "kernelspec": {
   "display_name": "Python 3",
   "language": "python",
   "name": "python3"
  },
  "language_info": {
   "codemirror_mode": {
    "name": "ipython",
    "version": 3
   },
   "file_extension": ".py",
   "mimetype": "text/x-python",
   "name": "python",
   "nbconvert_exporter": "python",
   "pygments_lexer": "ipython3",
   "version": "3.7.5"
  }
 },
 "nbformat": 4,
 "nbformat_minor": 2
}
