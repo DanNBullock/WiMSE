{
 "cells": [
  {
   "cell_type": "markdown",
   "metadata": {},
   "source": [
    "# Example Segmentation: inferior fronto-occipital fasciculus (IFOF)\n",
    "\n",
    "NOTE:  This segmentation is taken almost verbatim from a [recent version of the matlab-version of WMA segmentation](https://github.com/DanNBullock/wma_tools/blob/53a4d99b68b832257c55d5f1320dc7266cc8c270/Segmentations/bsc_segmentAntPostTracts_v4.m#L322-L500)\n",
    "\n",
    "## Loading the requisite data\n",
    "\n",
    "As with the previous chapter, we'll begin by loading the relevant data objects.  Note, though, that this time we are using different sets of input streamlines.  This is because the [IFOF](https://en.wikipedia.org/wiki/Occipitofrontal_fasciculus) is a particularly long tract, as it runs the entire ventral extent of the brain."
   ]
  },
  {
   "cell_type": "code",
   "execution_count": 1,
   "metadata": {},
   "outputs": [],
   "source": [
    "#this code ensures that we can navigate the WiMSE repo across multiple systems\n",
    "import subprocess\n",
    "import os\n",
    "import pandas as pd\n",
    "import seaborn as sns\n",
    "#get top directory path of the current git repository, under the presumption that \n",
    "#the notebook was launched from within the repo directory\n",
    "gitRepoPath=subprocess.check_output(['git', 'rev-parse', '--show-toplevel']).decode('ascii').strip()\n",
    "\n",
    "#establish path to the \n",
    "wma_toolsDirPath=os.path.join(gitRepoPath,'wma_pyTools')   \n",
    "\n",
    "#change to the wma_tools path, load the function set, then change back to the top directory\n",
    "os.chdir(wma_toolsDirPath)\n",
    "import WMA_pyFuncs\n",
    "os.chdir(gitRepoPath)\n",
    "\n",
    "import nibabel as nib\n",
    "import numpy as np\n",
    "\n",
    "grossAnatomyPath=os.path.join(gitRepoPath,'exampleData','GrossAnatomyLookup.csv')\n",
    "\n",
    "grossAnatTable=pd.read_csv(grossAnatomyPath)\n",
    "#load the atlas\n",
    "atlasPath=os.path.join(gitRepoPath,'exampleData','parc.nii.gz')\n",
    "#load it as an object\n",
    "atlasImg = nib.load(atlasPath)\n",
    "\n",
    "#establish path to t1\n",
    "t1Path=os.path.join(gitRepoPath,'exampleData','t1.nii.gz')   \n",
    "\n",
    "#import the data\n",
    "t1img = nib.load(t1Path)\n",
    "#done to establish bounds of image in acpc space\n",
    "fullMask = nib.nifti1.Nifti1Image(np.ones(t1img.get_fdata().shape), t1img.affine, t1img.header)\n",
    "#pass full mask to boundary function\n",
    "t1DimBounds=WMA_pyFuncs.returnMaskBoundingBoxVoxelIndexes(fullMask)\n",
    "#convert the coords to subject space in order set max min values for interactive visualization\n",
    "convertedBoundCoords=nib.affines.apply_affine(t1img.affine,t1DimBounds)\n",
    "\n",
    "#get and copy the data\n",
    "grossAnatAtlas=atlasImg.get_fdata().copy()\n",
    "#get the labels to iterate over\n",
    "uniqueAtlasEntries=np.unique(atlasImg.get_fdata()).astype(int)\n",
    "#get the unique \n",
    "grossAnatList=grossAnatTable['GrossAnat'].unique()\n",
    "#iterate across unique label entries\n",
    "for iLabels in range(len(uniqueAtlasEntries)):\n",
    "    #print(np.isin(grossAnatTable['GrossAnat'].loc[grossAnatTable['#No.']==uniqueAtlasEntries[iLabels]],grossAnatList))\n",
    "    #replace the current uniqueAtlasEntries value with the label corresponding to the gross anat category\n",
    "    currentLabelReNum=np.where(np.isin(grossAnatList,grossAnatTable['GrossAnat'].loc[grossAnatTable['#No.']==uniqueAtlasEntries[iLabels]]))\n",
    "    grossAnatAtlas[atlasImg.get_fdata()==uniqueAtlasEntries[iLabels]]=currentLabelReNum[0]\n",
    "#set the gross anatomy nifti\n",
    "grossAnatNifti=nib.Nifti1Image(grossAnatAtlas, atlasImg.affine, atlasImg.header)  \n",
    "\n",
    "#now lets do the same thing again but for entire hemispheres\n",
    "#get and copy the data\n",
    "hemisphereAtlas=atlasImg.get_fdata().copy()\n",
    "#get the labels to iterate over\n",
    "uniqueAtlasEntries=np.unique(atlasImg.get_fdata()).astype(int)\n",
    "#get the unique \n",
    "hemisphereList=grossAnatTable['Hemi'].unique()\n",
    "#iterate across unique label entries\n",
    "for iLabels in range(len(uniqueAtlasEntries)):\n",
    "    #print(np.isin(grossAnatTable['GrossAnat'].loc[grossAnatTable['#No.']==uniqueAtlasEntries[iLabels]],grossAnatList))\n",
    "    #replace the current uniqueAtlasEntries value with the label corresponding to the gross anat category\n",
    "    currentLabelReNum=np.where(np.isin(hemisphereList,grossAnatTable['Hemi'].loc[grossAnatTable['#No.']==uniqueAtlasEntries[iLabels]]))\n",
    "    hemisphereAtlas[atlasImg.get_fdata()==uniqueAtlasEntries[iLabels]]=currentLabelReNum[0]\n",
    "#set the gross anatomy nifti\n",
    "hemisphereNifti=nib.Nifti1Image(hemisphereAtlas, atlasImg.affine, atlasImg.header)  \n",
    "\n",
    "# load the tractography file into the streamsObjIN variable\n",
    "#smallTractogramPath=os.path.join(gitRepoPath,'exampleData','smallTractogram.tck')\n",
    "TractogramPath1='/Users/plab/Downloads/100to175mmtrack.tck'\n",
    "TractogramPath2='/Users/plab/Downloads/175to300mmtrack.tck'\n",
    "\n",
    "\n",
    "streamsObjIN1=nib.streamlines.load(TractogramPath1)\n",
    "streamsObjIN2=nib.streamlines.load(TractogramPath2)\n",
    "\n",
    "\n",
    "#get tractogram from the Tck holder\n",
    "allStreams=np.concatenate((streamsObjIN1.streamlines[:],streamsObjIN2.streamlines[:]))\n",
    "\n",
    "sourceTractogram= nib.streamlines.tractogram.Tractogram(streamlines=allStreams,affine_to_rasmm=streamsObjIN1.header['voxel_to_rasmm'])\n",
    "\n",
    "\n",
    "from dipy.tracking import utils\n",
    "#segment tractome into connectivity matrix from parcellation\n",
    "M, grouping=utils.connectivity_matrix(sourceTractogram.streamlines, grossAnatNifti.affine, \\\n",
    "                        label_volume=grossAnatNifti.get_fdata().astype(int), \\\n",
    "                        return_mapping=True,\\\n",
    "                        symmetric=False,\\\n",
    "                        mapping_as_streamlines=False)\n",
    "\n",
    "#segment the tractome into a hemisphere based map (only a 3x3 matrix really)\n",
    "hemiM, hemiGrouping=utils.connectivity_matrix(sourceTractogram.streamlines, hemisphereNifti.affine, \\\n",
    "                        label_volume=hemisphereNifti.get_fdata().astype(int), \\\n",
    "                        return_mapping=True,\\\n",
    "                        symmetric=False,\\\n",
    "                        mapping_as_streamlines=False)\n"
   ]
  },
  {
   "cell_type": "markdown",
   "metadata": {},
   "source": [
    "## Establishing the category\n",
    "\n",
    "The [inferior fronto-occipital fasciculus (IFOF)](https://en.wikipedia.org/wiki/Occipitofrontal_fasciculus) is definitionally a fronto-occipital tract (hence the name).\n",
    "\n",
    "Lets visualize the relevant category."
   ]
  },
  {
   "cell_type": "code",
   "execution_count": 2,
   "metadata": {
    "scrolled": true
   },
   "outputs": [
    {
     "data": {
      "application/vnd.jupyter.widget-view+json": {
       "model_id": "eb7426dff38146c696965eaef0f67baf",
       "version_major": 2,
       "version_minor": 0
      },
      "text/plain": [
       "interactive(children=(Dropdown(description='region1', index=9, options=(('unknown', 0), ('wm', 1), ('ventricle…"
      ]
     },
     "metadata": {},
     "output_type": "display_data"
    }
   ],
   "source": [
    "#quick and dirty tractogram subsetter by Brad Caron\n",
    "#https://github.com/bacaron\n",
    "def extractSubTractogram(sourceTractogram,indexes):\n",
    "    #import relevant package\n",
    "    import nibabel as nib\n",
    "    #extrect the desired streamlines into a new streamline object\n",
    "    streamlines = sourceTractogram.streamlines[indexes]\n",
    "    #establish tractogram object\n",
    "    out_tractogram = nib.streamlines.tractogram.Tractogram(streamlines)\n",
    "    #adjust the relevant header fields\n",
    "    #don't bother for now, header is only relevant to Tck file\n",
    "    #for headerFields in ['total_count','count','nb_streamlines']:\n",
    "        #nb_streamlines is an int, whereas the others are strings, for some reason\n",
    "    #    if headerFields == 'nb_streamlines':\n",
    "    #        out_tractogram.header[headerFields] = len(streamlines)\n",
    "    #    else:\n",
    "    #        out_tractogram.header[headerFields] = '%s' %len(streamlines)\n",
    "    return out_tractogram\n",
    "\n",
    "#interactive plotting via niwidgets?  \n",
    "#widget within a widget doesn't seem to work\n",
    "def plotParcellationConnectionWidget(subTractogram):\n",
    "    #import widget\n",
    "    from niwidgets import StreamlineWidget\n",
    "    #set widget object\n",
    "    \n",
    "    sw = StreamlineWidget(streamlines=subTractogram)\n",
    "    #set plotting characteristics\n",
    "    style = {'axes': {'color': 'red',\n",
    "                  'label': {'color': 'white'},\n",
    "                  'ticklabel': {'color': 'white'},\n",
    "                  'visible': False},\n",
    "         'background-color': 'black',\n",
    "         'box': {'visible': False}}\n",
    "    #plot it\n",
    "    sw.plot(display_fraction=1, width=1000, height=1000, style=style, percentile=0)\n",
    "\n",
    "def plotTract(tractIn):\n",
    "    import numpy as np\n",
    "    from dipy.viz import window, actor\n",
    "    renderer = window.Scene()\n",
    "    stream_actor = actor.line(tractIn)\n",
    "    #renderer.set_camera(position=(-176.42, 118.52, 128.20),\n",
    "    #               focal_point=(113.30, 128.31, 76.56),\n",
    "    #                view_up=(0.18, 0.00, 0.98))\n",
    "    %matplotlib inline\n",
    "    renderer.add(stream_actor)\n",
    "    \n",
    "    window.show(renderer, size=(600, 600), reset_camera=True)\n",
    "\n",
    "def updateFunction(regionIndex1,regionIndex2):\n",
    "    currentRenumberIndex1=regionIndex1    \n",
    "    currentRenumberIndex2=regionIndex2   \n",
    " \n",
    "    \n",
    "    #check to make sure this pairing is actually in the connections\n",
    "    if np.logical_or((currentRenumberIndex1,currentRenumberIndex2) in grouping.keys(),(currentRenumberIndex1,currentRenumberIndex2) in grouping.keys()): \n",
    "        #if they are both there do it (dipy method may preclude this)\n",
    "        if np.logical_and((currentRenumberIndex1,currentRenumberIndex2) in grouping.keys(),(currentRenumberIndex1,currentRenumberIndex2) in grouping.keys()): \n",
    "            currentIndexes=np.concatenate((np.asarray(grouping[currentRenumberIndex1,currentRenumberIndex2]),np.asarray(grouping[currentRenumberIndex2,currentRenumberIndex1]))).astype(int)\n",
    "        elif (currentRenumberIndex1,currentRenumberIndex2) in grouping.keys():\n",
    "            currentIndexes=grouping[currentRenumberIndex1,currentRenumberIndex2]\n",
    "        elif (currentRenumberIndex2,currentRenumberIndex1) in grouping.keys():\n",
    "            currentIndexes=grouping[currentRenumberIndex2,currentRenumberIndex1]\n",
    "        #there are no other potential cases\n",
    "        subTractogram=extractSubTractogram(sourceTractogram,currentIndexes)\n",
    "        %matplotlib inline\n",
    "        plotParcellationConnectionWidget(subTractogram.streamlines)\n",
    "    else:\n",
    "        print('connection not present')\n",
    "\n",
    "dropDownList=list(zip(grossAnatList, range(len(grossAnatList))))\n",
    "\n",
    "from ipywidgets import interact, interactive, fixed, interact_manual\n",
    "from ipywidgets import Dropdown\n",
    "\n",
    "#establish interactivity\n",
    "interact(updateFunction, \n",
    "         regionIndex1=Dropdown(options=dropDownList, value=9, description=\"region1\"), \n",
    "         regionIndex2=Dropdown(options=dropDownList, value=10, description=\"region2\"),\n",
    "        )\n",
    "#create a boolean vector for the category outputs\n",
    "categoryBool=np.zeros(len(sourceTractogram.streamlines),dtype=int)\n",
    "leftBool=np.zeros(len(sourceTractogram.streamlines),dtype=int)\n",
    "rightBool=np.zeros(len(sourceTractogram.streamlines),dtype=int)\n",
    "\n",
    "categoryBool[np.union1d(grouping[9,10],grouping[10,9])]=True\n",
    "#1 is left hemisphere, 2 is right, 0 is both/neither/midline\n",
    "leftBool[hemiGrouping[1,1]]=True\n",
    "rightBool[hemiGrouping[2,2]]=True"
   ]
  },
  {
   "cell_type": "markdown",
   "metadata": {},
   "source": [
    "## Establish more specific endpoint criteria (loosely)\n",
    "\n",
    "As it turns out, we do not actually need to include additional endpoint criteria for the IFOF given how distinct it is.  The only other streamlines in this category are extremely dorsal to the IFOF candidates, and are most likely associated with the superior longitudinal fasciculus ([SLF](https://en.wikipedia.org/wiki/Superior_longitudinal_fasciculus)) (although there has been some debate as to the existence of a superior fronto-occipital fasciculus, it is currently accepted that no such structure exists in humans ([Liu et al., 2020](https://doi.org/10.1016/j.nicl.2020.102192)).  \n",
    "\n",
    "As such we can move on to using other anatomical criteria.\n",
    "\n",
    "## Other anatomical criteria\n",
    "\n",
    "One of the most characteristic features of the IFOF is the 'dip' that occurs adjacent to the [lenticular nucleus](https://en.wikipedia.org/wiki/Lentiform_nucleus), near the [claustrum](https://en.wikipedia.org/wiki/Claustrum).  Overall, our goal will be to apply an exclusion plane to prevent streamlines from traversing the dorsal portion of the brain's white matter.  In order to enshrine that as a criteria we have to approach it in several steps.\n",
    "\n",
    "### Lenticular-dip criteria \n",
    "\n",
    "#### Lenticular-dip criteria  - segmentation logic\n",
    "First, we have to specify the rostro-caudal location of where we want to ensure that this dip takes place.  The dip is near to its lowest around the middle (along the rostral-caudal axis) of the lenticular nucleus.  This, as it turns out, is about the anterior border of the thalamus.  Insofar as the dorso-ventral positioning of this feature, the top of the [globus pallidus](https://en.wikipedia.org/wiki/Globus_pallidus) can serve as a relatively generous limitation (in that the dip typically occurs inferior to this plane; see pg 204 of Mai, Majtanik, & Paxinos 2016).  Note that, in order to use this combination of anatomical features, we will need to use the sliceROIwithPlane function.\n",
    "    "
   ]
  },
  {
   "cell_type": "code",
   "execution_count": 3,
   "metadata": {},
   "outputs": [
    {
     "data": {
      "text/plain": [
       "[Text(0, 0.5, 'category'),\n",
       " None,\n",
       " Text(0.5, 0, 'streamline count (log)'),\n",
       " Text(0.5, 1.0, 'effect of  Lenticular-dip criteria')]"
      ]
     },
     "execution_count": 3,
     "metadata": {},
     "output_type": "execute_result"
    },
    {
     "data": {
      "image/png": "[encoded data removed]",
      "text/plain": [
       "<Figure size 432x288 with 1 Axes>"
      ]
     },
     "metadata": {
      "needs_background": "light"
     },
     "output_type": "display_data"
    }
   ],
   "source": [
    "anteriorThalPlane=WMA_pyFuncs.planarROIFromAtlasLabelBorder(atlasImg,10, 'anterior')\n",
    "\n",
    "superiorPalPlane=WMA_pyFuncs.planarROIFromAtlasLabelBorder(atlasImg,13, 'superior')\n",
    "\n",
    "excludeVentTractsPlane=WMA_pyFuncs.sliceROIwithPlane(anteriorThalPlane,superiorPalPlane,'inferior') \n",
    "\n",
    "GPdipBool=WMA_pyFuncs.applyNiftiCriteriaToTract(sourceTractogram.streamlines, excludeVentTractsPlane, True, 'any')\n",
    "\n",
    "GPdipLogicMatrix=WMA_pyFuncs.maskMatrixByBoolVec(grouping,GPdipBool)\n",
    "#sum across columns and make an array\n",
    "compareCriteriaArray=np.vstack((np.sum(M,axis=1),np.sum(GPdipLogicMatrix,axis=1)))\n",
    "#use pandas to create a dataframe for this\n",
    "comparisonFrame=pd.DataFrame(data=compareCriteriaArray,columns=grossAnatList,index=['pre-criteria','post-criteria'])\n",
    "meltedFrame=pd.melt(comparisonFrame.reset_index(),id_vars='index')\n",
    "\n",
    "criteriaBarPlot=sns.barplot(data=meltedFrame,y='variable',x='value',hue='index')\n",
    "criteriaBarPlot.set(xlabel='streamline count (log)', ylabel='category',xscale='log',title='effect of  Lenticular-dip criteria')"
   ]
  },
  {
   "cell_type": "markdown",
   "metadata": {},
   "source": [
    "#### Lenticular-dip criteria  - observations\n",
    "\n",
    "Looking at the above graph, we can note that this criteria had a relatively dramatic effect.  However, given that this was the application of a simple exclusion plane (which we have seen with much less dramatic effect before), we might be curious as to why it achieved this effect.  Remember back to how we loaded particular tractograms earlier, which featured streamlines in excess of 100 mm.  As it turns out, there's a relatively limited number of ways for streamlines to achieve that length, and running the entire rostro-caudal span of the white matter appears to be a fairly common way to do this.  By applying a fairly stringent partial planar criteria (in that only a small portion of the coronal cross-section of the white matter has been spared) along the rostral-caudal axis, we have imposed a strong limitation as to where the streamlines can go.  Indeed, this criteria, combined with the categorical requirement, is all that we need to actually segment the IFOF.  As such, we can move on to visualizing the resultant tract.\n",
    "\n",
    "## Combine criteria and visualize\n",
    "\n",
    "Below, we will selectively apply the criteria we have created and visualize the output.\n",
    "\n",
    "Note that, although we can't really see the impact of the lenticular-dip when looking at it on its own, the effect becomes apparent when we look at it in combination with the fronto-occipital category."
   ]
  },
  {
   "cell_type": "code",
   "execution_count": 4,
   "metadata": {},
   "outputs": [
    {
     "data": {
      "application/vnd.jupyter.widget-view+json": {
       "model_id": "f7f966007eac48e9963654b63516ec4e",
       "version_major": 2,
       "version_minor": 0
      },
      "text/plain": [
       "interactive(children=(SelectMultiple(description='criteria', index=(0, 1, 2), options=('Lenticular-dip', 'Cate…"
      ]
     },
     "metadata": {},
     "output_type": "display_data"
    },
    {
     "data": {
      "text/plain": [
       "<function __main__.updateSeg(commandIn)>"
      ]
     },
     "execution_count": 4,
     "metadata": {},
     "output_type": "execute_result"
    }
   ],
   "source": [
    "from ipywidgets import interact, interactive, fixed, interact_manual\n",
    "from ipywidgets import SelectMultiple\n",
    "\n",
    "criteriaList=['Lenticular-dip','Category','Right hemisphere','Left hemisphere']\n",
    "\n",
    "def interpretCriteria(x):\n",
    "    #might do some weird stuff for equal values\n",
    "    import numpy as np\n",
    "    return {\n",
    "            'Lenticular-dip': GPdipBool,\n",
    "            'Category': categoryBool,\n",
    "            'Right hemisphere': rightBool,\n",
    "            'Left hemisphere': leftBool,\n",
    "        }[x]\n",
    "\n",
    "def updateSeg(commandIn):\n",
    "    import numpy as np\n",
    "    if len(commandIn)>0:\n",
    "        criteriaOutArray=np.asarray(list(map(interpretCriteria,commandIn)))\n",
    "        currentIndexes=np.concatenate(np.where(np.all(criteriaOutArray,axis=0)))\n",
    "        \n",
    "        subTractogram=extractSubTractogram(sourceTractogram,currentIndexes)\n",
    "        %matplotlib inline\n",
    "        if len(subTractogram.streamlines)>0:\n",
    "            plotParcellationConnectionWidget(subTractogram.streamlines)\n",
    "        else:\n",
    "            print('no streamlines meet specified criteria')\n",
    "\n",
    "#establish interactivity\n",
    "interact(updateSeg, commandIn=SelectMultiple(options=criteriaList,value=criteriaList[0:-1], description='criteria',continuous_update=False,disabled=False))"
   ]
  },
  {
   "cell_type": "markdown",
   "metadata": {},
   "source": [
    "## Wrapping up\n",
    "\n",
    "In this chapter we demonstrated how to segment a second white matter structure, the inferior fronto-occipital fasciculus (IFOF).  For now, this concludes the example segmentations we'll provide in this lesson set.  For an example of other possible segmentations to implement as practice check [here](https://github.com/DanNBullock/wma_tools/blob/master/Segmentations/bsc_segmentAntPostTracts_v4.m#L75-L501).  \n",
    "\n",
    "We'll next move on to some closing thoughts."
   ]
  }
 ],
 "metadata": {
  "kernelspec": {
   "display_name": "Python 3",
   "language": "python",
   "name": "python3"
  },
  "language_info": {
   "codemirror_mode": {
    "name": "ipython",
    "version": 3
   },
   "file_extension": ".py",
   "mimetype": "text/x-python",
   "name": "python",
   "nbconvert_exporter": "python",
   "pygments_lexer": "ipython3",
   "version": "3.7.5"
  }
 },
 "nbformat": 4,
 "nbformat_minor": 2
}
